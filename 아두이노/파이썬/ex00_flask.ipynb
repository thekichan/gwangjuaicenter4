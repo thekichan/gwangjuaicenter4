{
 "cells": [
  {
   "cell_type": "markdown",
   "id": "3f03d4fb",
   "metadata": {},
   "source": [
    "# Server를 만들자"
   ]
  },
  {
   "cell_type": "markdown",
   "id": "e8a1043f",
   "metadata": {},
   "source": [
    "# Protocol, 보안, ~~\n",
    " --> 웹 프레임워크\n",
    "# Python 웹 프레임워크\n",
    "- Flask : 웹 마이크로 프레임워크 (Django대비 상대적으로 가볍다!!)"
   ]
  },
  {
   "cell_type": "code",
   "execution_count": null,
   "id": "30e5e176",
   "metadata": {},
   "outputs": [],
   "source": [
    "# 설치\n",
    "!pip3 install flask"
   ]
  },
  {
   "cell_type": "code",
   "execution_count": null,
   "id": "145a768e",
   "metadata": {},
   "outputs": [],
   "source": [
    "import flask"
   ]
  },
  {
   "cell_type": "code",
   "execution_count": null,
   "id": "2d5e0e81",
   "metadata": {},
   "outputs": [],
   "source": [
    "from flask import Flask, request\n",
    "\n",
    "#Flask 클래스를 생성하겠다!!\n",
    "#생성된 클래스 -> 인스턴스\n",
    "app = Flask(__name__)\n",
    "\n",
    "\n",
    "result = '{\"led\":\"0\"}'\n",
    "\n",
    "\n",
    "@app.route('/')\n",
    "def index():\n",
    "    return '<h1>기찬의 홈페이지</h1>'\n",
    "\n",
    "@app.route('/state')\n",
    "def state():\n",
    "    \n",
    "    global result\n",
    "        \n",
    "    return result\n",
    "\n",
    "@app.route('/led/on')\n",
    "def led_on():\n",
    "    \n",
    "    \n",
    "    global result\n",
    "    \n",
    "    result = '{\"led\":\"1\"}'\n",
    "    \n",
    "    return 'LED ON'\n",
    "\n",
    "@app.route('/led/off')\n",
    "def led_off():\n",
    "    \n",
    "    global result\n",
    "    \n",
    "    result = '{\"led\":\"0\"}'\n",
    "    \n",
    "    return 'LED OFF'\n",
    "\n",
    "\n",
    "\n",
    "@app.route('/hello', methods=['GET'])\n",
    "def hi():\n",
    "    \n",
    "    #  요청 객체 안에 담겨있는 정보를 꺼내자\n",
    "    # GET -> request.args[키값]\n",
    "    \n",
    "    name = request.args['apple']\n",
    "    print(name)\n",
    "    \n",
    "    \n",
    "    result = f'{name}님 환영합니다'\n",
    "    \n",
    "    return result\n",
    "\n",
    "\n",
    "if __name__ == '__main__':\n",
    "    app.run(port=5021)\n",
    "    \n",
    "    \n",
    "\n"
   ]
  },
  {
   "attachments": {
    "image.png": {
     "image/png": "[encoded data removed]"
    }
   },
   "cell_type": "markdown",
   "id": "dd930411",
   "metadata": {},
   "source": [
    "![image.png](attachment:image.png)"
   ]
  },
  {
   "cell_type": "markdown",
   "id": "c45780d8",
   "metadata": {},
   "source": [
    "# data 전송방식!!"
   ]
  },
  {
   "cell_type": "code",
   "execution_count": null,
   "id": "b65ff289",
   "metadata": {},
   "outputs": [],
   "source": [
    " - URL에 ? 붙여서 key, value를 통해 data 전송\n",
    " - 박스오피스순위웹페이지 ?targetDt=20230625\n",
    " - 장점 : 내가 원하는 정보를 공유 가능 https://www.coupang.com/vp/products/60621638?itemId=207972808&vendorItemId=3492457199\n",
    " - 단점 : 보안에 취약"
   ]
  },
  {
   "cell_type": "markdown",
   "id": "f91b3ace",
   "metadata": {},
   "source": [
    "- POST 방식 : 패킷내에 정보를 담아 전송하는 방식"
   ]
  },
  {
   "cell_type": "markdown",
   "id": "18f9280b",
   "metadata": {},
   "source": [
    "- 보안에 강력 / 공유가 불가능"
   ]
  },
  {
   "cell_type": "markdown",
   "id": "21b6cf23",
   "metadata": {},
   "source": [
    "### 1. hello라는 사이트 만들어서\n",
    "### 2. 이름 정보 보내자!! (key : apple)\n",
    "### 3. apple을 열어서 그 값을 phthon에 출력\n",
    "### 4. 웹 사이트에도 '나예호님 환영합니다'"
   ]
  },
  {
   "cell_type": "code",
   "execution_count": null,
   "id": "22392172",
   "metadata": {},
   "outputs": [
    {
     "name": "stdout",
     "output_type": "stream",
     "text": [
      " * Serving Flask app '__main__'\n",
      " * Debug mode: off\n"
     ]
    },
    {
     "name": "stderr",
     "output_type": "stream",
     "text": [
      "WARNING: This is a development server. Do not use it in a production deployment. Use a production WSGI server instead.\n",
      " * Running on http://127.0.0.1:5021\n",
      "Press CTRL+C to quit\n",
      "127.0.0.1 - - [26/Jun/2023 15:41:08] \"GET / HTTP/1.1\" 200 -\n",
      "127.0.0.1 - - [26/Jun/2023 15:41:18] \"GET /state HTTP/1.1\" 200 -\n",
      "127.0.0.1 - - [26/Jun/2023 15:41:27] \"GET / HTTP/1.1\" 200 -\n",
      "127.0.0.1 - - [26/Jun/2023 15:41:38] \"GET /led/on HTTP/1.1\" 200 -\n",
      "127.0.0.1 - - [26/Jun/2023 15:41:55] \"GET /led/on HTTP/1.1\" 200 -\n",
      "127.0.0.1 - - [26/Jun/2023 15:41:55] \"GET /led/on HTTP/1.1\" 200 -\n",
      "127.0.0.1 - - [26/Jun/2023 15:41:56] \"GET /led/on HTTP/1.1\" 200 -\n",
      "127.0.0.1 - - [26/Jun/2023 15:41:56] \"GET /led/on HTTP/1.1\" 200 -\n",
      "127.0.0.1 - - [26/Jun/2023 15:42:31] \"GET / HTTP/1.1\" 200 -\n",
      "127.0.0.1 - - [26/Jun/2023 15:42:40] \"GET /state HTTP/1.1\" 200 -\n",
      "127.0.0.1 - - [26/Jun/2023 15:42:45] \"GET /state HTTP/1.1\" 200 -\n",
      "127.0.0.1 - - [26/Jun/2023 15:42:45] \"GET /state HTTP/1.1\" 200 -\n",
      "127.0.0.1 - - [26/Jun/2023 15:42:46] \"GET /state HTTP/1.1\" 200 -\n",
      "127.0.0.1 - - [26/Jun/2023 15:42:46] \"GET /state HTTP/1.1\" 200 -\n",
      "127.0.0.1 - - [26/Jun/2023 15:42:46] \"GET /state HTTP/1.1\" 200 -\n",
      "127.0.0.1 - - [26/Jun/2023 15:42:46] \"GET /state HTTP/1.1\" 200 -\n",
      "127.0.0.1 - - [26/Jun/2023 15:43:12] \"GET /led/off HTTP/1.1\" 200 -\n",
      "127.0.0.1 - - [26/Jun/2023 15:43:18] \"GET /state HTTP/1.1\" 200 -\n",
      "127.0.0.1 - - [26/Jun/2023 15:43:33] \"GET /led/on HTTP/1.1\" 200 -\n",
      "127.0.0.1 - - [26/Jun/2023 15:43:37] \"GET /state HTTP/1.1\" 200 -\n",
      "127.0.0.1 - - [26/Jun/2023 15:43:43] \"GET /led/off HTTP/1.1\" 200 -\n",
      "127.0.0.1 - - [26/Jun/2023 15:43:46] \"GET /state HTTP/1.1\" 200 -\n",
      "127.0.0.1 - - [26/Jun/2023 16:08:29] \"GET / HTTP/1.1\" 200 -\n",
      "127.0.0.1 - - [26/Jun/2023 16:08:35] \"GET /state HTTP/1.1\" 200 -\n",
      "127.0.0.1 - - [26/Jun/2023 16:09:09] \"GET /led/on HTTP/1.1\" 200 -\n",
      "127.0.0.1 - - [26/Jun/2023 16:09:17] \"GET /state HTTP/1.1\" 200 -\n",
      "127.0.0.1 - - [26/Jun/2023 16:10:15] \"GET /led/on HTTP/1.1\" 200 -\n",
      "127.0.0.1 - - [26/Jun/2023 16:10:22] \"GET /state HTTP/1.1\" 200 -\n",
      "127.0.0.1 - - [26/Jun/2023 16:11:30] \"GET /state HTTP/1.1\" 200 -\n",
      "127.0.0.1 - - [26/Jun/2023 16:11:30] \"GET /state HTTP/1.1\" 200 -\n",
      "127.0.0.1 - - [26/Jun/2023 16:11:30] \"GET /state HTTP/1.1\" 200 -\n",
      "127.0.0.1 - - [26/Jun/2023 16:11:31] \"GET /state HTTP/1.1\" 200 -\n",
      "127.0.0.1 - - [26/Jun/2023 16:11:35] \"GET /led/on HTTP/1.1\" 200 -\n",
      "127.0.0.1 - - [26/Jun/2023 16:11:35] \"GET /led/on HTTP/1.1\" 200 -\n",
      "127.0.0.1 - - [26/Jun/2023 16:11:35] \"GET /led/on HTTP/1.1\" 200 -\n",
      "127.0.0.1 - - [26/Jun/2023 16:11:46] \"GET /led/off HTTP/1.1\" 200 -\n",
      "127.0.0.1 - - [26/Jun/2023 16:11:52] \"GET /state HTTP/1.1\" 200 -\n",
      "127.0.0.1 - - [26/Jun/2023 16:11:53] \"GET /state HTTP/1.1\" 200 -\n",
      "127.0.0.1 - - [26/Jun/2023 16:15:19] \"GET /led/on HTTP/1.1\" 200 -\n",
      "127.0.0.1 - - [26/Jun/2023 16:15:22] \"GET /state HTTP/1.1\" 200 -\n",
      "127.0.0.1 - - [26/Jun/2023 16:15:23] \"GET /state HTTP/1.1\" 200 -\n",
      "127.0.0.1 - - [26/Jun/2023 16:15:23] \"GET /state HTTP/1.1\" 200 -\n",
      "127.0.0.1 - - [26/Jun/2023 16:15:24] \"GET /state HTTP/1.1\" 200 -\n",
      "127.0.0.1 - - [26/Jun/2023 16:15:31] \"GET /led/off HTTP/1.1\" 200 -\n",
      "127.0.0.1 - - [26/Jun/2023 16:15:36] \"GET /state HTTP/1.1\" 200 -\n",
      "127.0.0.1 - - [26/Jun/2023 16:52:02] \"GET / HTTP/1.1\" 200 -\n",
      "127.0.0.1 - - [26/Jun/2023 16:52:03] \"GET /favicon.ico HTTP/1.1\" 404 -\n"
     ]
    }
   ],
   "source": [
    "from flask import Flask, request\n",
    "\n",
    "# Flask 클래스를 생성하겠다!!\n",
    "# 생성된 클래스 -> 인스턴스\n",
    "app = Flask(__name__)\n",
    "\n",
    "result = '{\"led\":\"0\"}'\n",
    "\n",
    "@app.route('/')\n",
    "def index():\n",
    "    return '<h1>나예호의 홈페이지</h1>'\n",
    "\n",
    "@app.route('/state')\n",
    "def state():\n",
    "\n",
    "    global result\n",
    "    return result\n",
    "\n",
    "@app.route('/led/on')\n",
    "def led_on():\n",
    "    \n",
    "    global result\n",
    "    result = '{\"led\":\"1\"}'\n",
    "\n",
    "    return 'LED ON'\n",
    "\n",
    "@app.route('/led/off')\n",
    "def led_off():\n",
    "    \n",
    "    global result\n",
    "    result = '{\"led\":\"0\"}'\n",
    "    \n",
    "    return 'LED OFF'\n",
    "    \n",
    "@app.route('/hello', methods=['GET'])\n",
    "def hi():\n",
    "    \n",
    "    # 요청 객체 안에 담겨 있는 정보를 꺼내자\n",
    "    # GET -> request.args['키값']\n",
    "    name = request.args['apple']\n",
    "    print(name)\n",
    "    \n",
    "    result = f'{name}님 환영합니다'\n",
    "        \n",
    "    return result\n",
    "\n",
    "if __name__ == '__main__':\n",
    "    app.run(port=5021)\n",
    "    "
   ]
  },
  {
   "cell_type": "code",
   "execution_count": null,
   "id": "be872780",
   "metadata": {},
   "outputs": [],
   "source": []
  },
  {
   "cell_type": "code",
   "execution_count": null,
   "id": "940d4299",
   "metadata": {},
   "outputs": [],
   "source": []
  },
  {
   "cell_type": "code",
   "execution_count": null,
   "id": "71dcec37",
   "metadata": {},
   "outputs": [],
   "source": []
  },
  {
   "cell_type": "code",
   "execution_count": null,
   "id": "a76ab068",
   "metadata": {},
   "outputs": [],
   "source": []
  },
  {
   "cell_type": "code",
   "execution_count": null,
   "id": "d6fed370",
   "metadata": {},
   "outputs": [],
   "source": []
  }
 ],
 "metadata": {
  "kernelspec": {
   "display_name": "Python 3 (ipykernel)",
   "language": "python",
   "name": "python3"
  },
  "language_info": {
   "codemirror_mode": {
    "name": "ipython",
    "version": 3
   },
   "file_extension": ".py",
   "mimetype": "text/x-python",
   "name": "python",
   "nbconvert_exporter": "python",
   "pygments_lexer": "ipython3",
   "version": "3.10.9"
  }
 },
 "nbformat": 4,
 "nbformat_minor": 5
}

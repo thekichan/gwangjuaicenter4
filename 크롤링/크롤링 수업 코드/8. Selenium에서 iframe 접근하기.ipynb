{
 "cells": [
  {
   "cell_type": "code",
   "execution_count": null,
   "id": "05feb5be",
   "metadata": {},
   "outputs": [],
   "source": [
    "# 네이버 지도에서 '광주맛집'"
   ]
  },
  {
   "cell_type": "code",
   "execution_count": 1,
   "id": "097dc475",
   "metadata": {},
   "outputs": [],
   "source": [
    "from selenium import webdriver as wb\n",
    "from selenium.webdriver.common.keys import Keys\n",
    "from selenium.webdriver.common.by import By\n",
    "import time"
   ]
  },
  {
   "cell_type": "code",
   "execution_count": 2,
   "id": "f3f91686",
   "metadata": {},
   "outputs": [],
   "source": [
    "driver = wb.Chrome()\n",
    "driver.get('https://map.naver.com/v5/search/%EA%B4%91%EC%A3%BC%EB%A7%9B%EC%A7%91?c=10,0,0,0,dh')"
   ]
  },
  {
   "cell_type": "code",
   "execution_count": 3,
   "id": "60729d72",
   "metadata": {},
   "outputs": [],
   "source": [
    "# Selenium에서서는 iframe에 접근할때 페이지의 url이 필요 없음\n",
    "# switch_to.frame(id) : iframe에 페이지 변환없이 접근 가능\n",
    "driver.switch_to.frame('searchIframe')"
   ]
  },
  {
   "cell_type": "code",
   "execution_count": 4,
   "id": "f165efbb",
   "metadata": {},
   "outputs": [
    {
     "data": {
      "text/plain": [
       "'육전 한옥'"
      ]
     },
     "execution_count": 4,
     "metadata": {},
     "output_type": "execute_result"
    }
   ],
   "source": [
    "title = driver.find_element(By.CSS_SELECTOR,'#_pcmap_list_scroll_container > ul > li:nth-child(3) > div.CHC5F > a.tzwk0 > div > div > span.place_bluelink.TYaxT')\n",
    "title.text"
   ]
  },
  {
   "cell_type": "code",
   "execution_count": 6,
   "id": "8e390050",
   "metadata": {},
   "outputs": [],
   "source": [
    "# iframe 빠져나오기 \n",
    "# iframe에서 정보를 다 추출한 후에는 반드시 빠져나와야함\n",
    "# iframe 밖에있는 정보를 추출 가능\n",
    "driver.switch_to.default_content()"
   ]
  },
  {
   "cell_type": "code",
   "execution_count": null,
   "id": "7e488a8e",
   "metadata": {},
   "outputs": [],
   "source": [
    "# 유튜브 댓글 수집\n",
    "# "
   ]
  }
 ],
 "metadata": {
  "kernelspec": {
   "display_name": "Python 3 (ipykernel)",
   "language": "python",
   "name": "python3"
  },
  "language_info": {
   "codemirror_mode": {
    "name": "ipython",
    "version": 3
   },
   "file_extension": ".py",
   "mimetype": "text/x-python",
   "name": "python",
   "nbconvert_exporter": "python",
   "pygments_lexer": "ipython3",
   "version": "3.10.9"
  }
 },
 "nbformat": 4,
 "nbformat_minor": 5
}

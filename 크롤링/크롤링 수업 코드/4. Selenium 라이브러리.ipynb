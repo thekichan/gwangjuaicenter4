{
 "cells": [
  {
   "cell_type": "code",
   "execution_count": null,
   "id": "90b19cba",
   "metadata": {},
   "outputs": [],
   "source": [
    "# 크롤링\n",
    "# 웹에있는 정보 수집하기"
   ]
  },
  {
   "cell_type": "code",
   "execution_count": null,
   "id": "a590344e",
   "metadata": {},
   "outputs": [],
   "source": [
    "# 크롬 열기\n",
    "# 바디럽 검색하기\n",
    "# 수집하고싶은 페이지 결정하기\n",
    "# 페이지에 들어가기 > url 가져오기"
   ]
  },
  {
   "cell_type": "code",
   "execution_count": null,
   "id": "a7a6be9f",
   "metadata": {},
   "outputs": [],
   "source": [
    "# 셀레니움\n",
    "# 크롤링시 거의 모든걸 자동으로 해줄 수 있음\n",
    "# 코드를 엄청 자세하게 적어줘야함\n",
    "# 크롬 열기\n",
    "# 바디럽 검색하기\n",
    "# 바디럽 페이지 열기\n",
    "# 1. 크롬창 열기\n",
    "# 2. 네이버창 열기\n",
    "# 3. 검색 바 찾기\n",
    "# 4. 바디럽 입력하기\n",
    "# 5. 검색 버튼 누르기\n",
    "# 6. 검색 결과에서 바디럽 클릭하기"
   ]
  },
  {
   "cell_type": "code",
   "execution_count": 1,
   "id": "cabff57a",
   "metadata": {},
   "outputs": [
    {
     "name": "stdout",
     "output_type": "stream",
     "text": [
      "Requirement already satisfied: selenium in c:\\users\\user\\anaconda3\\lib\\site-packages (3.141.0)\n",
      "Requirement already satisfied: urllib3 in c:\\users\\user\\anaconda3\\lib\\site-packages (from selenium) (1.26.6)\n"
     ]
    }
   ],
   "source": [
    "!pip install selenium"
   ]
  },
  {
   "cell_type": "code",
   "execution_count": 39,
   "id": "e9b70883",
   "metadata": {},
   "outputs": [],
   "source": [
    "from selenium import webdriver as wb # 브라우저(chrome, edge)\n",
    "from selenium.webdriver.common.keys import Keys # 키보드\n",
    "from selenium.webdriver.common.by import By # 특정 대상 지정\n",
    "import time # 특정 분기점(페이지가 변할때)마다 약간의 딜레이를 주자"
   ]
  },
  {
   "cell_type": "code",
   "execution_count": 40,
   "id": "bf29ee58",
   "metadata": {},
   "outputs": [],
   "source": [
    "# 크롬열기\n",
    "# chromewebdriver의 위치를 맞춰주자\n",
    "# 사용하는 jupyter파일과 동일하게\n",
    "driver = wb.Chrome()\n",
    "\n",
    "# 네이버 페이지 접근하기\n",
    "# driver = 브라우저의 역할을함(requests)\n",
    "# 정보를 응답받으려면 해당 페이지를 요청해야함\n",
    "driver.get('https://www.naver.com')\n",
    "# 이미 html코드를 잘 가지고 있는 상태 따라서 beautifulsoup 사용 안해도됨\n",
    "time.sleep(1) # 해당 코드는 1초후에 다음으로 넘어가기\n",
    "\n",
    "# 광주 날씨 검색하기\n",
    "# 1. 검색창 찾기 id : query\n",
    "# By.ID : id값으로 대상을 찾겠다\n",
    "search = driver.find_element(By.ID,'query')\n",
    "# 2. 광주 날씨 입력\n",
    "# send_keys(입력값) : 입력값 전달하기\n",
    "search.send_keys('광주날씨')\n",
    "# 3. 검색 버튼 누르기 (엔터치기)\n",
    "search.send_keys(Keys.ENTER)\n",
    "time.sleep(1)\n",
    "# 페이지 뒤로가기\n",
    "driver.back()\n",
    "time.sleep(1)\n",
    "# 서울 날씨 검색하기\n",
    "# 페이지가 바뀌면 기존 변수들이 사라짐\n",
    "# 페이지 변환시 새롭게 선언\n",
    "search = driver.find_element(By.ID,'query')\n",
    "search.send_keys('서울날씨')\n",
    "# 돋보기 찾기\n",
    "btn = driver.find_element(By.ID,'search-btn')\n",
    "# 돋보기 클릭\n",
    "btn.click()\n",
    "time.sleep(1)\n",
    "# 크롬닫기\n",
    "driver.close()"
   ]
  },
  {
   "cell_type": "code",
   "execution_count": null,
   "id": "f55f0ba7",
   "metadata": {},
   "outputs": [],
   "source": [
    "## 차근차근 자세하게 적어줘야함"
   ]
  },
  {
   "cell_type": "code",
   "execution_count": null,
   "id": "79d999d9",
   "metadata": {},
   "outputs": [],
   "source": []
  },
  {
   "cell_type": "code",
   "execution_count": null,
   "id": "eca91c12",
   "metadata": {},
   "outputs": [],
   "source": []
  },
  {
   "cell_type": "code",
   "execution_count": null,
   "id": "08b395ad",
   "metadata": {},
   "outputs": [],
   "source": []
  },
  {
   "cell_type": "code",
   "execution_count": null,
   "id": "11d7f9dc",
   "metadata": {},
   "outputs": [],
   "source": []
  },
  {
   "cell_type": "code",
   "execution_count": null,
   "id": "57b69ba9",
   "metadata": {},
   "outputs": [],
   "source": []
  },
  {
   "cell_type": "code",
   "execution_count": null,
   "id": "9c090bea",
   "metadata": {},
   "outputs": [],
   "source": []
  },
  {
   "cell_type": "code",
   "execution_count": null,
   "id": "46c89a9e",
   "metadata": {},
   "outputs": [],
   "source": []
  },
  {
   "cell_type": "code",
   "execution_count": null,
   "id": "a0f8ec1e",
   "metadata": {},
   "outputs": [],
   "source": []
  },
  {
   "cell_type": "code",
   "execution_count": null,
   "id": "954dbb01",
   "metadata": {},
   "outputs": [],
   "source": []
  },
  {
   "cell_type": "code",
   "execution_count": null,
   "id": "ebaa663f",
   "metadata": {},
   "outputs": [],
   "source": []
  },
  {
   "cell_type": "code",
   "execution_count": null,
   "id": "b936b01f",
   "metadata": {},
   "outputs": [],
   "source": []
  },
  {
   "cell_type": "code",
   "execution_count": null,
   "id": "f5f6dd02",
   "metadata": {},
   "outputs": [],
   "source": []
  },
  {
   "cell_type": "code",
   "execution_count": null,
   "id": "c6d92422",
   "metadata": {},
   "outputs": [],
   "source": []
  },
  {
   "cell_type": "code",
   "execution_count": null,
   "id": "2f67835e",
   "metadata": {},
   "outputs": [],
   "source": []
  },
  {
   "cell_type": "code",
   "execution_count": null,
   "id": "af0b860c",
   "metadata": {},
   "outputs": [],
   "source": []
  },
  {
   "cell_type": "code",
   "execution_count": null,
   "id": "a4d8f3e5",
   "metadata": {},
   "outputs": [],
   "source": []
  },
  {
   "cell_type": "code",
   "execution_count": null,
   "id": "688e9809",
   "metadata": {},
   "outputs": [],
   "source": []
  },
  {
   "cell_type": "code",
   "execution_count": null,
   "id": "ab264615",
   "metadata": {},
   "outputs": [],
   "source": []
  },
  {
   "cell_type": "code",
   "execution_count": null,
   "id": "fc951219",
   "metadata": {},
   "outputs": [],
   "source": []
  },
  {
   "cell_type": "code",
   "execution_count": null,
   "id": "9eb9330a",
   "metadata": {},
   "outputs": [],
   "source": []
  },
  {
   "cell_type": "code",
   "execution_count": null,
   "id": "9a30c475",
   "metadata": {},
   "outputs": [],
   "source": []
  },
  {
   "cell_type": "code",
   "execution_count": null,
   "id": "c89b444d",
   "metadata": {},
   "outputs": [],
   "source": []
  },
  {
   "cell_type": "code",
   "execution_count": null,
   "id": "faf93b84",
   "metadata": {},
   "outputs": [],
   "source": []
  },
  {
   "cell_type": "code",
   "execution_count": null,
   "id": "892ef292",
   "metadata": {},
   "outputs": [],
   "source": []
  },
  {
   "cell_type": "code",
   "execution_count": null,
   "id": "1d09a76b",
   "metadata": {},
   "outputs": [],
   "source": []
  },
  {
   "cell_type": "code",
   "execution_count": null,
   "id": "9cb8cf06",
   "metadata": {},
   "outputs": [],
   "source": []
  },
  {
   "cell_type": "code",
   "execution_count": null,
   "id": "5877f452",
   "metadata": {},
   "outputs": [],
   "source": []
  },
  {
   "cell_type": "code",
   "execution_count": null,
   "id": "b665dde2",
   "metadata": {},
   "outputs": [],
   "source": []
  },
  {
   "cell_type": "code",
   "execution_count": null,
   "id": "2fcf2925",
   "metadata": {},
   "outputs": [],
   "source": []
  },
  {
   "cell_type": "code",
   "execution_count": null,
   "id": "bc561c32",
   "metadata": {},
   "outputs": [],
   "source": []
  },
  {
   "cell_type": "code",
   "execution_count": null,
   "id": "14e586ac",
   "metadata": {},
   "outputs": [],
   "source": []
  },
  {
   "cell_type": "code",
   "execution_count": null,
   "id": "249f56ed",
   "metadata": {},
   "outputs": [],
   "source": []
  },
  {
   "cell_type": "code",
   "execution_count": null,
   "id": "cd99f66d",
   "metadata": {},
   "outputs": [],
   "source": []
  },
  {
   "cell_type": "code",
   "execution_count": null,
   "id": "6d765542",
   "metadata": {},
   "outputs": [],
   "source": []
  },
  {
   "cell_type": "code",
   "execution_count": null,
   "id": "a19c4c9d",
   "metadata": {},
   "outputs": [],
   "source": []
  },
  {
   "cell_type": "code",
   "execution_count": null,
   "id": "d1663536",
   "metadata": {},
   "outputs": [],
   "source": []
  },
  {
   "cell_type": "code",
   "execution_count": null,
   "id": "730df464",
   "metadata": {},
   "outputs": [],
   "source": []
  },
  {
   "cell_type": "code",
   "execution_count": null,
   "id": "d68e535f",
   "metadata": {},
   "outputs": [],
   "source": []
  },
  {
   "cell_type": "code",
   "execution_count": null,
   "id": "82ae0a9b",
   "metadata": {},
   "outputs": [],
   "source": []
  },
  {
   "cell_type": "code",
   "execution_count": null,
   "id": "220d2c7d",
   "metadata": {},
   "outputs": [],
   "source": []
  }
 ],
 "metadata": {
  "kernelspec": {
   "display_name": "Python 3 (ipykernel)",
   "language": "python",
   "name": "python3"
  },
  "language_info": {
   "codemirror_mode": {
    "name": "ipython",
    "version": 3
   },
   "file_extension": ".py",
   "mimetype": "text/x-python",
   "name": "python",
   "nbconvert_exporter": "python",
   "pygments_lexer": "ipython3",
   "version": "3.9.12"
  }
 },
 "nbformat": 4,
 "nbformat_minor": 5
}

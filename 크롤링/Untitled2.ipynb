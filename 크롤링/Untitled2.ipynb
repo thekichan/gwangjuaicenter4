{
 "cells": [
  {
   "cell_type": "code",
   "execution_count": 3,
   "id": "98142076",
   "metadata": {},
   "outputs": [],
   "source": [
    "from selenium import webdriver as wb # 브라우저(chrome, edge)\n",
    "from selenium.webdriver.common.keys import Keys # 키보드\n",
    "from selenium.webdriver.common.by import By # 특정 대상 지정\n",
    "import time # 특정 분기점(페이지가 변할 때)마다 약간의 딜레이를 주자\n",
    "\n",
    "import requests\n",
    "from bs4 import BeautifulSoup\n",
    "\n",
    "# Megabox 리뷰 페이지 URL\n",
    "url = \"https://www.megabox.co.kr/movie-detail/comment?rpstMovieNo=23034900\"\n",
    "\n",
    "# GET 요청을 보내고 페이지 내용을 가져옴\n",
    "response = requests.get(url)\n",
    "html_content = response.text\n",
    "\n",
    "# BeautifulSoup을 사용하여 HTML 파싱\n",
    "soup = BeautifulSoup(html_content, \"html.parser\")\n",
    "\n",
    "# 리뷰를 담고 있는 요소 선택\n",
    "review_elements = soup.select(\".review-list > li\")\n",
    "\n",
    "# 리뷰 추출\n",
    "reviews = []\n",
    "for element in review_elements:\n",
    "    review = element.select_one(\".txt-short\").text.strip()\n",
    "    reviews.append(review)\n",
    "\n",
    "# 결과 출력\n",
    "for review in reviews:\n",
    "    print(review)"
   ]
  }
 ],
 "metadata": {
  "kernelspec": {
   "display_name": "Python 3 (ipykernel)",
   "language": "python",
   "name": "python3"
  },
  "language_info": {
   "codemirror_mode": {
    "name": "ipython",
    "version": 3
   },
   "file_extension": ".py",
   "mimetype": "text/x-python",
   "name": "python",
   "nbconvert_exporter": "python",
   "pygments_lexer": "ipython3",
   "version": "3.10.9"
  }
 },
 "nbformat": 4,
 "nbformat_minor": 5
}

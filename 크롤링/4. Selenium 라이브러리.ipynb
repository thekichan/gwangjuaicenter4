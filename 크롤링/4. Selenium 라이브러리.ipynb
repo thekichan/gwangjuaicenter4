{
 "cells": [
  {
   "cell_type": "code",
   "execution_count": 1,
   "id": "259c7bfb",
   "metadata": {},
   "outputs": [],
   "source": [
    "# 크롤링\n",
    "# 웹에 있는 정보 수집하기"
   ]
  },
  {
   "cell_type": "code",
   "execution_count": 2,
   "id": "5c112d28",
   "metadata": {},
   "outputs": [],
   "source": [
    "# 크롬 열기\n",
    "#바디럽 검색하기\n",
    "# 수집하고 싶은 페이지 결정하기\n",
    "# 페이지 들어가기"
   ]
  },
  {
   "cell_type": "code",
   "execution_count": 3,
   "id": "77995452",
   "metadata": {},
   "outputs": [],
   "source": [
    "# 셀레니움\n",
    "# 크롤링 시 거의 모든 걸 자동으로 해줄 수 있음\n",
    "# 코드를 엄청 자세하게 적어줘야함\n",
    "# 크롬 열기\n",
    "# 바디럽 검색하기\n",
    "# "
   ]
  },
  {
   "cell_type": "code",
   "execution_count": 4,
   "id": "8dc2e74b",
   "metadata": {},
   "outputs": [
    {
     "name": "stdout",
     "output_type": "stream",
     "text": [
      "Requirement already satisfied: selenium in c:\\users\\gjaischool\\anaconda3\\lib\\site-packages (4.10.0)\n",
      "Requirement already satisfied: certifi>=2021.10.8 in c:\\users\\gjaischool\\anaconda3\\lib\\site-packages (from selenium) (2022.12.7)\n",
      "Requirement already satisfied: trio-websocket~=0.9 in c:\\users\\gjaischool\\anaconda3\\lib\\site-packages (from selenium) (0.10.3)\n",
      "Requirement already satisfied: trio~=0.17 in c:\\users\\gjaischool\\anaconda3\\lib\\site-packages (from selenium) (0.22.1)\n",
      "Requirement already satisfied: urllib3[socks]<3,>=1.26 in c:\\users\\gjaischool\\anaconda3\\lib\\site-packages (from selenium) (1.26.14)\n",
      "Requirement already satisfied: attrs>=20.1.0 in c:\\users\\gjaischool\\anaconda3\\lib\\site-packages (from trio~=0.17->selenium) (22.1.0)\n",
      "Requirement already satisfied: outcome in c:\\users\\gjaischool\\anaconda3\\lib\\site-packages (from trio~=0.17->selenium) (1.2.0)\n",
      "Requirement already satisfied: exceptiongroup>=1.0.0rc9 in c:\\users\\gjaischool\\anaconda3\\lib\\site-packages (from trio~=0.17->selenium) (1.1.1)\n",
      "Requirement already satisfied: sortedcontainers in c:\\users\\gjaischool\\anaconda3\\lib\\site-packages (from trio~=0.17->selenium) (2.4.0)\n",
      "Requirement already satisfied: sniffio in c:\\users\\gjaischool\\anaconda3\\lib\\site-packages (from trio~=0.17->selenium) (1.2.0)\n",
      "Requirement already satisfied: cffi>=1.14 in c:\\users\\gjaischool\\anaconda3\\lib\\site-packages (from trio~=0.17->selenium) (1.15.1)\n",
      "Requirement already satisfied: idna in c:\\users\\gjaischool\\anaconda3\\lib\\site-packages (from trio~=0.17->selenium) (3.4)\n",
      "Requirement already satisfied: wsproto>=0.14 in c:\\users\\gjaischool\\anaconda3\\lib\\site-packages (from trio-websocket~=0.9->selenium) (1.2.0)\n",
      "Requirement already satisfied: PySocks!=1.5.7,<2.0,>=1.5.6 in c:\\users\\gjaischool\\anaconda3\\lib\\site-packages (from urllib3[socks]<3,>=1.26->selenium) (1.7.1)\n",
      "Requirement already satisfied: pycparser in c:\\users\\gjaischool\\anaconda3\\lib\\site-packages (from cffi>=1.14->trio~=0.17->selenium) (2.21)\n",
      "Requirement already satisfied: h11<1,>=0.9.0 in c:\\users\\gjaischool\\anaconda3\\lib\\site-packages (from wsproto>=0.14->trio-websocket~=0.9->selenium) (0.14.0)\n"
     ]
    }
   ],
   "source": [
    "!pip install selenium"
   ]
  },
  {
   "cell_type": "code",
   "execution_count": 18,
   "id": "69a137d6",
   "metadata": {},
   "outputs": [],
   "source": [
    "from selenium import webdriver as wb # 브라우저(chrome, edge)\n",
    "from selenium.webdriver.common.keys import Keys # 키보드\n",
    "from selenium.webdriver.common.by import By # 특정 대상 지정\n",
    "import time # 특정 분기점(페이지가 변할 때)마다 약간의 딜레이를 주자"
   ]
  },
  {
   "cell_type": "code",
   "execution_count": 20,
   "id": "f44f5bc9",
   "metadata": {},
   "outputs": [],
   "source": [
    "# 크롬 열기\n",
    "# chrome webdriver의 위치를 맞춰주자\n",
    "# 사용하는 jupyter파일과 동일하게\n",
    "driver = wb.Chrome()\n",
    "\n",
    "# 네이버 페이지 접근하기\n",
    "# driver = 브라우저의 역할을 함(requests)\n",
    "# 정보를 응답받으려면 해당 페이지를 요청해야함\n",
    "driver.get('http://www.naver.com')\n",
    "# 이미  html 코드를 잘 가지고 있는 상태 따라서  beautifulsoup 사용 안해도 됨\n",
    "time.sleep(1) # 해당 코드가 1초후에 실행\n",
    "\n",
    "# 광주 날씨 검색하기\n",
    "# 1. 검색창 찾기 id : query\n",
    "# 2. By.ID : id 값으로 대상을 찾겠다\n",
    "search = driver.find_element(By.ID,'query')\n",
    "# 2. 광주 날씨 입력\n",
    "# send_keys(입력값) : 입력값 전달하기\n",
    "search.send_keys('광주날씨')\n",
    "# 3. 검색 버튼 누르기(엔터치기)\n",
    "search.send_keys(Keys.ENTER)\n",
    "time.sleep(1)\n",
    "\n",
    "# 페이지 뒤로가기\n",
    "driver.back()\n",
    "time.sleep(1)\n",
    "# 서울 날씨 검색하기\n",
    "# 페이지가 빠뀌면 기존 변수들이 사라짐\n",
    "# 페이지 변환시 새롭게 선언\n",
    "search = driver.find_element(By.ID,'query')\n",
    "search.send_keys('서울날씨')\n",
    "# 돋보기 클릭하기\n",
    "btn = driver.find_element(By.ID,'search-btn')\n",
    "# 돋보기 클릭\n",
    "btn.click()\n",
    "time.sleep(1)\n",
    "\n",
    "# 크롬 닫기\n",
    "driver.close()"
   ]
  },
  {
   "cell_type": "code",
   "execution_count": null,
   "id": "14b6e539",
   "metadata": {},
   "outputs": [],
   "source": [
    "## 차근차근 자세하게 적어줘야함"
   ]
  },
  {
   "cell_type": "code",
   "execution_count": null,
   "id": "b631eb2f",
   "metadata": {},
   "outputs": [],
   "source": [
    "# 1등부터 10등까지 상품명과 가격"
   ]
  },
  {
   "cell_type": "code",
   "execution_count": null,
   "id": "3a11985d",
   "metadata": {},
   "outputs": [],
   "source": []
  },
  {
   "cell_type": "code",
   "execution_count": null,
   "id": "1cf339d6",
   "metadata": {},
   "outputs": [],
   "source": []
  },
  {
   "cell_type": "code",
   "execution_count": null,
   "id": "298421ab",
   "metadata": {},
   "outputs": [],
   "source": []
  },
  {
   "cell_type": "code",
   "execution_count": null,
   "id": "ece1d48a",
   "metadata": {},
   "outputs": [],
   "source": []
  },
  {
   "cell_type": "code",
   "execution_count": null,
   "id": "e40d4758",
   "metadata": {},
   "outputs": [],
   "source": []
  },
  {
   "cell_type": "code",
   "execution_count": null,
   "id": "026a24da",
   "metadata": {},
   "outputs": [],
   "source": []
  }
 ],
 "metadata": {
  "kernelspec": {
   "display_name": "Python 3 (ipykernel)",
   "language": "python",
   "name": "python3"
  },
  "language_info": {
   "codemirror_mode": {
    "name": "ipython",
    "version": 3
   },
   "file_extension": ".py",
   "mimetype": "text/x-python",
   "name": "python",
   "nbconvert_exporter": "python",
   "pygments_lexer": "ipython3",
   "version": "3.10.9"
  }
 },
 "nbformat": 4,
 "nbformat_minor": 5
}

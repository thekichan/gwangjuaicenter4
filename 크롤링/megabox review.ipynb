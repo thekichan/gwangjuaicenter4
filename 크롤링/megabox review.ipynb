{
 "cells": [
  {
   "cell_type": "code",
   "execution_count": 2,
   "id": "3b5d4c02",
   "metadata": {},
   "outputs": [],
   "source": [
    "from selenium import webdriver as wb # 브라우저(chrome, edge)\n",
    "from selenium.webdriver.common.keys import Keys # 키보드\n",
    "from selenium.webdriver.common.by import By # 특정 대상 지정\n",
    "import time # 특정 분기점(페이지가 변할 때)마다 약간의 딜레이를 주자"
   ]
  },
  {
   "cell_type": "code",
   "execution_count": 5,
   "id": "38e20fff",
   "metadata": {},
   "outputs": [
    {
     "name": "stdout",
     "output_type": "stream",
     "text": [
      "ost좋고 볼만했어요\n",
      "역시 픽사..끝은 항상 감동이네요!!아이들과 잘봤습니다!!\n",
      "오랜만에 디즈니 영화라 너무 설레는 맘으로 보았어요! 어떻게 이런 스토리텔링이 나올 수 있을까 정말 신기했고 재미있었습니다! 감동과 재미를 선사해주어서 감사합니다!\n",
      "저는 그냥 그냥 봤습니다\n",
      "영화관람 잘햇습니다. 물과불이 사랑한다는 것또한 멋져요~\n",
      "애니메이션을 좋아하는데 스토리도 영상도 음악도 모두 좋았어요 훌륭한 영화예요^^\n",
      "애니지만 재미 있었어요\n",
      "영상미가 너무 좋았어요!!\n",
      "재밌고 감동적이에요\n",
      "어른을 어른이로 만들어주는 작품\n"
     ]
    }
   ],
   "source": [
    "driver = wb.Chrome()\n",
    "driver.get('https://www.megabox.co.kr/movie-detail/comment?rpstMovieNo=23034900')\n",
    "title = driver.find_elements(By.CLASS_NAME,'story-txt')\n",
    "for i in title:\n",
    "    print(i.text)"
   ]
  },
  {
   "cell_type": "code",
   "execution_count": null,
   "id": "f2c86b4d",
   "metadata": {},
   "outputs": [],
   "source": []
  },
  {
   "cell_type": "code",
   "execution_count": null,
   "id": "5eb77392",
   "metadata": {},
   "outputs": [],
   "source": []
  },
  {
   "cell_type": "code",
   "execution_count": null,
   "id": "cec1c1ca",
   "metadata": {},
   "outputs": [],
   "source": []
  },
  {
   "cell_type": "code",
   "execution_count": null,
   "id": "14db5a43",
   "metadata": {},
   "outputs": [],
   "source": []
  },
  {
   "cell_type": "code",
   "execution_count": null,
   "id": "268e5bb6",
   "metadata": {},
   "outputs": [],
   "source": []
  }
 ],
 "metadata": {
  "kernelspec": {
   "display_name": "Python 3 (ipykernel)",
   "language": "python",
   "name": "python3"
  },
  "language_info": {
   "codemirror_mode": {
    "name": "ipython",
    "version": 3
   },
   "file_extension": ".py",
   "mimetype": "text/x-python",
   "name": "python",
   "nbconvert_exporter": "python",
   "pygments_lexer": "ipython3",
   "version": "3.10.9"
  }
 },
 "nbformat": 4,
 "nbformat_minor": 5
}

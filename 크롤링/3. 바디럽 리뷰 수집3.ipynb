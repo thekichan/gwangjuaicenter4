{
 "cells": [
  {
   "cell_type": "code",
   "execution_count": 2,
   "id": "9c9c445b",
   "metadata": {},
   "outputs": [],
   "source": [
    "import requests as req\n",
    "from bs4 import BeautifulSoup as bs"
   ]
  },
  {
   "cell_type": "code",
   "execution_count": 5,
   "id": "8d2165c6",
   "metadata": {},
   "outputs": [],
   "source": [
    "url = 'https://bodyluv.kr/product/%EB%B0%94%EB%94%94%EB%9F%BD-%EC%BF%A8-%EC%A0%9C%ED%92%88-%EB%AA%A8%EC%9D%8C%EC%A0%84/562/category/1/display/2/'\n",
    "h = {'User-Agent':'Mozilla/5.0 (Windows NT 10.0; Win64; x64) AppleWebKit/537.36 (KHTML, like Gecko) Chrome/114.0.0.0 Safari/537.36'}\n",
    "res = req.get(url, headers = h)"
   ]
  },
  {
   "cell_type": "code",
   "execution_count": 8,
   "id": "83186bed",
   "metadata": {},
   "outputs": [],
   "source": [
    "soup = bs(res.text, 'lxml')"
   ]
  },
  {
   "cell_type": "code",
   "execution_count": 10,
   "id": "bd337181",
   "metadata": {},
   "outputs": [
    {
     "data": {
      "text/plain": [
       "[]"
      ]
     },
     "execution_count": 10,
     "metadata": {},
     "output_type": "execute_result"
    }
   ],
   "source": [
    "soup.select('div.review_list_v2__message.js-collapsed-review-content.js-translate-text')"
   ]
  },
  {
   "cell_type": "code",
   "execution_count": null,
   "id": "ac79e881",
   "metadata": {},
   "outputs": [],
   "source": [
    "# iframe 태그\n",
    "# 기존 페이지 내에 새로운 페이지를 삽입하는 태그\n",
    "# 리뷰부분은 새로운 페이지를 보여만 주고 있음\n",
    "# 원래 데이터는 다른 페이지에 존재하기 때문에 가져올수 없음\n",
    "# iframe의 원래 주소(src)에 접근해서 데이터를 가져와야함"
   ]
  },
  {
   "cell_type": "code",
   "execution_count": 11,
   "id": "f9aac939",
   "metadata": {},
   "outputs": [
    {
     "data": {
      "text/plain": [
       "<Response [200]>"
      ]
     },
     "execution_count": 11,
     "metadata": {},
     "output_type": "execute_result"
    }
   ],
   "source": [
    "url = 'https://review4.cre.ma/bodyluv.kr/products/reviews?product_code=562&iframe_id=crema-product-reviews-2&widget_style=&app=0&parent_url=https%3A%2F%2Fbodyluv.kr%2Fproduct%2F%25EB%25B0%2594%25EB%2594%2594%25EB%259F%25BD-%25EC%25BF%25A8-%25EC%25A0%259C%25ED%2592%2588-%25EB%25AA%25A8%25EC%259D%258C%25EC%25A0%2584%2F562%2Fcategory%2F1%2Fdisplay%2F2%2F&nonmember_token=&secure_device_token=V2134bfaa7e6f5005c6176f13f862fc3294e6ff79021503c086aae5d6932828523267ce9fbb91a1a2f9e69989a10061e22&iframe=1'\n",
    "h = {'User-Agent':'Mozilla/5.0 (Windows NT 10.0; Win64; x64) AppleWebKit/537.36 (KHTML, like Gecko) Chrome/114.0.0.0 Safari/537.36'}\n",
    "res = req.get(url, headers = h)\n",
    "res"
   ]
  },
  {
   "cell_type": "code",
   "execution_count": 14,
   "id": "3a9f3dca",
   "metadata": {},
   "outputs": [],
   "source": [
    "soup = bs(res.text,'lxml')"
   ]
  },
  {
   "cell_type": "code",
   "execution_count": 16,
   "id": "e183d957",
   "metadata": {},
   "outputs": [],
   "source": [
    "data = soup.select('div.review_list_v2__message.js-collapsed-review-content.js-translate-text')"
   ]
  },
  {
   "cell_type": "code",
   "execution_count": 21,
   "id": "f2b4a115",
   "metadata": {},
   "outputs": [
    {
     "data": {
      "text/plain": [
       "'올여름은 더더울거라고 하는데 새로운이불과 베개로 정말 시원한 여름나기가 될 것 같아요.'"
      ]
     },
     "execution_count": 21,
     "metadata": {},
     "output_type": "execute_result"
    }
   ],
   "source": [
    "# strip : 문자열 앞과 뒤의 공백을 제거\n",
    "data[0].text.strip()"
   ]
  },
  {
   "cell_type": "code",
   "execution_count": 22,
   "id": "85eeb11f",
   "metadata": {},
   "outputs": [
    {
     "name": "stdout",
     "output_type": "stream",
     "text": [
      "올여름은 더더울거라고 하는데 새로운이불과 베개로 정말 시원한 여름나기가 될 것 같아요.\n",
      "아이보리했구요 너무 화이트 아니라서 좋아요 아늑한 느낌이구요 배게커버도 양면이 달라서 좋고 특히 매트는 시원해요 요즘 잠을 제대로 못자는데 이거 깔고 잘잤어요 추천 네이버에 사진리뷰 처음올림 알려드리고싶어서(2022-06-25 13:05:51 에 등록된 네이버 페이 구매평)\n",
      "아이가땀이많은아이인데우선누웠을때너무시원하다고좋아하고,촉감이부드러워서너무좋아해요가벼우면서도 선풍기바람에쉽게날리지않아서배가아플일도없어서좋네요\n",
      "바디럽에서 맨처음마약 토퍼, 쿨이불, 샤워기 등등 이렇게 구매해서 잘 사용하고 있었는데이번 여름 너무 더워 견딜 수 없어쿨 패드도 구매해봤어요!!기존에 쿨이불이 그레이 색이라 쿨그레이로 구매했구요색상은 쏘쿨그레이네여?!ㅎㅎ재질는 쿨이불 소재랑 비슷한데 내부 재질이 메쉬소재 맞나여 그 왜 구멍송송 모양에 바람 슝슝 통하는!?그런 느낌이라 그런지 쿨링이 더 잘 유지 되는것 같아요기존 쿨이불은 보풀도 심하고 처음에만 쿨링이 좋고 (제가 열이많아서) 조금 있으면 이불이  제 열을 흡수 하느라 뜨거워지더라구여 ㅋㅋㅋㅋ근데 쿨 패드는 그런거 없이 열을 갖고 있지 않고송송 너무 시원해요🤍이번 여름 너무 덥고 해서 아빠도 세트로 선물해드릴거에요.+🔥🔥🔥🔥🔥아 그리고 한 가지 아쉬운게 있다면킹 사이즈도 나왔으면 좋겠어요ㅠㅠㅠ🔥🔥🔥🔥🔥\n",
      "참 신기하네요.한쪽은 시원하고 한쪽은 부드럽고, 아이가 땀을너무많이흘려서 구매했는데.. 이불너무좋아해서 만족합니다.양면이 달라서 4계절 모두 사용할수있을듯해여(2022-08-08 16:47:45 에 등록된 네이버 페이 구매평)\n"
     ]
    }
   ],
   "source": [
    "for i in data:\n",
    "    print(i.text.strip())"
   ]
  },
  {
   "cell_type": "code",
   "execution_count": 3,
   "id": "8ac829b8",
   "metadata": {},
   "outputs": [
    {
     "name": "stdout",
     "output_type": "stream",
     "text": [
      "올여름은 더더울거라고 하는데 새로운이불과 베개로 정말 시원한 여름나기가 될 것 같아요.\n",
      "아이보리했구요 너무 화이트 아니라서 좋아요 아늑한 느낌이구요 배게커버도 양면이 달라서 좋고 특히 매트는 시원해요 요즘 잠을 제대로 못자는데 이거 깔고 잘잤어요 추천 네이버에 사진리뷰 처음올림 알려드리고싶어서(2022-06-25 13:05:51 에 등록된 네이버 페이 구매평)\n",
      "아이가땀이많은아이인데우선누웠을때너무시원하다고좋아하고,촉감이부드러워서너무좋아해요가벼우면서도 선풍기바람에쉽게날리지않아서배가아플일도없어서좋네요\n",
      "바디럽에서 맨처음마약 토퍼, 쿨이불, 샤워기 등등 이렇게 구매해서 잘 사용하고 있었는데이번 여름 너무 더워 견딜 수 없어쿨 패드도 구매해봤어요!!기존에 쿨이불이 그레이 색이라 쿨그레이로 구매했구요색상은 쏘쿨그레이네여?!ㅎㅎ재질는 쿨이불 소재랑 비슷한데 내부 재질이 메쉬소재 맞나여 그 왜 구멍송송 모양에 바람 슝슝 통하는!?그런 느낌이라 그런지 쿨링이 더 잘 유지 되는것 같아요기존 쿨이불은 보풀도 심하고 처음에만 쿨링이 좋고 (제가 열이많아서) 조금 있으면 이불이  제 열을 흡수 하느라 뜨거워지더라구여 ㅋㅋㅋㅋ근데 쿨 패드는 그런거 없이 열을 갖고 있지 않고송송 너무 시원해요🤍이번 여름 너무 덥고 해서 아빠도 세트로 선물해드릴거에요.+🔥🔥🔥🔥🔥아 그리고 한 가지 아쉬운게 있다면킹 사이즈도 나왔으면 좋겠어요ㅠㅠㅠ🔥🔥🔥🔥🔥\n",
      "참 신기하네요.한쪽은 시원하고 한쪽은 부드럽고, 아이가 땀을너무많이흘려서 구매했는데.. 이불너무좋아해서 만족합니다.양면이 달라서 4계절 모두 사용할수있을듯해여(2022-08-08 16:47:45 에 등록된 네이버 페이 구매평)\n"
     ]
    }
   ],
   "source": [
    "url = 'https://review4.cre.ma/bodyluv.kr/products/reviews?product_code=562&iframe_id=crema-product-reviews-2&widget_style=&app=0&parent_url=https%3A%2F%2Fbodyluv.kr%2Fproduct%2F%25EB%25B0%2594%25EB%2594%2594%25EB%259F%25BD-%25EC%25BF%25A8-%25EC%25A0%259C%25ED%2592%2588-%25EB%25AA%25A8%25EC%259D%258C%25EC%25A0%2584%2F562%2Fcategory%2F1%2Fdisplay%2F2%2F&nonmember_token=&secure_device_token=V2134bfaa7e6f5005c6176f13f862fc3294e6ff79021503c086aae5d6932828523267ce9fbb91a1a2f9e69989a10061e22&iframe=1'\n",
    "h = {'User-Agent':'Mozilla/5.0 (Windows NT 10.0; Win64; x64) AppleWebKit/537.36 (KHTML, like Gecko) Chrome/114.0.0.0 Safari/537.36'}\n",
    "res = req.get(url, headers = h)\n",
    "soup = bs(res.text,'lxml')\n",
    "data = soup.select('div.review_list_v2__message.js-collapsed-review-content.js-translate-text')\n",
    "for i in data:\n",
    "    print(i.text.strip())"
   ]
  },
  {
   "cell_type": "code",
   "execution_count": null,
   "id": "e00f66d3",
   "metadata": {},
   "outputs": [],
   "source": [
    "# 1 ~ 5페이지에 있는 모든 리뷰(25개 리뷰를 출력하기)"
   ]
  },
  {
   "cell_type": "code",
   "execution_count": null,
   "id": "385dbf3b",
   "metadata": {},
   "outputs": [],
   "source": [
    "https://review4.cre.ma/bodyluv.kr/products/reviews?app=0&iframe=1&iframe_id=crema-product-reviews-2&page=1&parent_url=https%3A%2F%2Fbodyluv.kr%2Fproduct%2F%25EB%25B0%2594%25EB%2594%2594%25EB%259F%25BD-%25EC%25BF%25A8-%25EC%25A0%259C%25ED%2592%2588-%25EB%25AA%25A8%25EC%259D%258C%25EC%25A0%2584%2F562%2Fcategory%2F1%2Fdisplay%2F2%2F&product_code=562&secure_device_token=V2134bfaa7e6f5005c6176f13f862fc3294e6ff79021503c086aae5d6932828523267ce9fbb91a1a2f9e69989a10061e22&widget_env=100&widget_style="
   ]
  },
  {
   "cell_type": "code",
   "execution_count": 4,
   "id": "a0702f87",
   "metadata": {},
   "outputs": [
    {
     "name": "stdout",
     "output_type": "stream",
     "text": [
      "올여름은 더더울거라고 하는데 새로운이불과 베개로 정말 시원한 여름나기가 될 것 같아요.\n",
      "아이보리했구요 너무 화이트 아니라서 좋아요 아늑한 느낌이구요 배게커버도 양면이 달라서 좋고 특히 매트는 시원해요 요즘 잠을 제대로 못자는데 이거 깔고 잘잤어요 추천 네이버에 사진리뷰 처음올림 알려드리고싶어서(2022-06-25 13:05:51 에 등록된 네이버 페이 구매평)\n",
      "아이가땀이많은아이인데우선누웠을때너무시원하다고좋아하고,촉감이부드러워서너무좋아해요가벼우면서도 선풍기바람에쉽게날리지않아서배가아플일도없어서좋네요\n",
      "바디럽에서 맨처음마약 토퍼, 쿨이불, 샤워기 등등 이렇게 구매해서 잘 사용하고 있었는데이번 여름 너무 더워 견딜 수 없어쿨 패드도 구매해봤어요!!기존에 쿨이불이 그레이 색이라 쿨그레이로 구매했구요색상은 쏘쿨그레이네여?!ㅎㅎ재질는 쿨이불 소재랑 비슷한데 내부 재질이 메쉬소재 맞나여 그 왜 구멍송송 모양에 바람 슝슝 통하는!?그런 느낌이라 그런지 쿨링이 더 잘 유지 되는것 같아요기존 쿨이불은 보풀도 심하고 처음에만 쿨링이 좋고 (제가 열이많아서) 조금 있으면 이불이  제 열을 흡수 하느라 뜨거워지더라구여 ㅋㅋㅋㅋ근데 쿨 패드는 그런거 없이 열을 갖고 있지 않고송송 너무 시원해요🤍이번 여름 너무 덥고 해서 아빠도 세트로 선물해드릴거에요.+🔥🔥🔥🔥🔥아 그리고 한 가지 아쉬운게 있다면킹 사이즈도 나왔으면 좋겠어요ㅠㅠㅠ🔥🔥🔥🔥🔥\n",
      "참 신기하네요.한쪽은 시원하고 한쪽은 부드럽고, 아이가 땀을너무많이흘려서 구매했는데.. 이불너무좋아해서 만족합니다.양면이 달라서 4계절 모두 사용할수있을듯해여(2022-08-08 16:47:45 에 등록된 네이버 페이 구매평)\n",
      "한면은 확실히 시원하네요. 아이들 주려고 2개구입~ㅋ 아이들이 여름에도 폭신하고 보들보들 이불을 좋아해서 고민하다 샀는데 사길 잘했어요. 더워도 이불은 꼭 말고 자는 아들~ 땀을 한바가지 흘려서 이불 걷어 주느라 힘든데요건 덜 흘려서 안심!!촉감이 확실히 부들부들 시원해요~ㅋ(2022-07-02 08:21:08 에 등록된 네이버 페이 구매평)\n",
      "남편은 진한게 애방에 좋대서 한개는 이렇게 깔았는데 괜찮네요 더 시원해보이기도하구요  뒤에 미끌림방지도있지만 끈도있어 침대에고정 ㅋ저 매트리스도 바디럽건데 다 바디럽으로 바뀌는중입니다\n",
      "시원하고 예뻐요ㅎㅎ오자마자 세탁하고 제습기로 말려서 침구 교체했는데 피부에 닿는 촉감도 좋고 시원하고 색도 예쁘고ㅎㅎ한번에 다 살까 하다가 써보고 나머지는 사야지 했는데 얼른 주문해서 애들방도 바꿔줘야겠어요ㅎ\n",
      "색상이 약간 민트 섞인 그레이라서 쿨그레이 색이라고 했나봐요~ 민트 좋아하는 입장에서 색상 맘에 쏙 들고 이불 촉감도 한쪽은 시원하고 한쪽은 보드랍고 몸에 엉기지 않고 너무 좋아요^^ 땀 많은 초등 남자아이 사줬는데 너무 좋아해서 작은 아들것도 바로 주문합니다.\n",
      "진짜 시원해요여름에도 이불을 꼭 덮고자야 잠이오는 편인데 올여름은 이래도 저래도 계속 잠을 설쳐서 주문했어요. 받자마자 덮고 잤는데 덮는 순간부터 시원하고 자는동안 한번도 안깨고 잘잤어요이제부터 제 여름의 필수템이 될거같아요!!(2022-07-09 10:36:01 에 등록된 네이버 페이 구매평)\n",
      "작년에 바디럽을 3개 구매해서 쓰고 완전 감동했어요. 여름엔 다른 이불 필요없고 바디럽만 덮었는데 새로 나온 제품이 나와서 또 구매했어요. 이번엔 패드까지 모두 구매했어요. 넘넘 좋아요.\n",
      "뎃글쓰는거 귀찮고 안좋아하는데 너무좋아 남김니다 뎃글보고 긴가민가하다  어짜피 여름이블하나할려고했으니 속는셈치고싸보자했어 전무조건 셋트를좋아했어 셋트로 구매했습니다 그런데 왠걸 생각보다 너무좋은거에요 이런 이블은 첨음봤습니다소제가 정말특이하고 너무고급스럽고 기능성은말할것도없네요 돈쓴거1도 아깝지않네요 너무너무 잘싼것같네요 이제 계절이블은 여기서 다살것같네요\n",
      "부드럽고 시원해요.생각보다 얇고 가벼워서 놀랐어요.아이가 마음에 들어해서 추가 주문 했습니다.여름이불로 만족요\n",
      "군대간  아들님이  곧 휴가라서덮고 잇던  이불을  갈아야해서  알아보던중고심끝에  적당한 가격이길래 구입아들이  아토피피부 인지라 리뷰도꼼꼼히  체크햇지요~^^일단  제가  덮어보니  가볍고 시원한감도잇는듯하고  몸에 닿은 밀착감이  좋드라구요사용하다  원단에  보풀만  안생겻음 해요다른이불도  눈에 자꾸 들어오네요사용후  다른제품도  구입해봐야겟어요\n",
      "기대이상이에요~타회사 제품도 사용해봤는데 품질이 정말 좋아요~중학생 아들 매우 좋아해요\n",
      "더위많이 타는 남편때문에 알아보다언니집에 있는걸보고 바로 구매했네요작년꺼보다 더 좋은것같아요~~시원하게 잘 잤다고 하니아들방에도 구매할려구요~^^(2022-07-18 12:07:15 에 등록된 네이버 페이 구매평)\n",
      "아이 방이 더워서 에어컨을 달까 고민하다가 바디럽 쿨매트를 우연히 봐서 일단 쿨매트 써보고 결정하려고 구매했는데 아이가 너무 시원하고 좋다고해서 완전 만족합니다. 아는동생도 저희집 왔다가 쿨매트보고 품질이 좋다고 바로 구매했어요. 가격대비 재품이 좋아서 적극추천합니다.\n",
      "정말 한여름 더위를 시원하게 해주는 이불인것 같아요.일단 울 큰아이 이불로 넣어주었는데요. 몇 채 더 구매해야할 것 같아요.\n",
      "믿고 사는 바디럽 이불~~~작년에 여름 이불 하나 사고 가족들끼리 서로 좋다고 했던 기억에 올해도 여름 시작하자마자 겟했는데 이번꺼 너무 좋아요 피부에 닿는 촉감이 시원해서 에어컨 제습모드로 켜고 이불 덮고 자면 진짜 시원해요 ... 아가 이불도 이런재질로 만들어주셨으면 좋겠어요 그럼 당장 또 살래요!! ㅎㅎㅎ 쿨 베게커버 사러 들어왔다가 후기남겨요!\n",
      "아들이 더위를 많이 타서 검색하다가 구매했어요.예전에도 차렵이불 구매한적 있는데 촉감이 너무 좋아서 이번에도 기대하고 샀어요.옅은 그레이 색상으로 구매했는데 이쁘네요.양면인데 매쉬쪽을 안쪽으로 해서 덮으면 시원한 느낌이 드네요.(2022-07-20 10:00:00 에 등록된 네이버 페이 구매평)\n",
      "리뷰보고 참고해서 구매했어요. 거두절미하고 여름이불 고민하시는 분은 사세요. 네 그냥 사서 써보시길 강추합니다. 정말 시원합니다!!\n",
      "시원하고 부드럽고 깨끗한느낌에 잠자리가 편안합니다. 쿨이불1도 잘쓰고있는데 2도 궁금해서 삿는데 잘산거같아요.(2022-07-21 20:05:24 에 등록된 네이버 페이 구매평)\n",
      "방금받아서 뜯었는데 헐 개좋음여 부드럽고 시원하거 바닐라색깔 너무이뻐여 .. 맨날화이트만쓰다가 금방색변하거 관리하기 어렵구해서 다른색시키려는참에 딱원하는색있어서 겟 ㅜㅜ ㅎㅎ세탁바루하구 쓸거예여 ㅎㅎ 간절기나다른이불도 바닐라색상있으면 겟하구싶네여 .. ㅎㅎ(2022-07-23 15:21:37 에 등록된 네이버 페이 구매평)\n",
      "열 많은 아가들을 위해 구매했어요! 확실히 시원함감이 있네요! 그렇다고 추운건아니구요ㅎㅎ 쾌적한느낌? 아이들도 더 잘자요 ❤️ 하나더 사러 왔다가 리뷰남깁니다 진짜 최고! 돈 일도 안아까워요 진작살걸 그랬습니다 ㅎㅎ패드는 미끄럼방지에 처리에 밴뎅까지 있어서 밀리지 않아 더 좋네요\n",
      "이름이 왜 마약인지 쓰보니 알겠네요.작년에도 살까말까 깔짝거리다 다른 이불을 산게 너무 후회가 됩니다이런걸 두고 안쓰본 사람은 있어도 한번 산 사람은 없다는 말이 나오는군요.설명이 필요없습니다. 이떻게 이런 기술이~~너~~ 무 좋아요에어컨 켜고 자는 듯한 느낌입니다(2022-07-29 12:38:36 에 등록된 네이버 페이 구매평)\n"
     ]
    }
   ],
   "source": [
    "# 한 페이지내에 존재하는 5개의 리뷰를 출력\n",
    "# 1페이지부터 5페이지까지 반복\n",
    "for page in range(1,6):\n",
    "    url = f'https://review4.cre.ma/bodyluv.kr/products/reviews?app=0&iframe=1&iframe_id=crema-product-reviews-2&page={page}&parent_url=https%3A%2F%2Fbodyluv.kr%2Fproduct%2F%25EB%25B0%2594%25EB%2594%2594%25EB%259F%25BD-%25EC%25BF%25A8-%25EC%25A0%259C%25ED%2592%2588-%25EB%25AA%25A8%25EC%259D%258C%25EC%25A0%2584%2F562%2Fcategory%2F1%2Fdisplay%2F2%2F&product_code=562&secure_device_token=V2134bfaa7e6f5005c6176f13f862fc3294e6ff79021503c086aae5d6932828523267ce9fbb91a1a2f9e69989a10061e22&widget_env=100&widget_style='\n",
    "    h = {'User-Agent':'Mozilla/5.0 (Windows NT 10.0; Win64; x64) AppleWebKit/537.36 (KHTML, like Gecko) Chrome/114.0.0.0 Safari/537.36'}\n",
    "    res = req.get(url, headers = h)\n",
    "    soup = bs(res.text,'lxml')\n",
    "    data = soup.select('div.review_list_v2__message.js-collapsed-review-content.js-translate-text')\n",
    "    for i in data:\n",
    "        print(i.text.strip())"
   ]
  },
  {
   "cell_type": "code",
   "execution_count": null,
   "id": "0011a2f9",
   "metadata": {},
   "outputs": [],
   "source": []
  },
  {
   "cell_type": "code",
   "execution_count": null,
   "id": "fc108fd2",
   "metadata": {},
   "outputs": [],
   "source": []
  },
  {
   "cell_type": "code",
   "execution_count": null,
   "id": "2363fe81",
   "metadata": {},
   "outputs": [],
   "source": []
  },
  {
   "cell_type": "code",
   "execution_count": null,
   "id": "45a98d07",
   "metadata": {},
   "outputs": [],
   "source": []
  },
  {
   "cell_type": "code",
   "execution_count": null,
   "id": "236a6831",
   "metadata": {},
   "outputs": [],
   "source": []
  }
 ],
 "metadata": {
  "kernelspec": {
   "display_name": "Python 3 (ipykernel)",
   "language": "python",
   "name": "python3"
  },
  "language_info": {
   "codemirror_mode": {
    "name": "ipython",
    "version": 3
   },
   "file_extension": ".py",
   "mimetype": "text/x-python",
   "name": "python",
   "nbconvert_exporter": "python",
   "pygments_lexer": "ipython3",
   "version": "3.10.9"
  }
 },
 "nbformat": 4,
 "nbformat_minor": 5
}

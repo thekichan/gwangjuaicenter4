{
 "cells": [
  {
   "cell_type": "markdown",
   "id": "9b314936",
   "metadata": {},
   "source": [
    "### 선형회귀 실습"
   ]
  },
  {
   "cell_type": "markdown",
   "id": "4c0d33f3",
   "metadata": {},
   "source": [
    "### 데이터셋 구축"
   ]
  },
  {
   "cell_type": "code",
   "execution_count": 1,
   "id": "389e1e2c",
   "metadata": {},
   "outputs": [],
   "source": [
    "import pandas as pd\n",
    "import numpy as np\n",
    "import matplotlib.pyplot as plt"
   ]
  },
  {
   "cell_type": "code",
   "execution_count": 2,
   "id": "56def7a5",
   "metadata": {},
   "outputs": [
    {
     "data": {
      "text/html": [
       "<div>\n",
       "<style scoped>\n",
       "    .dataframe tbody tr th:only-of-type {\n",
       "        vertical-align: middle;\n",
       "    }\n",
       "\n",
       "    .dataframe tbody tr th {\n",
       "        vertical-align: top;\n",
       "    }\n",
       "\n",
       "    .dataframe thead th {\n",
       "        text-align: right;\n",
       "    }\n",
       "</style>\n",
       "<table border=\"1\" class=\"dataframe\">\n",
       "  <thead>\n",
       "    <tr style=\"text-align: right;\">\n",
       "      <th></th>\n",
       "      <th>공부시간(x)</th>\n",
       "      <th>성적(y)</th>\n",
       "    </tr>\n",
       "  </thead>\n",
       "  <tbody>\n",
       "    <tr>\n",
       "      <th>해도</th>\n",
       "      <td>2</td>\n",
       "      <td>20</td>\n",
       "    </tr>\n",
       "    <tr>\n",
       "      <th>명훈</th>\n",
       "      <td>4</td>\n",
       "      <td>40</td>\n",
       "    </tr>\n",
       "    <tr>\n",
       "      <th>예호</th>\n",
       "      <td>8</td>\n",
       "      <td>80</td>\n",
       "    </tr>\n",
       "    <tr>\n",
       "      <th>영화</th>\n",
       "      <td>9</td>\n",
       "      <td>90</td>\n",
       "    </tr>\n",
       "  </tbody>\n",
       "</table>\n",
       "</div>"
      ],
      "text/plain": [
       "    공부시간(x)  성적(y)\n",
       "해도        2     20\n",
       "명훈        4     40\n",
       "예호        8     80\n",
       "영화        9     90"
      ]
     },
     "execution_count": 2,
     "metadata": {},
     "output_type": "execute_result"
    }
   ],
   "source": [
    "score_df = pd.DataFrame([[2,20],[4,40],[8,80],[9,90]],\n",
    "                       columns=['공부시간(x)','성적(y)'],\n",
    "                       index=['해도','명훈','예호','영화'])\n",
    "score_df"
   ]
  },
  {
   "cell_type": "markdown",
   "id": "5811561e",
   "metadata": {},
   "source": [
    "# 모델링"
   ]
  },
  {
   "cell_type": "code",
   "execution_count": 3,
   "id": "b096e9f3",
   "metadata": {},
   "outputs": [],
   "source": [
    "from sklearn.linear_model import LinearRegression"
   ]
  },
  {
   "cell_type": "code",
   "execution_count": 4,
   "id": "6fa000a0",
   "metadata": {},
   "outputs": [],
   "source": [
    "# 문제와 답 분리\n",
    "X = score_df[['공부시간(x)']]\n",
    "y = score_df['성적(y)']"
   ]
  },
  {
   "cell_type": "code",
   "execution_count": 5,
   "id": "81f49e91",
   "metadata": {},
   "outputs": [
    {
     "data": {
      "text/html": [
       "<style>#sk-container-id-1 {color: black;background-color: white;}#sk-container-id-1 pre{padding: 0;}#sk-container-id-1 div.sk-toggleable {background-color: white;}#sk-container-id-1 label.sk-toggleable__label {cursor: pointer;display: block;width: 100%;margin-bottom: 0;padding: 0.3em;box-sizing: border-box;text-align: center;}#sk-container-id-1 label.sk-toggleable__label-arrow:before {content: \"▸\";float: left;margin-right: 0.25em;color: #696969;}#sk-container-id-1 label.sk-toggleable__label-arrow:hover:before {color: black;}#sk-container-id-1 div.sk-estimator:hover label.sk-toggleable__label-arrow:before {color: black;}#sk-container-id-1 div.sk-toggleable__content {max-height: 0;max-width: 0;overflow: hidden;text-align: left;background-color: #f0f8ff;}#sk-container-id-1 div.sk-toggleable__content pre {margin: 0.2em;color: black;border-radius: 0.25em;background-color: #f0f8ff;}#sk-container-id-1 input.sk-toggleable__control:checked~div.sk-toggleable__content {max-height: 200px;max-width: 100%;overflow: auto;}#sk-container-id-1 input.sk-toggleable__control:checked~label.sk-toggleable__label-arrow:before {content: \"▾\";}#sk-container-id-1 div.sk-estimator input.sk-toggleable__control:checked~label.sk-toggleable__label {background-color: #d4ebff;}#sk-container-id-1 div.sk-label input.sk-toggleable__control:checked~label.sk-toggleable__label {background-color: #d4ebff;}#sk-container-id-1 input.sk-hidden--visually {border: 0;clip: rect(1px 1px 1px 1px);clip: rect(1px, 1px, 1px, 1px);height: 1px;margin: -1px;overflow: hidden;padding: 0;position: absolute;width: 1px;}#sk-container-id-1 div.sk-estimator {font-family: monospace;background-color: #f0f8ff;border: 1px dotted black;border-radius: 0.25em;box-sizing: border-box;margin-bottom: 0.5em;}#sk-container-id-1 div.sk-estimator:hover {background-color: #d4ebff;}#sk-container-id-1 div.sk-parallel-item::after {content: \"\";width: 100%;border-bottom: 1px solid gray;flex-grow: 1;}#sk-container-id-1 div.sk-label:hover label.sk-toggleable__label {background-color: #d4ebff;}#sk-container-id-1 div.sk-serial::before {content: \"\";position: absolute;border-left: 1px solid gray;box-sizing: border-box;top: 0;bottom: 0;left: 50%;z-index: 0;}#sk-container-id-1 div.sk-serial {display: flex;flex-direction: column;align-items: center;background-color: white;padding-right: 0.2em;padding-left: 0.2em;position: relative;}#sk-container-id-1 div.sk-item {position: relative;z-index: 1;}#sk-container-id-1 div.sk-parallel {display: flex;align-items: stretch;justify-content: center;background-color: white;position: relative;}#sk-container-id-1 div.sk-item::before, #sk-container-id-1 div.sk-parallel-item::before {content: \"\";position: absolute;border-left: 1px solid gray;box-sizing: border-box;top: 0;bottom: 0;left: 50%;z-index: -1;}#sk-container-id-1 div.sk-parallel-item {display: flex;flex-direction: column;z-index: 1;position: relative;background-color: white;}#sk-container-id-1 div.sk-parallel-item:first-child::after {align-self: flex-end;width: 50%;}#sk-container-id-1 div.sk-parallel-item:last-child::after {align-self: flex-start;width: 50%;}#sk-container-id-1 div.sk-parallel-item:only-child::after {width: 0;}#sk-container-id-1 div.sk-dashed-wrapped {border: 1px dashed gray;margin: 0 0.4em 0.5em 0.4em;box-sizing: border-box;padding-bottom: 0.4em;background-color: white;}#sk-container-id-1 div.sk-label label {font-family: monospace;font-weight: bold;display: inline-block;line-height: 1.2em;}#sk-container-id-1 div.sk-label-container {text-align: center;}#sk-container-id-1 div.sk-container {/* jupyter's `normalize.less` sets `[hidden] { display: none; }` but bootstrap.min.css set `[hidden] { display: none !important; }` so we also need the `!important` here to be able to override the default hidden behavior on the sphinx rendered scikit-learn.org. See: https://github.com/scikit-learn/scikit-learn/issues/21755 */display: inline-block !important;position: relative;}#sk-container-id-1 div.sk-text-repr-fallback {display: none;}</style><div id=\"sk-container-id-1\" class=\"sk-top-container\"><div class=\"sk-text-repr-fallback\"><pre>LinearRegression()</pre><b>In a Jupyter environment, please rerun this cell to show the HTML representation or trust the notebook. <br />On GitHub, the HTML representation is unable to render, please try loading this page with nbviewer.org.</b></div><div class=\"sk-container\" hidden><div class=\"sk-item\"><div class=\"sk-estimator sk-toggleable\"><input class=\"sk-toggleable__control sk-hidden--visually\" id=\"sk-estimator-id-1\" type=\"checkbox\" checked><label for=\"sk-estimator-id-1\" class=\"sk-toggleable__label sk-toggleable__label-arrow\">LinearRegression</label><div class=\"sk-toggleable__content\"><pre>LinearRegression()</pre></div></div></div></div></div>"
      ],
      "text/plain": [
       "LinearRegression()"
      ]
     },
     "execution_count": 5,
     "metadata": {},
     "output_type": "execute_result"
    }
   ],
   "source": [
    "linear_model = LinearRegression()\n",
    "linear_model.fit(X,y)"
   ]
  },
  {
   "cell_type": "code",
   "execution_count": 6,
   "id": "9bff27c7",
   "metadata": {},
   "outputs": [
    {
     "name": "stdout",
     "output_type": "stream",
     "text": [
      "[10.]\n",
      "7.105427357601002e-15\n"
     ]
    }
   ],
   "source": [
    "print(linear_model.coef_) # 가중치 확인\n",
    "print(linear_model.intercept_) # 절편 확인"
   ]
  },
  {
   "cell_type": "markdown",
   "id": "62a885f7",
   "metadata": {},
   "source": [
    "### 가중치 변화에 따른 MSE 그래프 그리기"
   ]
  },
  {
   "cell_type": "code",
   "execution_count": 7,
   "id": "beaf5c43",
   "metadata": {},
   "outputs": [],
   "source": [
    "# 가설함수\n",
    "def h(x,w) :\n",
    "    return w*x + 0"
   ]
  },
  {
   "cell_type": "code",
   "execution_count": 10,
   "id": "afce177c",
   "metadata": {},
   "outputs": [
    {
     "data": {
      "text/plain": [
       "해도    10\n",
       "명훈    20\n",
       "예호    40\n",
       "영화    45\n",
       "Name: 공부시간(x), dtype: int64"
      ]
     },
     "execution_count": 10,
     "metadata": {},
     "output_type": "execute_result"
    }
   ],
   "source": [
    "h(score_df['공부시간(x)'],5)"
   ]
  },
  {
   "cell_type": "code",
   "execution_count": 11,
   "id": "c75885e7",
   "metadata": {},
   "outputs": [],
   "source": [
    "# Cost function(비용함수)\n",
    "def MSE(x,w,y) : \n",
    "    y_pre = h(x,w) # 예측값 \n",
    "    error = y_pre - y # 오차\n",
    "    return (error ** 2).mean()"
   ]
  },
  {
   "cell_type": "code",
   "execution_count": 15,
   "id": "9558ebfb",
   "metadata": {},
   "outputs": [
    {
     "data": {
      "text/plain": [
       "41.25"
      ]
     },
     "execution_count": 15,
     "metadata": {},
     "output_type": "execute_result"
    }
   ],
   "source": [
    "MSE(score_df['공부시간(x)'],11,score_df['성적(y)'])"
   ]
  },
  {
   "cell_type": "code",
   "execution_count": 16,
   "id": "9da39b11",
   "metadata": {},
   "outputs": [],
   "source": [
    "mse_list = [] # 가중치 변화에 따른 mse가 들어갈 리스트\n",
    "for w in range(21) :  #w를 0~20까지 변화\n",
    "    mse = MSE(score_df['공부시간(x)'],w,score_df['성적(y)'])\n",
    "    mse_list.append(mse)"
   ]
  },
  {
   "cell_type": "code",
   "execution_count": 17,
   "id": "b8527a0a",
   "metadata": {},
   "outputs": [],
   "source": [
    "import matplotlib.pyplot as plt"
   ]
  },
  {
   "cell_type": "code",
   "execution_count": 18,
   "id": "b3965d7c",
   "metadata": {},
   "outputs": [
    {
     "data": {
      "image/png": "[encoded data removed]",
      "text/plain": [
       "<Figure size 1000x500 with 1 Axes>"
      ]
     },
     "metadata": {},
     "output_type": "display_data"
    }
   ],
   "source": [
    "plt.figure(figsize = (10,5)) # 가로, 세로 크기설정\n",
    "plt.plot(mse_list, marker = '*') # 라인그래프\n",
    "plt.xticks(range(21)) # x축 눈금 표시\n",
    "plt.grid() # 배경 격자\n",
    "plt.show()"
   ]
  },
  {
   "cell_type": "markdown",
   "id": "a4ca1cff",
   "metadata": {},
   "source": [
    "#### 경사하강법 모델 활용하기\n"
   ]
  },
  {
   "cell_type": "code",
   "execution_count": 19,
   "id": "863bd61e",
   "metadata": {},
   "outputs": [],
   "source": [
    "from sklearn.linear_model import SGDRegressor"
   ]
  },
  {
   "cell_type": "code",
   "execution_count": null,
   "id": "583b49d1",
   "metadata": {},
   "outputs": [],
   "source": []
  },
  {
   "cell_type": "code",
   "execution_count": 23,
   "id": "5e048669",
   "metadata": {},
   "outputs": [],
   "source": [
    "sgd_model = SGDRegressor(verbose=1, #학습과정 로그 출력\n",
    "                        max_iter=1000, # 최대 반복 횟수\n",
    "                        epsilon=0.1, # 반복을 멈추는 MSE값의 기준\n",
    "                        eta0=0.01, # 학습률\n",
    "                        n_iter_no_change=5) # MSE 값이 감소되지 않더라도 지켜보는 횟수"
   ]
  },
  {
   "cell_type": "code",
   "execution_count": 24,
   "id": "9154954c",
   "metadata": {},
   "outputs": [
    {
     "name": "stdout",
     "output_type": "stream",
     "text": [
      "-- Epoch 1\n",
      "Norm: 8.40, NNZs: 1, Bias: 1.183746, T: 4, Avg. loss: 979.711236\n",
      "Total training time: 0.00 seconds.\n",
      "-- Epoch 2\n",
      "Norm: 9.46, NNZs: 1, Bias: 1.321844, T: 8, Avg. loss: 25.059314\n",
      "Total training time: 0.00 seconds.\n",
      "-- Epoch 3\n",
      "Norm: 9.71, NNZs: 1, Bias: 1.353325, T: 12, Avg. loss: 1.779200\n",
      "Total training time: 0.00 seconds.\n",
      "-- Epoch 4\n",
      "Norm: 9.78, NNZs: 1, Bias: 1.356905, T: 16, Avg. loss: 0.354569\n",
      "Total training time: 0.00 seconds.\n",
      "-- Epoch 5\n",
      "Norm: 9.80, NNZs: 1, Bias: 1.354857, T: 20, Avg. loss: 0.223285\n",
      "Total training time: 0.00 seconds.\n",
      "-- Epoch 6\n",
      "Norm: 9.82, NNZs: 1, Bias: 1.351850, T: 24, Avg. loss: 0.195533\n",
      "Total training time: 0.00 seconds.\n",
      "-- Epoch 7\n",
      "Norm: 9.82, NNZs: 1, Bias: 1.346823, T: 28, Avg. loss: 0.192881\n",
      "Total training time: 0.00 seconds.\n",
      "-- Epoch 8\n",
      "Norm: 9.82, NNZs: 1, Bias: 1.342286, T: 32, Avg. loss: 0.192424\n",
      "Total training time: 0.00 seconds.\n",
      "-- Epoch 9\n",
      "Norm: 9.82, NNZs: 1, Bias: 1.338518, T: 36, Avg. loss: 0.188277\n",
      "Total training time: 0.00 seconds.\n",
      "-- Epoch 10\n",
      "Norm: 9.82, NNZs: 1, Bias: 1.333683, T: 40, Avg. loss: 0.187993\n",
      "Total training time: 0.00 seconds.\n",
      "-- Epoch 11\n",
      "Norm: 9.82, NNZs: 1, Bias: 1.329407, T: 44, Avg. loss: 0.187338\n",
      "Total training time: 0.00 seconds.\n",
      "-- Epoch 12\n",
      "Norm: 9.82, NNZs: 1, Bias: 1.325857, T: 48, Avg. loss: 0.184085\n",
      "Total training time: 0.00 seconds.\n",
      "-- Epoch 13\n",
      "Norm: 9.82, NNZs: 1, Bias: 1.321407, T: 52, Avg. loss: 0.183815\n",
      "Total training time: 0.00 seconds.\n",
      "-- Epoch 14\n",
      "Norm: 9.82, NNZs: 1, Bias: 1.317424, T: 56, Avg. loss: 0.183192\n",
      "Total training time: 0.00 seconds.\n",
      "-- Epoch 15\n",
      "Norm: 9.82, NNZs: 1, Bias: 1.314083, T: 60, Avg. loss: 0.180361\n",
      "Total training time: 0.00 seconds.\n",
      "-- Epoch 16\n",
      "Norm: 9.82, NNZs: 1, Bias: 1.309935, T: 64, Avg. loss: 0.180090\n",
      "Total training time: 0.00 seconds.\n",
      "-- Epoch 17\n",
      "Norm: 9.82, NNZs: 1, Bias: 1.306184, T: 68, Avg. loss: 0.179513\n",
      "Total training time: 0.00 seconds.\n",
      "-- Epoch 18\n",
      "Norm: 9.83, NNZs: 1, Bias: 1.303011, T: 72, Avg. loss: 0.176974\n",
      "Total training time: 0.00 seconds.\n",
      "-- Epoch 19\n",
      "Norm: 9.82, NNZs: 1, Bias: 1.299100, T: 76, Avg. loss: 0.176702\n",
      "Total training time: 0.00 seconds.\n",
      "-- Epoch 20\n",
      "Norm: 9.82, NNZs: 1, Bias: 1.295537, T: 80, Avg. loss: 0.176160\n",
      "Total training time: 0.00 seconds.\n",
      "-- Epoch 21\n",
      "Norm: 9.83, NNZs: 1, Bias: 1.292502, T: 84, Avg. loss: 0.173843\n",
      "Total training time: 0.00 seconds.\n",
      "-- Epoch 22\n",
      "Norm: 9.82, NNZs: 1, Bias: 1.288785, T: 88, Avg. loss: 0.173569\n",
      "Total training time: 0.00 seconds.\n",
      "-- Epoch 23\n",
      "Norm: 9.82, NNZs: 1, Bias: 1.285378, T: 92, Avg. loss: 0.173054\n",
      "Total training time: 0.00 seconds.\n",
      "-- Epoch 24\n",
      "Norm: 9.83, NNZs: 1, Bias: 1.282459, T: 96, Avg. loss: 0.170913\n",
      "Total training time: 0.00 seconds.\n",
      "-- Epoch 25\n",
      "Norm: 9.83, NNZs: 1, Bias: 1.278905, T: 100, Avg. loss: 0.170639\n",
      "Total training time: 0.00 seconds.\n",
      "-- Epoch 26\n",
      "Norm: 9.83, NNZs: 1, Bias: 1.275632, T: 104, Avg. loss: 0.170147\n",
      "Total training time: 0.00 seconds.\n",
      "-- Epoch 27\n",
      "Norm: 9.83, NNZs: 1, Bias: 1.272813, T: 108, Avg. loss: 0.168151\n",
      "Total training time: 0.00 seconds.\n",
      "-- Epoch 28\n",
      "Norm: 9.83, NNZs: 1, Bias: 1.269399, T: 112, Avg. loss: 0.167877\n",
      "Total training time: 0.00 seconds.\n",
      "-- Epoch 29\n",
      "Norm: 9.83, NNZs: 1, Bias: 1.266242, T: 116, Avg. loss: 0.167403\n",
      "Total training time: 0.00 seconds.\n",
      "-- Epoch 30\n",
      "Norm: 9.83, NNZs: 1, Bias: 1.263512, T: 120, Avg. loss: 0.165529\n",
      "Total training time: 0.00 seconds.\n",
      "-- Epoch 31\n",
      "Norm: 9.83, NNZs: 1, Bias: 1.260220, T: 124, Avg. loss: 0.165256\n",
      "Total training time: 0.00 seconds.\n",
      "-- Epoch 32\n",
      "Norm: 9.83, NNZs: 1, Bias: 1.257165, T: 128, Avg. loss: 0.164798\n",
      "Total training time: 0.00 seconds.\n",
      "-- Epoch 33\n",
      "Norm: 9.83, NNZs: 1, Bias: 1.254514, T: 132, Avg. loss: 0.163029\n",
      "Total training time: 0.00 seconds.\n",
      "-- Epoch 34\n",
      "Norm: 9.83, NNZs: 1, Bias: 1.251330, T: 136, Avg. loss: 0.162756\n",
      "Total training time: 0.00 seconds.\n",
      "-- Epoch 35\n",
      "Norm: 9.83, NNZs: 1, Bias: 1.248367, T: 140, Avg. loss: 0.162313\n",
      "Total training time: 0.00 seconds.\n",
      "-- Epoch 36\n",
      "Norm: 9.83, NNZs: 1, Bias: 1.245788, T: 144, Avg. loss: 0.160635\n",
      "Total training time: 0.00 seconds.\n",
      "-- Epoch 37\n",
      "Norm: 9.83, NNZs: 1, Bias: 1.242700, T: 148, Avg. loss: 0.160364\n",
      "Total training time: 0.00 seconds.\n",
      "-- Epoch 38\n",
      "Norm: 9.83, NNZs: 1, Bias: 1.239820, T: 152, Avg. loss: 0.159934\n",
      "Total training time: 0.00 seconds.\n",
      "-- Epoch 39\n",
      "Norm: 9.83, NNZs: 1, Bias: 1.237306, T: 156, Avg. loss: 0.158337\n",
      "Total training time: 0.00 seconds.\n",
      "-- Epoch 40\n",
      "Norm: 9.83, NNZs: 1, Bias: 1.234306, T: 160, Avg. loss: 0.158067\n",
      "Total training time: 0.00 seconds.\n",
      "-- Epoch 41\n",
      "Norm: 9.83, NNZs: 1, Bias: 1.231501, T: 164, Avg. loss: 0.157648\n",
      "Total training time: 0.00 seconds.\n",
      "-- Epoch 42\n",
      "Norm: 9.83, NNZs: 1, Bias: 1.229046, T: 168, Avg. loss: 0.156123\n",
      "Total training time: 0.00 seconds.\n",
      "-- Epoch 43\n",
      "Norm: 9.83, NNZs: 1, Bias: 1.226127, T: 172, Avg. loss: 0.155855\n",
      "Total training time: 0.00 seconds.\n",
      "-- Epoch 44\n",
      "Norm: 9.83, NNZs: 1, Bias: 1.223391, T: 176, Avg. loss: 0.155447\n",
      "Total training time: 0.00 seconds.\n",
      "-- Epoch 45\n",
      "Norm: 9.83, NNZs: 1, Bias: 1.220991, T: 180, Avg. loss: 0.153987\n",
      "Total training time: 0.00 seconds.\n",
      "-- Epoch 46\n",
      "Norm: 9.83, NNZs: 1, Bias: 1.218145, T: 184, Avg. loss: 0.153721\n",
      "Total training time: 0.00 seconds.\n",
      "-- Epoch 47\n",
      "Norm: 9.83, NNZs: 1, Bias: 1.215474, T: 188, Avg. loss: 0.153323\n",
      "Total training time: 0.00 seconds.\n",
      "-- Epoch 48\n",
      "Norm: 9.84, NNZs: 1, Bias: 1.213125, T: 192, Avg. loss: 0.151921\n",
      "Total training time: 0.00 seconds.\n",
      "-- Epoch 49\n",
      "Norm: 9.83, NNZs: 1, Bias: 1.210347, T: 196, Avg. loss: 0.151658\n",
      "Total training time: 0.00 seconds.\n",
      "-- Epoch 50\n",
      "Norm: 9.83, NNZs: 1, Bias: 1.207735, T: 200, Avg. loss: 0.151269\n",
      "Total training time: 0.00 seconds.\n",
      "-- Epoch 51\n",
      "Norm: 9.84, NNZs: 1, Bias: 1.205434, T: 204, Avg. loss: 0.149920\n",
      "Total training time: 0.00 seconds.\n",
      "-- Epoch 52\n",
      "Norm: 9.84, NNZs: 1, Bias: 1.202718, T: 208, Avg. loss: 0.149659\n",
      "Total training time: 0.00 seconds.\n",
      "-- Epoch 53\n",
      "Norm: 9.84, NNZs: 1, Bias: 1.200162, T: 212, Avg. loss: 0.149279\n",
      "Total training time: 0.00 seconds.\n",
      "-- Epoch 54\n",
      "Norm: 9.84, NNZs: 1, Bias: 1.197905, T: 216, Avg. loss: 0.147980\n",
      "Total training time: 0.00 seconds.\n",
      "-- Epoch 55\n",
      "Norm: 9.84, NNZs: 1, Bias: 1.195249, T: 220, Avg. loss: 0.147721\n",
      "Total training time: 0.00 seconds.\n",
      "-- Epoch 56\n",
      "Norm: 9.84, NNZs: 1, Bias: 1.192744, T: 224, Avg. loss: 0.147349\n",
      "Total training time: 0.00 seconds.\n",
      "-- Epoch 57\n",
      "Norm: 9.84, NNZs: 1, Bias: 1.190529, T: 228, Avg. loss: 0.146095\n",
      "Total training time: 0.00 seconds.\n",
      "-- Epoch 58\n",
      "Norm: 9.84, NNZs: 1, Bias: 1.187928, T: 232, Avg. loss: 0.145838\n",
      "Total training time: 0.00 seconds.\n",
      "-- Epoch 59\n",
      "Norm: 9.84, NNZs: 1, Bias: 1.185472, T: 236, Avg. loss: 0.145474\n",
      "Total training time: 0.00 seconds.\n",
      "-- Epoch 60\n",
      "Norm: 9.84, NNZs: 1, Bias: 1.183297, T: 240, Avg. loss: 0.144262\n",
      "Total training time: 0.00 seconds.\n",
      "-- Epoch 61\n",
      "Norm: 9.84, NNZs: 1, Bias: 1.180747, T: 244, Avg. loss: 0.144008\n",
      "Total training time: 0.00 seconds.\n",
      "-- Epoch 62\n",
      "Norm: 9.84, NNZs: 1, Bias: 1.178337, T: 248, Avg. loss: 0.143651\n",
      "Total training time: 0.00 seconds.\n",
      "-- Epoch 63\n",
      "Norm: 9.84, NNZs: 1, Bias: 1.176200, T: 252, Avg. loss: 0.142478\n",
      "Total training time: 0.00 seconds.\n",
      "-- Epoch 64\n",
      "Norm: 9.84, NNZs: 1, Bias: 1.173699, T: 256, Avg. loss: 0.142227\n",
      "Total training time: 0.00 seconds.\n",
      "-- Epoch 65\n",
      "Norm: 9.84, NNZs: 1, Bias: 1.171332, T: 260, Avg. loss: 0.141877\n",
      "Total training time: 0.00 seconds.\n",
      "-- Epoch 66\n",
      "Norm: 9.84, NNZs: 1, Bias: 1.169230, T: 264, Avg. loss: 0.140739\n",
      "Total training time: 0.00 seconds.\n",
      "-- Epoch 67\n",
      "Norm: 9.84, NNZs: 1, Bias: 1.166775, T: 268, Avg. loss: 0.140491\n",
      "Total training time: 0.00 seconds.\n",
      "-- Epoch 68\n",
      "Norm: 9.84, NNZs: 1, Bias: 1.164450, T: 272, Avg. loss: 0.140148\n",
      "Total training time: 0.00 seconds.\n",
      "-- Epoch 69\n",
      "Norm: 9.84, NNZs: 1, Bias: 1.162382, T: 276, Avg. loss: 0.139044\n",
      "Total training time: 0.00 seconds.\n",
      "-- Epoch 70\n",
      "Norm: 9.84, NNZs: 1, Bias: 1.159971, T: 280, Avg. loss: 0.138798\n",
      "Total training time: 0.00 seconds.\n",
      "-- Epoch 71\n",
      "Norm: 9.84, NNZs: 1, Bias: 1.157685, T: 284, Avg. loss: 0.138462\n",
      "Total training time: 0.00 seconds.\n",
      "-- Epoch 72\n",
      "Norm: 9.84, NNZs: 1, Bias: 1.155649, T: 288, Avg. loss: 0.137390\n",
      "Total training time: 0.00 seconds.\n",
      "-- Epoch 73\n",
      "Norm: 9.84, NNZs: 1, Bias: 1.153280, T: 292, Avg. loss: 0.137147\n",
      "Total training time: 0.00 seconds.\n",
      "-- Epoch 74\n",
      "Norm: 9.84, NNZs: 1, Bias: 1.151031, T: 296, Avg. loss: 0.136816\n",
      "Total training time: 0.00 seconds.\n",
      "-- Epoch 75\n",
      "Norm: 9.84, NNZs: 1, Bias: 1.149026, T: 300, Avg. loss: 0.135774\n",
      "Total training time: 0.00 seconds.\n",
      "-- Epoch 76\n",
      "Norm: 9.84, NNZs: 1, Bias: 1.146696, T: 304, Avg. loss: 0.135534\n",
      "Total training time: 0.00 seconds.\n",
      "-- Epoch 77\n",
      "Norm: 9.84, NNZs: 1, Bias: 1.144483, T: 308, Avg. loss: 0.135209\n",
      "Total training time: 0.00 seconds.\n",
      "-- Epoch 78\n",
      "Norm: 9.84, NNZs: 1, Bias: 1.142508, T: 312, Avg. loss: 0.134196\n",
      "Total training time: 0.00 seconds.\n",
      "-- Epoch 79\n",
      "Norm: 9.84, NNZs: 1, Bias: 1.140216, T: 316, Avg. loss: 0.133958\n",
      "Total training time: 0.00 seconds.\n",
      "-- Epoch 80\n",
      "Norm: 9.84, NNZs: 1, Bias: 1.138037, T: 320, Avg. loss: 0.133639\n",
      "Total training time: 0.00 seconds.\n",
      "-- Epoch 81\n",
      "Norm: 9.85, NNZs: 1, Bias: 1.136090, T: 324, Avg. loss: 0.132652\n",
      "Total training time: 0.00 seconds.\n",
      "-- Epoch 82\n",
      "Norm: 9.84, NNZs: 1, Bias: 1.133834, T: 328, Avg. loss: 0.132417\n",
      "Total training time: 0.00 seconds.\n",
      "-- Epoch 83\n",
      "Norm: 9.84, NNZs: 1, Bias: 1.131687, T: 332, Avg. loss: 0.132103\n",
      "Total training time: 0.00 seconds.\n",
      "Convergence after 83 epochs took 0.00 seconds\n"
     ]
    },
    {
     "data": {
      "text/html": [
       "<style>#sk-container-id-2 {color: black;background-color: white;}#sk-container-id-2 pre{padding: 0;}#sk-container-id-2 div.sk-toggleable {background-color: white;}#sk-container-id-2 label.sk-toggleable__label {cursor: pointer;display: block;width: 100%;margin-bottom: 0;padding: 0.3em;box-sizing: border-box;text-align: center;}#sk-container-id-2 label.sk-toggleable__label-arrow:before {content: \"▸\";float: left;margin-right: 0.25em;color: #696969;}#sk-container-id-2 label.sk-toggleable__label-arrow:hover:before {color: black;}#sk-container-id-2 div.sk-estimator:hover label.sk-toggleable__label-arrow:before {color: black;}#sk-container-id-2 div.sk-toggleable__content {max-height: 0;max-width: 0;overflow: hidden;text-align: left;background-color: #f0f8ff;}#sk-container-id-2 div.sk-toggleable__content pre {margin: 0.2em;color: black;border-radius: 0.25em;background-color: #f0f8ff;}#sk-container-id-2 input.sk-toggleable__control:checked~div.sk-toggleable__content {max-height: 200px;max-width: 100%;overflow: auto;}#sk-container-id-2 input.sk-toggleable__control:checked~label.sk-toggleable__label-arrow:before {content: \"▾\";}#sk-container-id-2 div.sk-estimator input.sk-toggleable__control:checked~label.sk-toggleable__label {background-color: #d4ebff;}#sk-container-id-2 div.sk-label input.sk-toggleable__control:checked~label.sk-toggleable__label {background-color: #d4ebff;}#sk-container-id-2 input.sk-hidden--visually {border: 0;clip: rect(1px 1px 1px 1px);clip: rect(1px, 1px, 1px, 1px);height: 1px;margin: -1px;overflow: hidden;padding: 0;position: absolute;width: 1px;}#sk-container-id-2 div.sk-estimator {font-family: monospace;background-color: #f0f8ff;border: 1px dotted black;border-radius: 0.25em;box-sizing: border-box;margin-bottom: 0.5em;}#sk-container-id-2 div.sk-estimator:hover {background-color: #d4ebff;}#sk-container-id-2 div.sk-parallel-item::after {content: \"\";width: 100%;border-bottom: 1px solid gray;flex-grow: 1;}#sk-container-id-2 div.sk-label:hover label.sk-toggleable__label {background-color: #d4ebff;}#sk-container-id-2 div.sk-serial::before {content: \"\";position: absolute;border-left: 1px solid gray;box-sizing: border-box;top: 0;bottom: 0;left: 50%;z-index: 0;}#sk-container-id-2 div.sk-serial {display: flex;flex-direction: column;align-items: center;background-color: white;padding-right: 0.2em;padding-left: 0.2em;position: relative;}#sk-container-id-2 div.sk-item {position: relative;z-index: 1;}#sk-container-id-2 div.sk-parallel {display: flex;align-items: stretch;justify-content: center;background-color: white;position: relative;}#sk-container-id-2 div.sk-item::before, #sk-container-id-2 div.sk-parallel-item::before {content: \"\";position: absolute;border-left: 1px solid gray;box-sizing: border-box;top: 0;bottom: 0;left: 50%;z-index: -1;}#sk-container-id-2 div.sk-parallel-item {display: flex;flex-direction: column;z-index: 1;position: relative;background-color: white;}#sk-container-id-2 div.sk-parallel-item:first-child::after {align-self: flex-end;width: 50%;}#sk-container-id-2 div.sk-parallel-item:last-child::after {align-self: flex-start;width: 50%;}#sk-container-id-2 div.sk-parallel-item:only-child::after {width: 0;}#sk-container-id-2 div.sk-dashed-wrapped {border: 1px dashed gray;margin: 0 0.4em 0.5em 0.4em;box-sizing: border-box;padding-bottom: 0.4em;background-color: white;}#sk-container-id-2 div.sk-label label {font-family: monospace;font-weight: bold;display: inline-block;line-height: 1.2em;}#sk-container-id-2 div.sk-label-container {text-align: center;}#sk-container-id-2 div.sk-container {/* jupyter's `normalize.less` sets `[hidden] { display: none; }` but bootstrap.min.css set `[hidden] { display: none !important; }` so we also need the `!important` here to be able to override the default hidden behavior on the sphinx rendered scikit-learn.org. See: https://github.com/scikit-learn/scikit-learn/issues/21755 */display: inline-block !important;position: relative;}#sk-container-id-2 div.sk-text-repr-fallback {display: none;}</style><div id=\"sk-container-id-2\" class=\"sk-top-container\"><div class=\"sk-text-repr-fallback\"><pre>SGDRegressor(verbose=1)</pre><b>In a Jupyter environment, please rerun this cell to show the HTML representation or trust the notebook. <br />On GitHub, the HTML representation is unable to render, please try loading this page with nbviewer.org.</b></div><div class=\"sk-container\" hidden><div class=\"sk-item\"><div class=\"sk-estimator sk-toggleable\"><input class=\"sk-toggleable__control sk-hidden--visually\" id=\"sk-estimator-id-2\" type=\"checkbox\" checked><label for=\"sk-estimator-id-2\" class=\"sk-toggleable__label sk-toggleable__label-arrow\">SGDRegressor</label><div class=\"sk-toggleable__content\"><pre>SGDRegressor(verbose=1)</pre></div></div></div></div></div>"
      ],
      "text/plain": [
       "SGDRegressor(verbose=1)"
      ]
     },
     "execution_count": 24,
     "metadata": {},
     "output_type": "execute_result"
    }
   ],
   "source": [
    "sgd_model.fit(X,y)"
   ]
  },
  {
   "cell_type": "code",
   "execution_count": 25,
   "id": "4ee3fca6",
   "metadata": {},
   "outputs": [
    {
     "data": {
      "text/plain": [
       "array([9.84474749])"
      ]
     },
     "execution_count": 25,
     "metadata": {},
     "output_type": "execute_result"
    }
   ],
   "source": [
    "sgd_model.coef_"
   ]
  },
  {
   "cell_type": "code",
   "execution_count": 26,
   "id": "14ad8a0b",
   "metadata": {},
   "outputs": [
    {
     "data": {
      "text/plain": [
       "array([1.13168744])"
      ]
     },
     "execution_count": 26,
     "metadata": {},
     "output_type": "execute_result"
    }
   ],
   "source": [
    "sgd_model.intercept_"
   ]
  },
  {
   "cell_type": "code",
   "execution_count": null,
   "id": "9e0573e6",
   "metadata": {},
   "outputs": [],
   "source": []
  },
  {
   "cell_type": "code",
   "execution_count": null,
   "id": "55f32cfb",
   "metadata": {},
   "outputs": [],
   "source": []
  },
  {
   "cell_type": "code",
   "execution_count": null,
   "id": "d57276d1",
   "metadata": {},
   "outputs": [],
   "source": []
  },
  {
   "cell_type": "code",
   "execution_count": null,
   "id": "3e3634a1",
   "metadata": {},
   "outputs": [],
   "source": []
  }
 ],
 "metadata": {
  "kernelspec": {
   "display_name": "Python 3 (ipykernel)",
   "language": "python",
   "name": "python3"
  },
  "language_info": {
   "codemirror_mode": {
    "name": "ipython",
    "version": 3
   },
   "file_extension": ".py",
   "mimetype": "text/x-python",
   "name": "python",
   "nbconvert_exporter": "python",
   "pygments_lexer": "ipython3",
   "version": "3.10.9"
  }
 },
 "nbformat": 4,
 "nbformat_minor": 5
}

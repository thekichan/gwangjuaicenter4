{
 "cells": [
  {
   "cell_type": "markdown",
   "id": "9b314936",
   "metadata": {},
   "source": [
    "### 선형회귀 실습"
   ]
  },
  {
   "cell_type": "markdown",
   "id": "4c0d33f3",
   "metadata": {},
   "source": [
    "### 데이터셋 구축"
   ]
  },
  {
   "cell_type": "code",
   "execution_count": 1,
   "id": "389e1e2c",
   "metadata": {},
   "outputs": [],
   "source": [
    "import pandas as pd\n",
    "import numpy as np\n",
    "import matplotlib.pyplot as plt"
   ]
  },
  {
   "cell_type": "code",
   "execution_count": 2,
   "id": "56def7a5",
   "metadata": {},
   "outputs": [
    {
     "data": {
      "text/html": [
       "<div>\n",
       "<style scoped>\n",
       "    .dataframe tbody tr th:only-of-type {\n",
       "        vertical-align: middle;\n",
       "    }\n",
       "\n",
       "    .dataframe tbody tr th {\n",
       "        vertical-align: top;\n",
       "    }\n",
       "\n",
       "    .dataframe thead th {\n",
       "        text-align: right;\n",
       "    }\n",
       "</style>\n",
       "<table border=\"1\" class=\"dataframe\">\n",
       "  <thead>\n",
       "    <tr style=\"text-align: right;\">\n",
       "      <th></th>\n",
       "      <th>공부시간(x)</th>\n",
       "      <th>성적(y)</th>\n",
       "    </tr>\n",
       "  </thead>\n",
       "  <tbody>\n",
       "    <tr>\n",
       "      <th>해도</th>\n",
       "      <td>2</td>\n",
       "      <td>20</td>\n",
       "    </tr>\n",
       "    <tr>\n",
       "      <th>명훈</th>\n",
       "      <td>4</td>\n",
       "      <td>40</td>\n",
       "    </tr>\n",
       "    <tr>\n",
       "      <th>예호</th>\n",
       "      <td>8</td>\n",
       "      <td>80</td>\n",
       "    </tr>\n",
       "    <tr>\n",
       "      <th>영화</th>\n",
       "      <td>9</td>\n",
       "      <td>90</td>\n",
       "    </tr>\n",
       "  </tbody>\n",
       "</table>\n",
       "</div>"
      ],
      "text/plain": [
       "    공부시간(x)  성적(y)\n",
       "해도        2     20\n",
       "명훈        4     40\n",
       "예호        8     80\n",
       "영화        9     90"
      ]
     },
     "execution_count": 2,
     "metadata": {},
     "output_type": "execute_result"
    }
   ],
   "source": [
    "score_df = pd.DataFrame([[2,20],[4,40],[8,80],[9,90]],\n",
    "                       columns=['공부시간(x)','성적(y)'],\n",
    "                       index=['해도','명훈','예호','영화'])\n",
    "score_df"
   ]
  },
  {
   "cell_type": "markdown",
   "id": "5811561e",
   "metadata": {},
   "source": [
    "# 모델링"
   ]
  },
  {
   "cell_type": "code",
   "execution_count": 3,
   "id": "b096e9f3",
   "metadata": {},
   "outputs": [],
   "source": [
    "from sklearn.linear_model import LinearRegression"
   ]
  },
  {
   "cell_type": "code",
   "execution_count": 4,
   "id": "6fa000a0",
   "metadata": {},
   "outputs": [],
   "source": [
    "# 문제와 답 분리\n",
    "X = score_df[['공부시간(x)']]\n",
    "y = score_df['성적(y)']"
   ]
  },
  {
   "cell_type": "code",
   "execution_count": 5,
   "id": "81f49e91",
   "metadata": {},
   "outputs": [
    {
     "data": {
      "text/html": [
       "<style>#sk-container-id-1 {color: black;background-color: white;}#sk-container-id-1 pre{padding: 0;}#sk-container-id-1 div.sk-toggleable {background-color: white;}#sk-container-id-1 label.sk-toggleable__label {cursor: pointer;display: block;width: 100%;margin-bottom: 0;padding: 0.3em;box-sizing: border-box;text-align: center;}#sk-container-id-1 label.sk-toggleable__label-arrow:before {content: \"▸\";float: left;margin-right: 0.25em;color: #696969;}#sk-container-id-1 label.sk-toggleable__label-arrow:hover:before {color: black;}#sk-container-id-1 div.sk-estimator:hover label.sk-toggleable__label-arrow:before {color: black;}#sk-container-id-1 div.sk-toggleable__content {max-height: 0;max-width: 0;overflow: hidden;text-align: left;background-color: #f0f8ff;}#sk-container-id-1 div.sk-toggleable__content pre {margin: 0.2em;color: black;border-radius: 0.25em;background-color: #f0f8ff;}#sk-container-id-1 input.sk-toggleable__control:checked~div.sk-toggleable__content {max-height: 200px;max-width: 100%;overflow: auto;}#sk-container-id-1 input.sk-toggleable__control:checked~label.sk-toggleable__label-arrow:before {content: \"▾\";}#sk-container-id-1 div.sk-estimator input.sk-toggleable__control:checked~label.sk-toggleable__label {background-color: #d4ebff;}#sk-container-id-1 div.sk-label input.sk-toggleable__control:checked~label.sk-toggleable__label {background-color: #d4ebff;}#sk-container-id-1 input.sk-hidden--visually {border: 0;clip: rect(1px 1px 1px 1px);clip: rect(1px, 1px, 1px, 1px);height: 1px;margin: -1px;overflow: hidden;padding: 0;position: absolute;width: 1px;}#sk-container-id-1 div.sk-estimator {font-family: monospace;background-color: #f0f8ff;border: 1px dotted black;border-radius: 0.25em;box-sizing: border-box;margin-bottom: 0.5em;}#sk-container-id-1 div.sk-estimator:hover {background-color: #d4ebff;}#sk-container-id-1 div.sk-parallel-item::after {content: \"\";width: 100%;border-bottom: 1px solid gray;flex-grow: 1;}#sk-container-id-1 div.sk-label:hover label.sk-toggleable__label {background-color: #d4ebff;}#sk-container-id-1 div.sk-serial::before {content: \"\";position: absolute;border-left: 1px solid gray;box-sizing: border-box;top: 0;bottom: 0;left: 50%;z-index: 0;}#sk-container-id-1 div.sk-serial {display: flex;flex-direction: column;align-items: center;background-color: white;padding-right: 0.2em;padding-left: 0.2em;position: relative;}#sk-container-id-1 div.sk-item {position: relative;z-index: 1;}#sk-container-id-1 div.sk-parallel {display: flex;align-items: stretch;justify-content: center;background-color: white;position: relative;}#sk-container-id-1 div.sk-item::before, #sk-container-id-1 div.sk-parallel-item::before {content: \"\";position: absolute;border-left: 1px solid gray;box-sizing: border-box;top: 0;bottom: 0;left: 50%;z-index: -1;}#sk-container-id-1 div.sk-parallel-item {display: flex;flex-direction: column;z-index: 1;position: relative;background-color: white;}#sk-container-id-1 div.sk-parallel-item:first-child::after {align-self: flex-end;width: 50%;}#sk-container-id-1 div.sk-parallel-item:last-child::after {align-self: flex-start;width: 50%;}#sk-container-id-1 div.sk-parallel-item:only-child::after {width: 0;}#sk-container-id-1 div.sk-dashed-wrapped {border: 1px dashed gray;margin: 0 0.4em 0.5em 0.4em;box-sizing: border-box;padding-bottom: 0.4em;background-color: white;}#sk-container-id-1 div.sk-label label {font-family: monospace;font-weight: bold;display: inline-block;line-height: 1.2em;}#sk-container-id-1 div.sk-label-container {text-align: center;}#sk-container-id-1 div.sk-container {/* jupyter's `normalize.less` sets `[hidden] { display: none; }` but bootstrap.min.css set `[hidden] { display: none !important; }` so we also need the `!important` here to be able to override the default hidden behavior on the sphinx rendered scikit-learn.org. See: https://github.com/scikit-learn/scikit-learn/issues/21755 */display: inline-block !important;position: relative;}#sk-container-id-1 div.sk-text-repr-fallback {display: none;}</style><div id=\"sk-container-id-1\" class=\"sk-top-container\"><div class=\"sk-text-repr-fallback\"><pre>LinearRegression()</pre><b>In a Jupyter environment, please rerun this cell to show the HTML representation or trust the notebook. <br />On GitHub, the HTML representation is unable to render, please try loading this page with nbviewer.org.</b></div><div class=\"sk-container\" hidden><div class=\"sk-item\"><div class=\"sk-estimator sk-toggleable\"><input class=\"sk-toggleable__control sk-hidden--visually\" id=\"sk-estimator-id-1\" type=\"checkbox\" checked><label for=\"sk-estimator-id-1\" class=\"sk-toggleable__label sk-toggleable__label-arrow\">LinearRegression</label><div class=\"sk-toggleable__content\"><pre>LinearRegression()</pre></div></div></div></div></div>"
      ],
      "text/plain": [
       "LinearRegression()"
      ]
     },
     "execution_count": 5,
     "metadata": {},
     "output_type": "execute_result"
    }
   ],
   "source": [
    "linear_model = LinearRegression()\n",
    "linear_model.fit(X,y)"
   ]
  },
  {
   "cell_type": "code",
   "execution_count": 6,
   "id": "9bff27c7",
   "metadata": {},
   "outputs": [
    {
     "name": "stdout",
     "output_type": "stream",
     "text": [
      "[10.]\n",
      "7.105427357601002e-15\n"
     ]
    }
   ],
   "source": [
    "print(linear_model.coef_) # 가중치 확인\n",
    "print(linear_model.intercept_) # 절편 확인"
   ]
  },
  {
   "cell_type": "markdown",
   "id": "62a885f7",
   "metadata": {},
   "source": [
    "### 가중치 변화에 따른 MSE 그래프 그리기"
   ]
  },
  {
   "cell_type": "code",
   "execution_count": 7,
   "id": "beaf5c43",
   "metadata": {},
   "outputs": [],
   "source": [
    "# 가설함수\n",
    "def h(x,w) :\n",
    "    return w*x + 0"
   ]
  },
  {
   "cell_type": "code",
   "execution_count": 8,
   "id": "afce177c",
   "metadata": {},
   "outputs": [
    {
     "data": {
      "text/plain": [
       "해도    10\n",
       "명훈    20\n",
       "예호    40\n",
       "영화    45\n",
       "Name: 공부시간(x), dtype: int64"
      ]
     },
     "execution_count": 8,
     "metadata": {},
     "output_type": "execute_result"
    }
   ],
   "source": [
    "h(score_df['공부시간(x)'],5)"
   ]
  },
  {
   "cell_type": "code",
   "execution_count": 9,
   "id": "c75885e7",
   "metadata": {},
   "outputs": [],
   "source": [
    "# Cost function(비용함수)\n",
    "def MSE(x,w,y) : \n",
    "    y_pre = h(x,w) # 예측값 \n",
    "    error = y_pre - y # 오차\n",
    "    return (error ** 2).mean()"
   ]
  },
  {
   "cell_type": "code",
   "execution_count": 10,
   "id": "9558ebfb",
   "metadata": {},
   "outputs": [
    {
     "data": {
      "text/plain": [
       "41.25"
      ]
     },
     "execution_count": 10,
     "metadata": {},
     "output_type": "execute_result"
    }
   ],
   "source": [
    "MSE(score_df['공부시간(x)'],11,score_df['성적(y)'])"
   ]
  },
  {
   "cell_type": "code",
   "execution_count": 11,
   "id": "9da39b11",
   "metadata": {},
   "outputs": [],
   "source": [
    "mse_list = [] # 가중치 변화에 따른 mse가 들어갈 리스트\n",
    "for w in range(21) :  #w를 0~20까지 변화\n",
    "    mse = MSE(score_df['공부시간(x)'],w,score_df['성적(y)'])\n",
    "    mse_list.append(mse)"
   ]
  },
  {
   "cell_type": "code",
   "execution_count": 12,
   "id": "b8527a0a",
   "metadata": {},
   "outputs": [],
   "source": [
    "import matplotlib.pyplot as plt"
   ]
  },
  {
   "cell_type": "code",
   "execution_count": 13,
   "id": "b3965d7c",
   "metadata": {},
   "outputs": [
    {
     "data": {
      "image/png": "[encoded data removed]",
      "text/plain": [
       "<Figure size 1000x500 with 1 Axes>"
      ]
     },
     "metadata": {},
     "output_type": "display_data"
    }
   ],
   "source": [
    "plt.figure(figsize = (10,5)) # 가로, 세로 크기설정\n",
    "plt.plot(mse_list, marker = '*') # 라인그래프\n",
    "plt.xticks(range(21)) # x축 눈금 표시\n",
    "plt.grid() # 배경 격자\n",
    "plt.show()"
   ]
  },
  {
   "cell_type": "markdown",
   "id": "a4ca1cff",
   "metadata": {},
   "source": [
    "#### 경사하강법 모델 활용하기\n"
   ]
  },
  {
   "cell_type": "code",
   "execution_count": 14,
   "id": "863bd61e",
   "metadata": {},
   "outputs": [],
   "source": [
    "from sklearn.linear_model import SGDRegressor"
   ]
  },
  {
   "cell_type": "code",
   "execution_count": null,
   "id": "583b49d1",
   "metadata": {},
   "outputs": [],
   "source": []
  },
  {
   "cell_type": "code",
   "execution_count": 15,
   "id": "5e048669",
   "metadata": {},
   "outputs": [],
   "source": [
    "sgd_model = SGDRegressor(verbose=1, #학습과정 로그 출력\n",
    "                        max_iter=1000, # 최대 반복 횟수\n",
    "                        epsilon=0.1, # 반복을 멈추는 MSE값의 기준\n",
    "                        eta0=0.01, # 학습률\n",
    "                        n_iter_no_change=5) # MSE 값이 감소되지 않더라도 지켜보는 횟수"
   ]
  },
  {
   "cell_type": "code",
   "execution_count": 16,
   "id": "9154954c",
   "metadata": {},
   "outputs": [
    {
     "name": "stdout",
     "output_type": "stream",
     "text": [
      "-- Epoch 1\n",
      "Norm: 8.46, NNZs: 1, Bias: 1.235076, T: 4, Avg. loss: 904.396320\n",
      "Total training time: 0.00 seconds.\n",
      "-- Epoch 2\n",
      "Norm: 9.48, NNZs: 1, Bias: 1.358276, T: 8, Avg. loss: 21.977231\n",
      "Total training time: 0.00 seconds.\n",
      "-- Epoch 3\n",
      "Norm: 9.71, NNZs: 1, Bias: 1.381458, T: 12, Avg. loss: 1.679243\n",
      "Total training time: 0.00 seconds.\n",
      "-- Epoch 4\n",
      "Norm: 9.78, NNZs: 1, Bias: 1.386415, T: 16, Avg. loss: 0.335994\n",
      "Total training time: 0.00 seconds.\n",
      "-- Epoch 5\n",
      "Norm: 9.80, NNZs: 1, Bias: 1.383616, T: 20, Avg. loss: 0.217163\n",
      "Total training time: 0.00 seconds.\n",
      "-- Epoch 6\n",
      "Norm: 9.80, NNZs: 1, Bias: 1.378491, T: 24, Avg. loss: 0.202548\n",
      "Total training time: 0.00 seconds.\n",
      "-- Epoch 7\n",
      "Norm: 9.81, NNZs: 1, Bias: 1.374127, T: 28, Avg. loss: 0.203541\n",
      "Total training time: 0.00 seconds.\n",
      "-- Epoch 8\n",
      "Norm: 9.82, NNZs: 1, Bias: 1.370656, T: 32, Avg. loss: 0.198236\n",
      "Total training time: 0.00 seconds.\n",
      "-- Epoch 9\n",
      "Norm: 9.82, NNZs: 1, Bias: 1.365971, T: 36, Avg. loss: 0.197547\n",
      "Total training time: 0.00 seconds.\n",
      "-- Epoch 10\n",
      "Norm: 9.81, NNZs: 1, Bias: 1.360811, T: 40, Avg. loss: 0.193291\n",
      "Total training time: 0.00 seconds.\n",
      "-- Epoch 11\n",
      "Norm: 9.81, NNZs: 1, Bias: 1.356621, T: 44, Avg. loss: 0.194714\n",
      "Total training time: 0.00 seconds.\n",
      "-- Epoch 12\n",
      "Norm: 9.82, NNZs: 1, Bias: 1.353338, T: 48, Avg. loss: 0.192005\n",
      "Total training time: 0.00 seconds.\n",
      "-- Epoch 13\n",
      "Norm: 9.82, NNZs: 1, Bias: 1.349130, T: 52, Avg. loss: 0.191602\n",
      "Total training time: 0.00 seconds.\n",
      "-- Epoch 14\n",
      "Norm: 9.81, NNZs: 1, Bias: 1.344493, T: 56, Avg. loss: 0.188065\n",
      "Total training time: 0.00 seconds.\n",
      "-- Epoch 15\n",
      "Norm: 9.81, NNZs: 1, Bias: 1.340643, T: 60, Avg. loss: 0.189101\n",
      "Total training time: 0.00 seconds.\n",
      "-- Epoch 16\n",
      "Norm: 9.82, NNZs: 1, Bias: 1.337587, T: 64, Avg. loss: 0.186923\n",
      "Total training time: 0.00 seconds.\n",
      "-- Epoch 17\n",
      "Norm: 9.82, NNZs: 1, Bias: 1.333734, T: 68, Avg. loss: 0.186530\n",
      "Total training time: 0.00 seconds.\n",
      "-- Epoch 18\n",
      "Norm: 9.81, NNZs: 1, Bias: 1.329474, T: 72, Avg. loss: 0.183475\n",
      "Total training time: 0.00 seconds.\n",
      "-- Epoch 19\n",
      "Norm: 9.82, NNZs: 1, Bias: 1.325881, T: 76, Avg. loss: 0.184283\n",
      "Total training time: 0.00 seconds.\n",
      "-- Epoch 20\n",
      "Norm: 9.82, NNZs: 1, Bias: 1.322997, T: 80, Avg. loss: 0.182415\n",
      "Total training time: 0.00 seconds.\n",
      "-- Epoch 21\n",
      "Norm: 9.82, NNZs: 1, Bias: 1.319407, T: 84, Avg. loss: 0.182025\n",
      "Total training time: 0.00 seconds.\n",
      "-- Epoch 22\n",
      "Norm: 9.82, NNZs: 1, Bias: 1.315431, T: 88, Avg. loss: 0.179308\n",
      "Total training time: 0.00 seconds.\n",
      "-- Epoch 23\n",
      "Norm: 9.82, NNZs: 1, Bias: 1.312039, T: 92, Avg. loss: 0.179962\n",
      "Total training time: 0.00 seconds.\n",
      "-- Epoch 24\n",
      "Norm: 9.82, NNZs: 1, Bias: 1.309293, T: 96, Avg. loss: 0.178309\n",
      "Total training time: 0.00 seconds.\n",
      "-- Epoch 25\n",
      "Norm: 9.82, NNZs: 1, Bias: 1.305909, T: 100, Avg. loss: 0.177925\n",
      "Total training time: 0.00 seconds.\n",
      "-- Epoch 26\n",
      "Norm: 9.82, NNZs: 1, Bias: 1.302160, T: 104, Avg. loss: 0.175461\n",
      "Total training time: 0.00 seconds.\n",
      "-- Epoch 27\n",
      "Norm: 9.82, NNZs: 1, Bias: 1.298932, T: 108, Avg. loss: 0.176003\n",
      "Total training time: 0.00 seconds.\n",
      "-- Epoch 28\n",
      "Norm: 9.82, NNZs: 1, Bias: 1.296300, T: 112, Avg. loss: 0.174510\n",
      "Total training time: 0.00 seconds.\n",
      "-- Epoch 29\n",
      "Norm: 9.82, NNZs: 1, Bias: 1.293084, T: 116, Avg. loss: 0.174132\n",
      "Total training time: 0.00 seconds.\n",
      "-- Epoch 30\n",
      "Norm: 9.82, NNZs: 1, Bias: 1.289521, T: 120, Avg. loss: 0.171868\n",
      "Total training time: 0.00 seconds.\n",
      "-- Epoch 31\n",
      "Norm: 9.82, NNZs: 1, Bias: 1.286432, T: 124, Avg. loss: 0.172325\n",
      "Total training time: 0.00 seconds.\n",
      "-- Epoch 32\n",
      "Norm: 9.83, NNZs: 1, Bias: 1.283899, T: 128, Avg. loss: 0.170958\n",
      "Total training time: 0.00 seconds.\n",
      "-- Epoch 33\n",
      "Norm: 9.83, NNZs: 1, Bias: 1.280824, T: 132, Avg. loss: 0.170587\n",
      "Total training time: 0.00 seconds.\n",
      "-- Epoch 34\n",
      "Norm: 9.82, NNZs: 1, Bias: 1.277419, T: 136, Avg. loss: 0.168487\n",
      "Total training time: 0.00 seconds.\n",
      "-- Epoch 35\n",
      "Norm: 9.82, NNZs: 1, Bias: 1.274449, T: 140, Avg. loss: 0.168877\n",
      "Total training time: 0.00 seconds.\n",
      "-- Epoch 36\n",
      "Norm: 9.83, NNZs: 1, Bias: 1.272002, T: 144, Avg. loss: 0.167612\n",
      "Total training time: 0.00 seconds.\n",
      "-- Epoch 37\n",
      "Norm: 9.83, NNZs: 1, Bias: 1.269049, T: 148, Avg. loss: 0.167248\n",
      "Total training time: 0.00 seconds.\n",
      "-- Epoch 38\n",
      "Norm: 9.82, NNZs: 1, Bias: 1.265781, T: 152, Avg. loss: 0.165285\n",
      "Total training time: 0.00 seconds.\n",
      "-- Epoch 39\n",
      "Norm: 9.82, NNZs: 1, Bias: 1.262916, T: 156, Avg. loss: 0.165620\n",
      "Total training time: 0.00 seconds.\n",
      "-- Epoch 40\n",
      "Norm: 9.83, NNZs: 1, Bias: 1.260544, T: 160, Avg. loss: 0.164440\n",
      "Total training time: 0.00 seconds.\n",
      "-- Epoch 41\n",
      "Norm: 9.83, NNZs: 1, Bias: 1.257699, T: 164, Avg. loss: 0.164083\n",
      "Total training time: 0.00 seconds.\n",
      "-- Epoch 42\n",
      "Norm: 9.83, NNZs: 1, Bias: 1.254551, T: 168, Avg. loss: 0.162238\n",
      "Total training time: 0.00 seconds.\n",
      "-- Epoch 43\n",
      "Norm: 9.83, NNZs: 1, Bias: 1.251780, T: 172, Avg. loss: 0.162529\n",
      "Total training time: 0.00 seconds.\n",
      "-- Epoch 44\n",
      "Norm: 9.83, NNZs: 1, Bias: 1.249476, T: 176, Avg. loss: 0.161421\n",
      "Total training time: 0.00 seconds.\n",
      "-- Epoch 45\n",
      "Norm: 9.83, NNZs: 1, Bias: 1.246725, T: 180, Avg. loss: 0.161071\n",
      "Total training time: 0.00 seconds.\n",
      "-- Epoch 46\n",
      "Norm: 9.83, NNZs: 1, Bias: 1.243685, T: 184, Avg. loss: 0.159328\n",
      "Total training time: 0.00 seconds.\n",
      "-- Epoch 47\n",
      "Norm: 9.83, NNZs: 1, Bias: 1.240997, T: 188, Avg. loss: 0.159581\n",
      "Total training time: 0.00 seconds.\n",
      "-- Epoch 48\n",
      "Norm: 9.83, NNZs: 1, Bias: 1.238755, T: 192, Avg. loss: 0.158536\n",
      "Total training time: 0.00 seconds.\n",
      "-- Epoch 49\n",
      "Norm: 9.83, NNZs: 1, Bias: 1.236090, T: 196, Avg. loss: 0.158193\n",
      "Total training time: 0.00 seconds.\n",
      "-- Epoch 50\n",
      "Norm: 9.83, NNZs: 1, Bias: 1.233146, T: 200, Avg. loss: 0.156539\n",
      "Total training time: 0.00 seconds.\n",
      "-- Epoch 51\n",
      "Norm: 9.83, NNZs: 1, Bias: 1.230535, T: 204, Avg. loss: 0.156762\n",
      "Total training time: 0.00 seconds.\n",
      "-- Epoch 52\n",
      "Norm: 9.83, NNZs: 1, Bias: 1.228350, T: 208, Avg. loss: 0.155771\n",
      "Total training time: 0.00 seconds.\n",
      "-- Epoch 53\n",
      "Norm: 9.83, NNZs: 1, Bias: 1.225762, T: 212, Avg. loss: 0.155435\n",
      "Total training time: 0.00 seconds.\n",
      "-- Epoch 54\n",
      "Norm: 9.83, NNZs: 1, Bias: 1.222906, T: 216, Avg. loss: 0.153861\n",
      "Total training time: 0.00 seconds.\n",
      "-- Epoch 55\n",
      "Norm: 9.83, NNZs: 1, Bias: 1.220364, T: 220, Avg. loss: 0.154057\n",
      "Total training time: 0.00 seconds.\n",
      "-- Epoch 56\n",
      "Norm: 9.83, NNZs: 1, Bias: 1.218231, T: 224, Avg. loss: 0.153114\n",
      "Total training time: 0.00 seconds.\n",
      "-- Epoch 57\n",
      "Norm: 9.83, NNZs: 1, Bias: 1.215715, T: 228, Avg. loss: 0.152785\n",
      "Total training time: 0.00 seconds.\n",
      "-- Epoch 58\n",
      "Norm: 9.83, NNZs: 1, Bias: 1.212938, T: 232, Avg. loss: 0.151283\n",
      "Total training time: 0.00 seconds.\n",
      "-- Epoch 59\n",
      "Norm: 9.83, NNZs: 1, Bias: 1.210461, T: 236, Avg. loss: 0.151455\n",
      "Total training time: 0.00 seconds.\n",
      "-- Epoch 60\n",
      "Norm: 9.83, NNZs: 1, Bias: 1.208376, T: 240, Avg. loss: 0.150556\n",
      "Total training time: 0.00 seconds.\n",
      "-- Epoch 61\n",
      "Norm: 9.83, NNZs: 1, Bias: 1.205925, T: 244, Avg. loss: 0.150233\n",
      "Total training time: 0.00 seconds.\n",
      "-- Epoch 62\n",
      "Norm: 9.83, NNZs: 1, Bias: 1.203222, T: 248, Avg. loss: 0.148796\n",
      "Total training time: 0.00 seconds.\n",
      "-- Epoch 63\n",
      "Norm: 9.83, NNZs: 1, Bias: 1.200805, T: 252, Avg. loss: 0.148948\n",
      "Total training time: 0.00 seconds.\n",
      "-- Epoch 64\n",
      "Norm: 9.84, NNZs: 1, Bias: 1.198765, T: 256, Avg. loss: 0.148087\n",
      "Total training time: 0.00 seconds.\n",
      "-- Epoch 65\n",
      "Norm: 9.84, NNZs: 1, Bias: 1.196374, T: 260, Avg. loss: 0.147771\n",
      "Total training time: 0.00 seconds.\n",
      "-- Epoch 66\n",
      "Norm: 9.83, NNZs: 1, Bias: 1.193740, T: 264, Avg. loss: 0.146393\n",
      "Total training time: 0.00 seconds.\n",
      "-- Epoch 67\n",
      "Norm: 9.83, NNZs: 1, Bias: 1.191378, T: 268, Avg. loss: 0.146527\n",
      "Total training time: 0.00 seconds.\n",
      "-- Epoch 68\n",
      "Norm: 9.84, NNZs: 1, Bias: 1.189380, T: 272, Avg. loss: 0.145702\n",
      "Total training time: 0.00 seconds.\n",
      "-- Epoch 69\n",
      "Norm: 9.84, NNZs: 1, Bias: 1.187045, T: 276, Avg. loss: 0.145392\n",
      "Total training time: 0.00 seconds.\n",
      "-- Epoch 70\n",
      "Norm: 9.84, NNZs: 1, Bias: 1.184474, T: 280, Avg. loss: 0.144069\n",
      "Total training time: 0.00 seconds.\n",
      "-- Epoch 71\n",
      "Norm: 9.84, NNZs: 1, Bias: 1.182165, T: 284, Avg. loss: 0.144187\n",
      "Total training time: 0.00 seconds.\n",
      "-- Epoch 72\n",
      "Norm: 9.84, NNZs: 1, Bias: 1.180207, T: 288, Avg. loss: 0.143394\n",
      "Total training time: 0.00 seconds.\n",
      "-- Epoch 73\n",
      "Norm: 9.84, NNZs: 1, Bias: 1.177924, T: 292, Avg. loss: 0.143090\n",
      "Total training time: 0.00 seconds.\n",
      "-- Epoch 74\n",
      "Norm: 9.84, NNZs: 1, Bias: 1.175413, T: 296, Avg. loss: 0.141817\n",
      "Total training time: 0.00 seconds.\n",
      "-- Epoch 75\n",
      "Norm: 9.84, NNZs: 1, Bias: 1.173152, T: 300, Avg. loss: 0.141921\n",
      "Total training time: 0.00 seconds.\n",
      "-- Epoch 76\n",
      "Norm: 9.84, NNZs: 1, Bias: 1.171232, T: 304, Avg. loss: 0.141158\n",
      "Total training time: 0.00 seconds.\n",
      "-- Epoch 77\n",
      "Norm: 9.84, NNZs: 1, Bias: 1.168998, T: 308, Avg. loss: 0.140860\n",
      "Total training time: 0.00 seconds.\n",
      "-- Epoch 78\n",
      "Norm: 9.84, NNZs: 1, Bias: 1.166542, T: 312, Avg. loss: 0.139632\n",
      "Total training time: 0.00 seconds.\n",
      "-- Epoch 79\n",
      "Norm: 9.84, NNZs: 1, Bias: 1.164327, T: 316, Avg. loss: 0.139724\n",
      "Total training time: 0.00 seconds.\n",
      "-- Epoch 80\n",
      "Norm: 9.84, NNZs: 1, Bias: 1.162443, T: 320, Avg. loss: 0.138988\n",
      "Total training time: 0.00 seconds.\n",
      "-- Epoch 81\n",
      "Norm: 9.84, NNZs: 1, Bias: 1.160255, T: 324, Avg. loss: 0.138696\n",
      "Total training time: 0.00 seconds.\n",
      "-- Epoch 82\n",
      "Norm: 9.84, NNZs: 1, Bias: 1.157852, T: 328, Avg. loss: 0.137511\n",
      "Total training time: 0.00 seconds.\n",
      "-- Epoch 83\n",
      "Norm: 9.84, NNZs: 1, Bias: 1.155680, T: 332, Avg. loss: 0.137591\n",
      "Total training time: 0.00 seconds.\n",
      "-- Epoch 84\n",
      "Norm: 9.84, NNZs: 1, Bias: 1.153829, T: 336, Avg. loss: 0.136882\n",
      "Total training time: 0.00 seconds.\n",
      "-- Epoch 85\n",
      "Norm: 9.84, NNZs: 1, Bias: 1.151686, T: 340, Avg. loss: 0.136595\n",
      "Total training time: 0.00 seconds.\n",
      "-- Epoch 86\n",
      "Norm: 9.84, NNZs: 1, Bias: 1.149331, T: 344, Avg. loss: 0.135450\n",
      "Total training time: 0.00 seconds.\n",
      "-- Epoch 87\n",
      "Norm: 9.84, NNZs: 1, Bias: 1.147201, T: 348, Avg. loss: 0.135520\n",
      "Total training time: 0.00 seconds.\n",
      "-- Epoch 88\n",
      "Norm: 9.84, NNZs: 1, Bias: 1.145382, T: 352, Avg. loss: 0.134834\n",
      "Total training time: 0.00 seconds.\n",
      "-- Epoch 89\n",
      "Norm: 9.84, NNZs: 1, Bias: 1.143280, T: 356, Avg. loss: 0.134552\n",
      "Total training time: 0.00 seconds.\n",
      "-- Epoch 90\n",
      "Norm: 9.84, NNZs: 1, Bias: 1.140972, T: 360, Avg. loss: 0.133445\n",
      "Total training time: 0.00 seconds.\n",
      "-- Epoch 91\n",
      "Norm: 9.84, NNZs: 1, Bias: 1.138882, T: 364, Avg. loss: 0.133506\n",
      "Total training time: 0.00 seconds.\n",
      "-- Epoch 92\n",
      "Norm: 9.84, NNZs: 1, Bias: 1.137093, T: 368, Avg. loss: 0.132842\n",
      "Total training time: 0.00 seconds.\n",
      "-- Epoch 93\n",
      "Norm: 9.84, NNZs: 1, Bias: 1.135030, T: 372, Avg. loss: 0.132566\n",
      "Total training time: 0.00 seconds.\n",
      "-- Epoch 94\n",
      "Norm: 9.84, NNZs: 1, Bias: 1.132767, T: 376, Avg. loss: 0.131493\n",
      "Total training time: 0.00 seconds.\n",
      "-- Epoch 95\n",
      "Norm: 9.84, NNZs: 1, Bias: 1.130713, T: 380, Avg. loss: 0.131546\n",
      "Total training time: 0.00 seconds.\n",
      "-- Epoch 96\n",
      "Norm: 9.84, NNZs: 1, Bias: 1.128954, T: 384, Avg. loss: 0.130903\n",
      "Total training time: 0.00 seconds.\n",
      "-- Epoch 97\n",
      "Norm: 9.84, NNZs: 1, Bias: 1.126928, T: 388, Avg. loss: 0.130631\n",
      "Total training time: 0.00 seconds.\n",
      "-- Epoch 98\n",
      "Norm: 9.84, NNZs: 1, Bias: 1.124707, T: 392, Avg. loss: 0.129592\n",
      "Total training time: 0.00 seconds.\n",
      "-- Epoch 99\n",
      "Norm: 9.84, NNZs: 1, Bias: 1.122689, T: 396, Avg. loss: 0.129638\n",
      "Total training time: 0.00 seconds.\n",
      "-- Epoch 100\n",
      "Norm: 9.85, NNZs: 1, Bias: 1.120958, T: 400, Avg. loss: 0.129014\n",
      "Total training time: 0.00 seconds.\n",
      "-- Epoch 101\n",
      "Norm: 9.85, NNZs: 1, Bias: 1.118968, T: 404, Avg. loss: 0.128747\n",
      "Total training time: 0.00 seconds.\n",
      "-- Epoch 102\n",
      "Norm: 9.84, NNZs: 1, Bias: 1.116787, T: 408, Avg. loss: 0.127739\n",
      "Total training time: 0.00 seconds.\n",
      "-- Epoch 103\n",
      "Norm: 9.84, NNZs: 1, Bias: 1.114803, T: 412, Avg. loss: 0.127778\n",
      "Total training time: 0.00 seconds.\n",
      "-- Epoch 104\n",
      "Norm: 9.85, NNZs: 1, Bias: 1.113098, T: 416, Avg. loss: 0.127172\n",
      "Total training time: 0.00 seconds.\n",
      "-- Epoch 105\n",
      "Norm: 9.85, NNZs: 1, Bias: 1.111142, T: 420, Avg. loss: 0.126910\n",
      "Total training time: 0.00 seconds.\n",
      "-- Epoch 106\n",
      "Norm: 9.85, NNZs: 1, Bias: 1.108999, T: 424, Avg. loss: 0.125931\n",
      "Total training time: 0.00 seconds.\n",
      "-- Epoch 107\n",
      "Norm: 9.85, NNZs: 1, Bias: 1.107048, T: 428, Avg. loss: 0.125964\n",
      "Total training time: 0.00 seconds.\n",
      "Convergence after 107 epochs took 0.00 seconds\n"
     ]
    },
    {
     "data": {
      "text/html": [
       "<style>#sk-container-id-2 {color: black;background-color: white;}#sk-container-id-2 pre{padding: 0;}#sk-container-id-2 div.sk-toggleable {background-color: white;}#sk-container-id-2 label.sk-toggleable__label {cursor: pointer;display: block;width: 100%;margin-bottom: 0;padding: 0.3em;box-sizing: border-box;text-align: center;}#sk-container-id-2 label.sk-toggleable__label-arrow:before {content: \"▸\";float: left;margin-right: 0.25em;color: #696969;}#sk-container-id-2 label.sk-toggleable__label-arrow:hover:before {color: black;}#sk-container-id-2 div.sk-estimator:hover label.sk-toggleable__label-arrow:before {color: black;}#sk-container-id-2 div.sk-toggleable__content {max-height: 0;max-width: 0;overflow: hidden;text-align: left;background-color: #f0f8ff;}#sk-container-id-2 div.sk-toggleable__content pre {margin: 0.2em;color: black;border-radius: 0.25em;background-color: #f0f8ff;}#sk-container-id-2 input.sk-toggleable__control:checked~div.sk-toggleable__content {max-height: 200px;max-width: 100%;overflow: auto;}#sk-container-id-2 input.sk-toggleable__control:checked~label.sk-toggleable__label-arrow:before {content: \"▾\";}#sk-container-id-2 div.sk-estimator input.sk-toggleable__control:checked~label.sk-toggleable__label {background-color: #d4ebff;}#sk-container-id-2 div.sk-label input.sk-toggleable__control:checked~label.sk-toggleable__label {background-color: #d4ebff;}#sk-container-id-2 input.sk-hidden--visually {border: 0;clip: rect(1px 1px 1px 1px);clip: rect(1px, 1px, 1px, 1px);height: 1px;margin: -1px;overflow: hidden;padding: 0;position: absolute;width: 1px;}#sk-container-id-2 div.sk-estimator {font-family: monospace;background-color: #f0f8ff;border: 1px dotted black;border-radius: 0.25em;box-sizing: border-box;margin-bottom: 0.5em;}#sk-container-id-2 div.sk-estimator:hover {background-color: #d4ebff;}#sk-container-id-2 div.sk-parallel-item::after {content: \"\";width: 100%;border-bottom: 1px solid gray;flex-grow: 1;}#sk-container-id-2 div.sk-label:hover label.sk-toggleable__label {background-color: #d4ebff;}#sk-container-id-2 div.sk-serial::before {content: \"\";position: absolute;border-left: 1px solid gray;box-sizing: border-box;top: 0;bottom: 0;left: 50%;z-index: 0;}#sk-container-id-2 div.sk-serial {display: flex;flex-direction: column;align-items: center;background-color: white;padding-right: 0.2em;padding-left: 0.2em;position: relative;}#sk-container-id-2 div.sk-item {position: relative;z-index: 1;}#sk-container-id-2 div.sk-parallel {display: flex;align-items: stretch;justify-content: center;background-color: white;position: relative;}#sk-container-id-2 div.sk-item::before, #sk-container-id-2 div.sk-parallel-item::before {content: \"\";position: absolute;border-left: 1px solid gray;box-sizing: border-box;top: 0;bottom: 0;left: 50%;z-index: -1;}#sk-container-id-2 div.sk-parallel-item {display: flex;flex-direction: column;z-index: 1;position: relative;background-color: white;}#sk-container-id-2 div.sk-parallel-item:first-child::after {align-self: flex-end;width: 50%;}#sk-container-id-2 div.sk-parallel-item:last-child::after {align-self: flex-start;width: 50%;}#sk-container-id-2 div.sk-parallel-item:only-child::after {width: 0;}#sk-container-id-2 div.sk-dashed-wrapped {border: 1px dashed gray;margin: 0 0.4em 0.5em 0.4em;box-sizing: border-box;padding-bottom: 0.4em;background-color: white;}#sk-container-id-2 div.sk-label label {font-family: monospace;font-weight: bold;display: inline-block;line-height: 1.2em;}#sk-container-id-2 div.sk-label-container {text-align: center;}#sk-container-id-2 div.sk-container {/* jupyter's `normalize.less` sets `[hidden] { display: none; }` but bootstrap.min.css set `[hidden] { display: none !important; }` so we also need the `!important` here to be able to override the default hidden behavior on the sphinx rendered scikit-learn.org. See: https://github.com/scikit-learn/scikit-learn/issues/21755 */display: inline-block !important;position: relative;}#sk-container-id-2 div.sk-text-repr-fallback {display: none;}</style><div id=\"sk-container-id-2\" class=\"sk-top-container\"><div class=\"sk-text-repr-fallback\"><pre>SGDRegressor(verbose=1)</pre><b>In a Jupyter environment, please rerun this cell to show the HTML representation or trust the notebook. <br />On GitHub, the HTML representation is unable to render, please try loading this page with nbviewer.org.</b></div><div class=\"sk-container\" hidden><div class=\"sk-item\"><div class=\"sk-estimator sk-toggleable\"><input class=\"sk-toggleable__control sk-hidden--visually\" id=\"sk-estimator-id-2\" type=\"checkbox\" checked><label for=\"sk-estimator-id-2\" class=\"sk-toggleable__label sk-toggleable__label-arrow\">SGDRegressor</label><div class=\"sk-toggleable__content\"><pre>SGDRegressor(verbose=1)</pre></div></div></div></div></div>"
      ],
      "text/plain": [
       "SGDRegressor(verbose=1)"
      ]
     },
     "execution_count": 16,
     "metadata": {},
     "output_type": "execute_result"
    }
   ],
   "source": [
    "sgd_model.fit(X,y)"
   ]
  },
  {
   "cell_type": "code",
   "execution_count": 17,
   "id": "4ee3fca6",
   "metadata": {},
   "outputs": [
    {
     "data": {
      "text/plain": [
       "array([9.84595885])"
      ]
     },
     "execution_count": 17,
     "metadata": {},
     "output_type": "execute_result"
    }
   ],
   "source": [
    "sgd_model.coef_"
   ]
  },
  {
   "cell_type": "code",
   "execution_count": 18,
   "id": "14ad8a0b",
   "metadata": {
    "scrolled": true
   },
   "outputs": [
    {
     "data": {
      "text/plain": [
       "array([1.10704815])"
      ]
     },
     "execution_count": 18,
     "metadata": {},
     "output_type": "execute_result"
    }
   ],
   "source": [
    "sgd_model.intercept_"
   ]
  },
  {
   "cell_type": "code",
   "execution_count": null,
   "id": "25f3bedc",
   "metadata": {},
   "outputs": [],
   "source": []
  },
  {
   "cell_type": "code",
   "execution_count": 19,
   "id": "24264628",
   "metadata": {},
   "outputs": [],
   "source": [
    "import pandas as pd\n",
    "import numpy as np"
   ]
  },
  {
   "cell_type": "code",
   "execution_count": 20,
   "id": "9e0573e6",
   "metadata": {},
   "outputs": [],
   "source": [
    "data_url = \"http://lib.stat.cmu.edu/datasets/boston\"\n",
    "raw_df = pd.read_csv(data_url, sep=\"\\s+\", skiprows=22, header=None)\n",
    "data = np.hstack([raw_df.values[::2, :], raw_df.values[1::2, :2]])\n",
    "target = raw_df.values[1::2, 2]"
   ]
  },
  {
   "cell_type": "code",
   "execution_count": 21,
   "id": "55f32cfb",
   "metadata": {},
   "outputs": [
    {
     "data": {
      "text/html": [
       "<div>\n",
       "<style scoped>\n",
       "    .dataframe tbody tr th:only-of-type {\n",
       "        vertical-align: middle;\n",
       "    }\n",
       "\n",
       "    .dataframe tbody tr th {\n",
       "        vertical-align: top;\n",
       "    }\n",
       "\n",
       "    .dataframe thead th {\n",
       "        text-align: right;\n",
       "    }\n",
       "</style>\n",
       "<table border=\"1\" class=\"dataframe\">\n",
       "  <thead>\n",
       "    <tr style=\"text-align: right;\">\n",
       "      <th></th>\n",
       "      <th>CRIM</th>\n",
       "      <th>ZN</th>\n",
       "      <th>INDUS</th>\n",
       "      <th>CHAS</th>\n",
       "      <th>NOX</th>\n",
       "      <th>RM</th>\n",
       "      <th>AGE</th>\n",
       "      <th>DIS</th>\n",
       "      <th>RAD</th>\n",
       "      <th>TAX</th>\n",
       "      <th>PTRATIO</th>\n",
       "      <th>B</th>\n",
       "      <th>LSTAT</th>\n",
       "    </tr>\n",
       "  </thead>\n",
       "  <tbody>\n",
       "    <tr>\n",
       "      <th>0</th>\n",
       "      <td>0.00632</td>\n",
       "      <td>18.0</td>\n",
       "      <td>2.31</td>\n",
       "      <td>0.0</td>\n",
       "      <td>0.538</td>\n",
       "      <td>6.575</td>\n",
       "      <td>65.2</td>\n",
       "      <td>4.0900</td>\n",
       "      <td>1.0</td>\n",
       "      <td>296.0</td>\n",
       "      <td>15.3</td>\n",
       "      <td>396.90</td>\n",
       "      <td>4.98</td>\n",
       "    </tr>\n",
       "    <tr>\n",
       "      <th>1</th>\n",
       "      <td>0.02731</td>\n",
       "      <td>0.0</td>\n",
       "      <td>7.07</td>\n",
       "      <td>0.0</td>\n",
       "      <td>0.469</td>\n",
       "      <td>6.421</td>\n",
       "      <td>78.9</td>\n",
       "      <td>4.9671</td>\n",
       "      <td>2.0</td>\n",
       "      <td>242.0</td>\n",
       "      <td>17.8</td>\n",
       "      <td>396.90</td>\n",
       "      <td>9.14</td>\n",
       "    </tr>\n",
       "    <tr>\n",
       "      <th>2</th>\n",
       "      <td>0.02729</td>\n",
       "      <td>0.0</td>\n",
       "      <td>7.07</td>\n",
       "      <td>0.0</td>\n",
       "      <td>0.469</td>\n",
       "      <td>7.185</td>\n",
       "      <td>61.1</td>\n",
       "      <td>4.9671</td>\n",
       "      <td>2.0</td>\n",
       "      <td>242.0</td>\n",
       "      <td>17.8</td>\n",
       "      <td>392.83</td>\n",
       "      <td>4.03</td>\n",
       "    </tr>\n",
       "    <tr>\n",
       "      <th>3</th>\n",
       "      <td>0.03237</td>\n",
       "      <td>0.0</td>\n",
       "      <td>2.18</td>\n",
       "      <td>0.0</td>\n",
       "      <td>0.458</td>\n",
       "      <td>6.998</td>\n",
       "      <td>45.8</td>\n",
       "      <td>6.0622</td>\n",
       "      <td>3.0</td>\n",
       "      <td>222.0</td>\n",
       "      <td>18.7</td>\n",
       "      <td>394.63</td>\n",
       "      <td>2.94</td>\n",
       "    </tr>\n",
       "    <tr>\n",
       "      <th>4</th>\n",
       "      <td>0.06905</td>\n",
       "      <td>0.0</td>\n",
       "      <td>2.18</td>\n",
       "      <td>0.0</td>\n",
       "      <td>0.458</td>\n",
       "      <td>7.147</td>\n",
       "      <td>54.2</td>\n",
       "      <td>6.0622</td>\n",
       "      <td>3.0</td>\n",
       "      <td>222.0</td>\n",
       "      <td>18.7</td>\n",
       "      <td>396.90</td>\n",
       "      <td>5.33</td>\n",
       "    </tr>\n",
       "  </tbody>\n",
       "</table>\n",
       "</div>"
      ],
      "text/plain": [
       "      CRIM    ZN  INDUS  CHAS    NOX     RM   AGE     DIS  RAD    TAX  \\\n",
       "0  0.00632  18.0   2.31   0.0  0.538  6.575  65.2  4.0900  1.0  296.0   \n",
       "1  0.02731   0.0   7.07   0.0  0.469  6.421  78.9  4.9671  2.0  242.0   \n",
       "2  0.02729   0.0   7.07   0.0  0.469  7.185  61.1  4.9671  2.0  242.0   \n",
       "3  0.03237   0.0   2.18   0.0  0.458  6.998  45.8  6.0622  3.0  222.0   \n",
       "4  0.06905   0.0   2.18   0.0  0.458  7.147  54.2  6.0622  3.0  222.0   \n",
       "\n",
       "   PTRATIO       B  LSTAT  \n",
       "0     15.3  396.90   4.98  \n",
       "1     17.8  396.90   9.14  \n",
       "2     17.8  392.83   4.03  \n",
       "3     18.7  394.63   2.94  \n",
       "4     18.7  396.90   5.33  "
      ]
     },
     "execution_count": 21,
     "metadata": {},
     "output_type": "execute_result"
    }
   ],
   "source": [
    "boston_df = pd.DataFrame(data, columns=[\"CRIM\", \"ZN\", \"INDUS\", \"CHAS\",\"NOX\", \"RM\", \"AGE\", \"DIS\", \"RAD\", \"TAX\", \"PTRATIO\", \"B\",\"LSTAT\"])\n",
    "boston_df.head()"
   ]
  },
  {
   "cell_type": "code",
   "execution_count": 22,
   "id": "d57276d1",
   "metadata": {},
   "outputs": [
    {
     "data": {
      "text/plain": [
       "0      24.0\n",
       "1      21.6\n",
       "2      34.7\n",
       "3      33.4\n",
       "4      36.2\n",
       "       ... \n",
       "501    22.4\n",
       "502    20.6\n",
       "503    23.9\n",
       "504    22.0\n",
       "505    11.9\n",
       "Name: MEDV, Length: 506, dtype: float64"
      ]
     },
     "execution_count": 22,
     "metadata": {},
     "output_type": "execute_result"
    }
   ],
   "source": [
    "target_sr = pd.Series(target, name=\"MEDV\")\n",
    "target_sr"
   ]
  },
  {
   "cell_type": "code",
   "execution_count": 23,
   "id": "3e3634a1",
   "metadata": {},
   "outputs": [],
   "source": [
    "from sklearn.model_selection import train_test_split"
   ]
  },
  {
   "cell_type": "code",
   "execution_count": 24,
   "id": "f98a9ec8",
   "metadata": {},
   "outputs": [],
   "source": [
    "X_train, X_test, y_train, y_test = train_test_split(boston_df, target_sr, test_size=0.2, random_state=823)"
   ]
  },
  {
   "cell_type": "code",
   "execution_count": 25,
   "id": "db3b93e7",
   "metadata": {},
   "outputs": [
    {
     "name": "stdout",
     "output_type": "stream",
     "text": [
      "(404, 13) (404,)\n",
      "(102, 13) (102,)\n"
     ]
    }
   ],
   "source": [
    "print(X_train.shape, y_train.shape)\n",
    "print(X_test.shape, y_test.shape)"
   ]
  },
  {
   "cell_type": "markdown",
   "id": "0e90bf47",
   "metadata": {},
   "source": [
    "# 단순 선형 회귀"
   ]
  },
  {
   "cell_type": "code",
   "execution_count": 26,
   "id": "b2b13879",
   "metadata": {},
   "outputs": [
    {
     "data": {
      "text/plain": [
       "<function matplotlib.pyplot.show(close=None, block=None)>"
      ]
     },
     "execution_count": 26,
     "metadata": {},
     "output_type": "execute_result"
    },
    {
     "data": {
      "image/png": "[encoded data removed]",
      "text/plain": [
       "<Figure size 1000x500 with 1 Axes>"
      ]
     },
     "metadata": {},
     "output_type": "display_data"
    }
   ],
   "source": [
    "# LSTAT와 MEDV 사이의 관계를 그래프로 확인해보자\n",
    "plt.figure(figsize=(10,5))\n",
    "plt.scatter(X_train['LSTAT'],y_train)\n",
    "plt.xlabel('LSTAT')\n",
    "plt.ylabel('MEDV')\n",
    "plt.show"
   ]
  },
  {
   "cell_type": "code",
   "execution_count": 27,
   "id": "8dcd3782",
   "metadata": {},
   "outputs": [
    {
     "data": {
      "text/html": [
       "<style>#sk-container-id-3 {color: black;background-color: white;}#sk-container-id-3 pre{padding: 0;}#sk-container-id-3 div.sk-toggleable {background-color: white;}#sk-container-id-3 label.sk-toggleable__label {cursor: pointer;display: block;width: 100%;margin-bottom: 0;padding: 0.3em;box-sizing: border-box;text-align: center;}#sk-container-id-3 label.sk-toggleable__label-arrow:before {content: \"▸\";float: left;margin-right: 0.25em;color: #696969;}#sk-container-id-3 label.sk-toggleable__label-arrow:hover:before {color: black;}#sk-container-id-3 div.sk-estimator:hover label.sk-toggleable__label-arrow:before {color: black;}#sk-container-id-3 div.sk-toggleable__content {max-height: 0;max-width: 0;overflow: hidden;text-align: left;background-color: #f0f8ff;}#sk-container-id-3 div.sk-toggleable__content pre {margin: 0.2em;color: black;border-radius: 0.25em;background-color: #f0f8ff;}#sk-container-id-3 input.sk-toggleable__control:checked~div.sk-toggleable__content {max-height: 200px;max-width: 100%;overflow: auto;}#sk-container-id-3 input.sk-toggleable__control:checked~label.sk-toggleable__label-arrow:before {content: \"▾\";}#sk-container-id-3 div.sk-estimator input.sk-toggleable__control:checked~label.sk-toggleable__label {background-color: #d4ebff;}#sk-container-id-3 div.sk-label input.sk-toggleable__control:checked~label.sk-toggleable__label {background-color: #d4ebff;}#sk-container-id-3 input.sk-hidden--visually {border: 0;clip: rect(1px 1px 1px 1px);clip: rect(1px, 1px, 1px, 1px);height: 1px;margin: -1px;overflow: hidden;padding: 0;position: absolute;width: 1px;}#sk-container-id-3 div.sk-estimator {font-family: monospace;background-color: #f0f8ff;border: 1px dotted black;border-radius: 0.25em;box-sizing: border-box;margin-bottom: 0.5em;}#sk-container-id-3 div.sk-estimator:hover {background-color: #d4ebff;}#sk-container-id-3 div.sk-parallel-item::after {content: \"\";width: 100%;border-bottom: 1px solid gray;flex-grow: 1;}#sk-container-id-3 div.sk-label:hover label.sk-toggleable__label {background-color: #d4ebff;}#sk-container-id-3 div.sk-serial::before {content: \"\";position: absolute;border-left: 1px solid gray;box-sizing: border-box;top: 0;bottom: 0;left: 50%;z-index: 0;}#sk-container-id-3 div.sk-serial {display: flex;flex-direction: column;align-items: center;background-color: white;padding-right: 0.2em;padding-left: 0.2em;position: relative;}#sk-container-id-3 div.sk-item {position: relative;z-index: 1;}#sk-container-id-3 div.sk-parallel {display: flex;align-items: stretch;justify-content: center;background-color: white;position: relative;}#sk-container-id-3 div.sk-item::before, #sk-container-id-3 div.sk-parallel-item::before {content: \"\";position: absolute;border-left: 1px solid gray;box-sizing: border-box;top: 0;bottom: 0;left: 50%;z-index: -1;}#sk-container-id-3 div.sk-parallel-item {display: flex;flex-direction: column;z-index: 1;position: relative;background-color: white;}#sk-container-id-3 div.sk-parallel-item:first-child::after {align-self: flex-end;width: 50%;}#sk-container-id-3 div.sk-parallel-item:last-child::after {align-self: flex-start;width: 50%;}#sk-container-id-3 div.sk-parallel-item:only-child::after {width: 0;}#sk-container-id-3 div.sk-dashed-wrapped {border: 1px dashed gray;margin: 0 0.4em 0.5em 0.4em;box-sizing: border-box;padding-bottom: 0.4em;background-color: white;}#sk-container-id-3 div.sk-label label {font-family: monospace;font-weight: bold;display: inline-block;line-height: 1.2em;}#sk-container-id-3 div.sk-label-container {text-align: center;}#sk-container-id-3 div.sk-container {/* jupyter's `normalize.less` sets `[hidden] { display: none; }` but bootstrap.min.css set `[hidden] { display: none !important; }` so we also need the `!important` here to be able to override the default hidden behavior on the sphinx rendered scikit-learn.org. See: https://github.com/scikit-learn/scikit-learn/issues/21755 */display: inline-block !important;position: relative;}#sk-container-id-3 div.sk-text-repr-fallback {display: none;}</style><div id=\"sk-container-id-3\" class=\"sk-top-container\"><div class=\"sk-text-repr-fallback\"><pre>LinearRegression()</pre><b>In a Jupyter environment, please rerun this cell to show the HTML representation or trust the notebook. <br />On GitHub, the HTML representation is unable to render, please try loading this page with nbviewer.org.</b></div><div class=\"sk-container\" hidden><div class=\"sk-item\"><div class=\"sk-estimator sk-toggleable\"><input class=\"sk-toggleable__control sk-hidden--visually\" id=\"sk-estimator-id-3\" type=\"checkbox\" checked><label for=\"sk-estimator-id-3\" class=\"sk-toggleable__label sk-toggleable__label-arrow\">LinearRegression</label><div class=\"sk-toggleable__content\"><pre>LinearRegression()</pre></div></div></div></div></div>"
      ],
      "text/plain": [
       "LinearRegression()"
      ]
     },
     "execution_count": 27,
     "metadata": {},
     "output_type": "execute_result"
    }
   ],
   "source": [
    "house_linear = LinearRegression()\n",
    "house_linear.fit(X_train[[\"LSTAT\"]], y_train)"
   ]
  },
  {
   "cell_type": "code",
   "execution_count": 28,
   "id": "c460e673",
   "metadata": {},
   "outputs": [
    {
     "name": "stdout",
     "output_type": "stream",
     "text": [
      "[-0.96179679]\n",
      "34.80022587064779\n"
     ]
    }
   ],
   "source": [
    "print(house_linear.coef_)\n",
    "print(house_linear.intercept_)"
   ]
  },
  {
   "cell_type": "code",
   "execution_count": 29,
   "id": "b176de0b",
   "metadata": {},
   "outputs": [
    {
     "name": "stderr",
     "output_type": "stream",
     "text": [
      "C:\\Users\\gjaischool\\anaconda3\\lib\\site-packages\\sklearn\\base.py:420: UserWarning: X does not have valid feature names, but LinearRegression was fitted with feature names\n",
      "  warnings.warn(\n"
     ]
    }
   ],
   "source": [
    "y_pre = house_linear.predict(np.arange(40).reshape(-1,1))"
   ]
  },
  {
   "cell_type": "code",
   "execution_count": 30,
   "id": "54d7268a",
   "metadata": {},
   "outputs": [
    {
     "data": {
      "text/plain": [
       "array([34.80022587, 33.83842908, 32.87663229, 31.9148355 , 30.95303871,\n",
       "       29.99124192, 29.02944513, 28.06764834, 27.10585155, 26.14405476,\n",
       "       25.18225797, 24.22046118, 23.25866439, 22.2968676 , 21.33507081,\n",
       "       20.37327402, 19.41147723, 18.44968044, 17.48788365, 16.52608686,\n",
       "       15.56429007, 14.60249328, 13.64069649, 12.6788997 , 11.71710291,\n",
       "       10.75530612,  9.79350933,  8.83171254,  7.86991575,  6.90811896,\n",
       "        5.94632218,  4.98452539,  4.0227286 ,  3.06093181,  2.09913502,\n",
       "        1.13733823,  0.17554144, -0.78625535, -1.74805214, -2.70984893])"
      ]
     },
     "execution_count": 30,
     "metadata": {},
     "output_type": "execute_result"
    }
   ],
   "source": [
    "y_pre"
   ]
  },
  {
   "cell_type": "code",
   "execution_count": 31,
   "id": "39d1929f",
   "metadata": {},
   "outputs": [
    {
     "data": {
      "text/plain": [
       "<function matplotlib.pyplot.show(close=None, block=None)>"
      ]
     },
     "execution_count": 31,
     "metadata": {},
     "output_type": "execute_result"
    },
    {
     "data": {
      "image/png": "[encoded data removed]",
      "text/plain": [
       "<Figure size 1000x500 with 1 Axes>"
      ]
     },
     "metadata": {},
     "output_type": "display_data"
    }
   ],
   "source": [
    "plt.figure(figsize=(10,5))\n",
    "plt.scatter(X_train['LSTAT'],y_train)\n",
    "# 모델이 예측한 선을 시각화\n",
    "plt.plot(y_pre, c='red')\n",
    "plt.xlabel('LSTAT')\n",
    "plt.ylabel('MEDV')\n",
    "plt.show"
   ]
  },
  {
   "cell_type": "markdown",
   "id": "cd47f0d3",
   "metadata": {},
   "source": [
    "# 다항회귀"
   ]
  },
  {
   "cell_type": "code",
   "execution_count": 32,
   "id": "47dfafd5",
   "metadata": {},
   "outputs": [],
   "source": [
    "# 특성확장\n",
    "# 단순 선형 회귀의 경우 직선형태로 예측선이 학습된다.\n",
    "# 데이터 패턴에 따라 곡선의 예측선이 필요한 경우 특성을 확장하여 \n",
    "# 다항회귀를 진행해 볼 수 있다.\n",
    "boston_df['LSTAT * LSTAT']= boston_df['LSTAT']* boston_df['LSTAT']"
   ]
  },
  {
   "cell_type": "code",
   "execution_count": 33,
   "id": "857a5735",
   "metadata": {},
   "outputs": [],
   "source": [
    "X_train, X_test, y_train, y_test = train_test_split(boston_df, target_sr, test_size=0.2, random_state=823)"
   ]
  },
  {
   "cell_type": "code",
   "execution_count": 34,
   "id": "ccd1712b",
   "metadata": {},
   "outputs": [
    {
     "name": "stdout",
     "output_type": "stream",
     "text": [
      "(404, 14) (404,)\n",
      "(102, 14) (102,)\n"
     ]
    }
   ],
   "source": [
    "print(X_train.shape, y_train.shape)\n",
    "print(X_test.shape, y_test.shape)"
   ]
  },
  {
   "cell_type": "code",
   "execution_count": 35,
   "id": "8294c71c",
   "metadata": {
    "scrolled": true
   },
   "outputs": [
    {
     "data": {
      "text/html": [
       "<style>#sk-container-id-4 {color: black;background-color: white;}#sk-container-id-4 pre{padding: 0;}#sk-container-id-4 div.sk-toggleable {background-color: white;}#sk-container-id-4 label.sk-toggleable__label {cursor: pointer;display: block;width: 100%;margin-bottom: 0;padding: 0.3em;box-sizing: border-box;text-align: center;}#sk-container-id-4 label.sk-toggleable__label-arrow:before {content: \"▸\";float: left;margin-right: 0.25em;color: #696969;}#sk-container-id-4 label.sk-toggleable__label-arrow:hover:before {color: black;}#sk-container-id-4 div.sk-estimator:hover label.sk-toggleable__label-arrow:before {color: black;}#sk-container-id-4 div.sk-toggleable__content {max-height: 0;max-width: 0;overflow: hidden;text-align: left;background-color: #f0f8ff;}#sk-container-id-4 div.sk-toggleable__content pre {margin: 0.2em;color: black;border-radius: 0.25em;background-color: #f0f8ff;}#sk-container-id-4 input.sk-toggleable__control:checked~div.sk-toggleable__content {max-height: 200px;max-width: 100%;overflow: auto;}#sk-container-id-4 input.sk-toggleable__control:checked~label.sk-toggleable__label-arrow:before {content: \"▾\";}#sk-container-id-4 div.sk-estimator input.sk-toggleable__control:checked~label.sk-toggleable__label {background-color: #d4ebff;}#sk-container-id-4 div.sk-label input.sk-toggleable__control:checked~label.sk-toggleable__label {background-color: #d4ebff;}#sk-container-id-4 input.sk-hidden--visually {border: 0;clip: rect(1px 1px 1px 1px);clip: rect(1px, 1px, 1px, 1px);height: 1px;margin: -1px;overflow: hidden;padding: 0;position: absolute;width: 1px;}#sk-container-id-4 div.sk-estimator {font-family: monospace;background-color: #f0f8ff;border: 1px dotted black;border-radius: 0.25em;box-sizing: border-box;margin-bottom: 0.5em;}#sk-container-id-4 div.sk-estimator:hover {background-color: #d4ebff;}#sk-container-id-4 div.sk-parallel-item::after {content: \"\";width: 100%;border-bottom: 1px solid gray;flex-grow: 1;}#sk-container-id-4 div.sk-label:hover label.sk-toggleable__label {background-color: #d4ebff;}#sk-container-id-4 div.sk-serial::before {content: \"\";position: absolute;border-left: 1px solid gray;box-sizing: border-box;top: 0;bottom: 0;left: 50%;z-index: 0;}#sk-container-id-4 div.sk-serial {display: flex;flex-direction: column;align-items: center;background-color: white;padding-right: 0.2em;padding-left: 0.2em;position: relative;}#sk-container-id-4 div.sk-item {position: relative;z-index: 1;}#sk-container-id-4 div.sk-parallel {display: flex;align-items: stretch;justify-content: center;background-color: white;position: relative;}#sk-container-id-4 div.sk-item::before, #sk-container-id-4 div.sk-parallel-item::before {content: \"\";position: absolute;border-left: 1px solid gray;box-sizing: border-box;top: 0;bottom: 0;left: 50%;z-index: -1;}#sk-container-id-4 div.sk-parallel-item {display: flex;flex-direction: column;z-index: 1;position: relative;background-color: white;}#sk-container-id-4 div.sk-parallel-item:first-child::after {align-self: flex-end;width: 50%;}#sk-container-id-4 div.sk-parallel-item:last-child::after {align-self: flex-start;width: 50%;}#sk-container-id-4 div.sk-parallel-item:only-child::after {width: 0;}#sk-container-id-4 div.sk-dashed-wrapped {border: 1px dashed gray;margin: 0 0.4em 0.5em 0.4em;box-sizing: border-box;padding-bottom: 0.4em;background-color: white;}#sk-container-id-4 div.sk-label label {font-family: monospace;font-weight: bold;display: inline-block;line-height: 1.2em;}#sk-container-id-4 div.sk-label-container {text-align: center;}#sk-container-id-4 div.sk-container {/* jupyter's `normalize.less` sets `[hidden] { display: none; }` but bootstrap.min.css set `[hidden] { display: none !important; }` so we also need the `!important` here to be able to override the default hidden behavior on the sphinx rendered scikit-learn.org. See: https://github.com/scikit-learn/scikit-learn/issues/21755 */display: inline-block !important;position: relative;}#sk-container-id-4 div.sk-text-repr-fallback {display: none;}</style><div id=\"sk-container-id-4\" class=\"sk-top-container\"><div class=\"sk-text-repr-fallback\"><pre>LinearRegression()</pre><b>In a Jupyter environment, please rerun this cell to show the HTML representation or trust the notebook. <br />On GitHub, the HTML representation is unable to render, please try loading this page with nbviewer.org.</b></div><div class=\"sk-container\" hidden><div class=\"sk-item\"><div class=\"sk-estimator sk-toggleable\"><input class=\"sk-toggleable__control sk-hidden--visually\" id=\"sk-estimator-id-4\" type=\"checkbox\" checked><label for=\"sk-estimator-id-4\" class=\"sk-toggleable__label sk-toggleable__label-arrow\">LinearRegression</label><div class=\"sk-toggleable__content\"><pre>LinearRegression()</pre></div></div></div></div></div>"
      ],
      "text/plain": [
       "LinearRegression()"
      ]
     },
     "execution_count": 35,
     "metadata": {},
     "output_type": "execute_result"
    }
   ],
   "source": [
    "# 확장된 특성을 추가하여 학습\n",
    "house_linear2 = LinearRegression()\n",
    "house_linear2.fit(X_train[[\"LSTAT\",\"LSTAT * LSTAT\"]], y_train)"
   ]
  },
  {
   "cell_type": "code",
   "execution_count": null,
   "id": "0bd3ba3e",
   "metadata": {},
   "outputs": [],
   "source": []
  },
  {
   "cell_type": "code",
   "execution_count": 36,
   "id": "5b3cd2cb",
   "metadata": {},
   "outputs": [],
   "source": [
    "y_pre2 = house_linear2.predict(X_test[[\"LSTAT\", \"LSTAT * LSTAT\"]])"
   ]
  },
  {
   "cell_type": "code",
   "execution_count": 37,
   "id": "1920c819",
   "metadata": {},
   "outputs": [
    {
     "data": {
      "text/plain": [
       "<function matplotlib.pyplot.show(close=None, block=None)>"
      ]
     },
     "execution_count": 37,
     "metadata": {},
     "output_type": "execute_result"
    },
    {
     "data": {
      "image/png": "[encoded data removed]",
      "text/plain": [
       "<Figure size 1000x500 with 1 Axes>"
      ]
     },
     "metadata": {},
     "output_type": "display_data"
    }
   ],
   "source": [
    "# LSTAT와 MEDV 사이의 관계를 그래프로 확인해보자\n",
    "plt.figure(figsize=(10,5))\n",
    "plt.scatter(X_train['LSTAT'],y_train)\n",
    "plt.xlabel('LSTAT')\n",
    "plt.ylabel('MEDV')\n",
    "plt.show"
   ]
  },
  {
   "cell_type": "code",
   "execution_count": 38,
   "id": "31876f1b",
   "metadata": {},
   "outputs": [
    {
     "data": {
      "text/html": [
       "<div>\n",
       "<style scoped>\n",
       "    .dataframe tbody tr th:only-of-type {\n",
       "        vertical-align: middle;\n",
       "    }\n",
       "\n",
       "    .dataframe tbody tr th {\n",
       "        vertical-align: top;\n",
       "    }\n",
       "\n",
       "    .dataframe thead th {\n",
       "        text-align: right;\n",
       "    }\n",
       "</style>\n",
       "<table border=\"1\" class=\"dataframe\">\n",
       "  <thead>\n",
       "    <tr style=\"text-align: right;\">\n",
       "      <th></th>\n",
       "      <th>0</th>\n",
       "      <th>1</th>\n",
       "    </tr>\n",
       "  </thead>\n",
       "  <tbody>\n",
       "    <tr>\n",
       "      <th>0</th>\n",
       "      <td>0</td>\n",
       "      <td>0</td>\n",
       "    </tr>\n",
       "    <tr>\n",
       "      <th>1</th>\n",
       "      <td>1</td>\n",
       "      <td>1</td>\n",
       "    </tr>\n",
       "    <tr>\n",
       "      <th>2</th>\n",
       "      <td>2</td>\n",
       "      <td>4</td>\n",
       "    </tr>\n",
       "    <tr>\n",
       "      <th>3</th>\n",
       "      <td>3</td>\n",
       "      <td>9</td>\n",
       "    </tr>\n",
       "    <tr>\n",
       "      <th>4</th>\n",
       "      <td>4</td>\n",
       "      <td>16</td>\n",
       "    </tr>\n",
       "    <tr>\n",
       "      <th>5</th>\n",
       "      <td>5</td>\n",
       "      <td>25</td>\n",
       "    </tr>\n",
       "    <tr>\n",
       "      <th>6</th>\n",
       "      <td>6</td>\n",
       "      <td>36</td>\n",
       "    </tr>\n",
       "    <tr>\n",
       "      <th>7</th>\n",
       "      <td>7</td>\n",
       "      <td>49</td>\n",
       "    </tr>\n",
       "    <tr>\n",
       "      <th>8</th>\n",
       "      <td>8</td>\n",
       "      <td>64</td>\n",
       "    </tr>\n",
       "    <tr>\n",
       "      <th>9</th>\n",
       "      <td>9</td>\n",
       "      <td>81</td>\n",
       "    </tr>\n",
       "    <tr>\n",
       "      <th>10</th>\n",
       "      <td>10</td>\n",
       "      <td>100</td>\n",
       "    </tr>\n",
       "    <tr>\n",
       "      <th>11</th>\n",
       "      <td>11</td>\n",
       "      <td>121</td>\n",
       "    </tr>\n",
       "    <tr>\n",
       "      <th>12</th>\n",
       "      <td>12</td>\n",
       "      <td>144</td>\n",
       "    </tr>\n",
       "    <tr>\n",
       "      <th>13</th>\n",
       "      <td>13</td>\n",
       "      <td>169</td>\n",
       "    </tr>\n",
       "    <tr>\n",
       "      <th>14</th>\n",
       "      <td>14</td>\n",
       "      <td>196</td>\n",
       "    </tr>\n",
       "    <tr>\n",
       "      <th>15</th>\n",
       "      <td>15</td>\n",
       "      <td>225</td>\n",
       "    </tr>\n",
       "    <tr>\n",
       "      <th>16</th>\n",
       "      <td>16</td>\n",
       "      <td>256</td>\n",
       "    </tr>\n",
       "    <tr>\n",
       "      <th>17</th>\n",
       "      <td>17</td>\n",
       "      <td>289</td>\n",
       "    </tr>\n",
       "    <tr>\n",
       "      <th>18</th>\n",
       "      <td>18</td>\n",
       "      <td>324</td>\n",
       "    </tr>\n",
       "    <tr>\n",
       "      <th>19</th>\n",
       "      <td>19</td>\n",
       "      <td>361</td>\n",
       "    </tr>\n",
       "    <tr>\n",
       "      <th>20</th>\n",
       "      <td>20</td>\n",
       "      <td>400</td>\n",
       "    </tr>\n",
       "    <tr>\n",
       "      <th>21</th>\n",
       "      <td>21</td>\n",
       "      <td>441</td>\n",
       "    </tr>\n",
       "    <tr>\n",
       "      <th>22</th>\n",
       "      <td>22</td>\n",
       "      <td>484</td>\n",
       "    </tr>\n",
       "    <tr>\n",
       "      <th>23</th>\n",
       "      <td>23</td>\n",
       "      <td>529</td>\n",
       "    </tr>\n",
       "    <tr>\n",
       "      <th>24</th>\n",
       "      <td>24</td>\n",
       "      <td>576</td>\n",
       "    </tr>\n",
       "    <tr>\n",
       "      <th>25</th>\n",
       "      <td>25</td>\n",
       "      <td>625</td>\n",
       "    </tr>\n",
       "    <tr>\n",
       "      <th>26</th>\n",
       "      <td>26</td>\n",
       "      <td>676</td>\n",
       "    </tr>\n",
       "    <tr>\n",
       "      <th>27</th>\n",
       "      <td>27</td>\n",
       "      <td>729</td>\n",
       "    </tr>\n",
       "    <tr>\n",
       "      <th>28</th>\n",
       "      <td>28</td>\n",
       "      <td>784</td>\n",
       "    </tr>\n",
       "    <tr>\n",
       "      <th>29</th>\n",
       "      <td>29</td>\n",
       "      <td>841</td>\n",
       "    </tr>\n",
       "    <tr>\n",
       "      <th>30</th>\n",
       "      <td>30</td>\n",
       "      <td>900</td>\n",
       "    </tr>\n",
       "    <tr>\n",
       "      <th>31</th>\n",
       "      <td>31</td>\n",
       "      <td>961</td>\n",
       "    </tr>\n",
       "    <tr>\n",
       "      <th>32</th>\n",
       "      <td>32</td>\n",
       "      <td>1024</td>\n",
       "    </tr>\n",
       "    <tr>\n",
       "      <th>33</th>\n",
       "      <td>33</td>\n",
       "      <td>1089</td>\n",
       "    </tr>\n",
       "    <tr>\n",
       "      <th>34</th>\n",
       "      <td>34</td>\n",
       "      <td>1156</td>\n",
       "    </tr>\n",
       "    <tr>\n",
       "      <th>35</th>\n",
       "      <td>35</td>\n",
       "      <td>1225</td>\n",
       "    </tr>\n",
       "    <tr>\n",
       "      <th>36</th>\n",
       "      <td>36</td>\n",
       "      <td>1296</td>\n",
       "    </tr>\n",
       "    <tr>\n",
       "      <th>37</th>\n",
       "      <td>37</td>\n",
       "      <td>1369</td>\n",
       "    </tr>\n",
       "    <tr>\n",
       "      <th>38</th>\n",
       "      <td>38</td>\n",
       "      <td>1444</td>\n",
       "    </tr>\n",
       "    <tr>\n",
       "      <th>39</th>\n",
       "      <td>39</td>\n",
       "      <td>1521</td>\n",
       "    </tr>\n",
       "  </tbody>\n",
       "</table>\n",
       "</div>"
      ],
      "text/plain": [
       "     0     1\n",
       "0    0     0\n",
       "1    1     1\n",
       "2    2     4\n",
       "3    3     9\n",
       "4    4    16\n",
       "5    5    25\n",
       "6    6    36\n",
       "7    7    49\n",
       "8    8    64\n",
       "9    9    81\n",
       "10  10   100\n",
       "11  11   121\n",
       "12  12   144\n",
       "13  13   169\n",
       "14  14   196\n",
       "15  15   225\n",
       "16  16   256\n",
       "17  17   289\n",
       "18  18   324\n",
       "19  19   361\n",
       "20  20   400\n",
       "21  21   441\n",
       "22  22   484\n",
       "23  23   529\n",
       "24  24   576\n",
       "25  25   625\n",
       "26  26   676\n",
       "27  27   729\n",
       "28  28   784\n",
       "29  29   841\n",
       "30  30   900\n",
       "31  31   961\n",
       "32  32  1024\n",
       "33  33  1089\n",
       "34  34  1156\n",
       "35  35  1225\n",
       "36  36  1296\n",
       "37  37  1369\n",
       "38  38  1444\n",
       "39  39  1521"
      ]
     },
     "execution_count": 38,
     "metadata": {},
     "output_type": "execute_result"
    }
   ],
   "source": [
    "data_df = pd.DataFrame(np.arange(40).reshape(-1,1))\n",
    "data_df[1] = data_df ** 2\n",
    "data_df"
   ]
  },
  {
   "cell_type": "code",
   "execution_count": 39,
   "id": "eb775d26",
   "metadata": {},
   "outputs": [
    {
     "name": "stderr",
     "output_type": "stream",
     "text": [
      "C:\\Users\\gjaischool\\anaconda3\\lib\\site-packages\\sklearn\\base.py:420: UserWarning: X does not have valid feature names, but LinearRegression was fitted with feature names\n",
      "  warnings.warn(\n"
     ]
    }
   ],
   "source": [
    "y_pre2 = house_linear2.predict(data_df)"
   ]
  },
  {
   "cell_type": "code",
   "execution_count": 40,
   "id": "a512e7fe",
   "metadata": {},
   "outputs": [
    {
     "data": {
      "text/plain": [
       "array([43.35805823, 41.001018  , 38.73523212, 36.56070059, 34.47742341,\n",
       "       32.48540057, 30.58463208, 28.77511795, 27.05685815, 25.42985271,\n",
       "       23.89410162, 22.44960487, 21.09636247, 19.83437442, 18.66364072,\n",
       "       17.58416137, 16.59593637, 15.69896571, 14.8932494 , 14.17878744,\n",
       "       13.55557983, 13.02362657, 12.58292765, 12.23348309, 11.97529287,\n",
       "       11.808357  , 11.73267548, 11.7482483 , 11.85507548, 12.053157  ,\n",
       "       12.34249287, 12.72308309, 13.19492766, 13.75802657, 14.41237984,\n",
       "       15.15798745, 15.99484941, 16.92296572, 17.94233638, 19.05296138])"
      ]
     },
     "execution_count": 40,
     "metadata": {},
     "output_type": "execute_result"
    }
   ],
   "source": [
    "y_pre2"
   ]
  },
  {
   "cell_type": "code",
   "execution_count": 41,
   "id": "9414f141",
   "metadata": {},
   "outputs": [
    {
     "data": {
      "text/plain": [
       "<function matplotlib.pyplot.show(close=None, block=None)>"
      ]
     },
     "execution_count": 41,
     "metadata": {},
     "output_type": "execute_result"
    },
    {
     "data": {
      "image/png": "[encoded data removed]",
      "text/plain": [
       "<Figure size 1000x500 with 1 Axes>"
      ]
     },
     "metadata": {},
     "output_type": "display_data"
    }
   ],
   "source": [
    "# LSTAT와 MEDV 사이의 관계를 그래프로 확인해보자\n",
    "plt.figure(figsize=(10,5))\n",
    "plt.scatter(X_train['LSTAT'],y_train)\n",
    "plt.plot(y_pre2, c = 'red')\n",
    "plt.xlabel('LSTAT')\n",
    "plt.ylabel('MEDV')\n",
    "plt.show"
   ]
  },
  {
   "cell_type": "markdown",
   "id": "3386751e",
   "metadata": {},
   "source": [
    "### 규제 모델 사용하기\n",
    "- LinearRegression  모델은 과대적합을 제어할 방법이 없다.\n",
    "- 규제모델인 Ridge와 Lasso를 이용해 과대적합을 제어하자."
   ]
  },
  {
   "cell_type": "code",
   "execution_count": 42,
   "id": "0433c8af",
   "metadata": {
    "collapsed": true
   },
   "outputs": [
    {
     "name": "stderr",
     "output_type": "stream",
     "text": [
      "C:\\Users\\gjaischool\\AppData\\Local\\Temp\\ipykernel_222784\\1774406544.py:5: PerformanceWarning: DataFrame is highly fragmented.  This is usually the result of calling `frame.insert` many times, which has poor performance.  Consider joining all columns at once using pd.concat(axis=1) instead. To get a de-fragmented frame, use `newframe = frame.copy()`\n",
      "  X_train[c_name1+\" * \"+c_name2] = X_train[c_name1] * X_train[c_name2]\n",
      "C:\\Users\\gjaischool\\AppData\\Local\\Temp\\ipykernel_222784\\1774406544.py:5: PerformanceWarning: DataFrame is highly fragmented.  This is usually the result of calling `frame.insert` many times, which has poor performance.  Consider joining all columns at once using pd.concat(axis=1) instead. To get a de-fragmented frame, use `newframe = frame.copy()`\n",
      "  X_train[c_name1+\" * \"+c_name2] = X_train[c_name1] * X_train[c_name2]\n",
      "C:\\Users\\gjaischool\\AppData\\Local\\Temp\\ipykernel_222784\\1774406544.py:5: PerformanceWarning: DataFrame is highly fragmented.  This is usually the result of calling `frame.insert` many times, which has poor performance.  Consider joining all columns at once using pd.concat(axis=1) instead. To get a de-fragmented frame, use `newframe = frame.copy()`\n",
      "  X_train[c_name1+\" * \"+c_name2] = X_train[c_name1] * X_train[c_name2]\n",
      "C:\\Users\\gjaischool\\AppData\\Local\\Temp\\ipykernel_222784\\1774406544.py:5: PerformanceWarning: DataFrame is highly fragmented.  This is usually the result of calling `frame.insert` many times, which has poor performance.  Consider joining all columns at once using pd.concat(axis=1) instead. To get a de-fragmented frame, use `newframe = frame.copy()`\n",
      "  X_train[c_name1+\" * \"+c_name2] = X_train[c_name1] * X_train[c_name2]\n",
      "C:\\Users\\gjaischool\\AppData\\Local\\Temp\\ipykernel_222784\\1774406544.py:5: PerformanceWarning: DataFrame is highly fragmented.  This is usually the result of calling `frame.insert` many times, which has poor performance.  Consider joining all columns at once using pd.concat(axis=1) instead. To get a de-fragmented frame, use `newframe = frame.copy()`\n",
      "  X_train[c_name1+\" * \"+c_name2] = X_train[c_name1] * X_train[c_name2]\n",
      "C:\\Users\\gjaischool\\AppData\\Local\\Temp\\ipykernel_222784\\1774406544.py:5: PerformanceWarning: DataFrame is highly fragmented.  This is usually the result of calling `frame.insert` many times, which has poor performance.  Consider joining all columns at once using pd.concat(axis=1) instead. To get a de-fragmented frame, use `newframe = frame.copy()`\n",
      "  X_train[c_name1+\" * \"+c_name2] = X_train[c_name1] * X_train[c_name2]\n",
      "C:\\Users\\gjaischool\\AppData\\Local\\Temp\\ipykernel_222784\\1774406544.py:5: PerformanceWarning: DataFrame is highly fragmented.  This is usually the result of calling `frame.insert` many times, which has poor performance.  Consider joining all columns at once using pd.concat(axis=1) instead. To get a de-fragmented frame, use `newframe = frame.copy()`\n",
      "  X_train[c_name1+\" * \"+c_name2] = X_train[c_name1] * X_train[c_name2]\n",
      "C:\\Users\\gjaischool\\AppData\\Local\\Temp\\ipykernel_222784\\1774406544.py:5: PerformanceWarning: DataFrame is highly fragmented.  This is usually the result of calling `frame.insert` many times, which has poor performance.  Consider joining all columns at once using pd.concat(axis=1) instead. To get a de-fragmented frame, use `newframe = frame.copy()`\n",
      "  X_train[c_name1+\" * \"+c_name2] = X_train[c_name1] * X_train[c_name2]\n",
      "C:\\Users\\gjaischool\\AppData\\Local\\Temp\\ipykernel_222784\\1774406544.py:5: PerformanceWarning: DataFrame is highly fragmented.  This is usually the result of calling `frame.insert` many times, which has poor performance.  Consider joining all columns at once using pd.concat(axis=1) instead. To get a de-fragmented frame, use `newframe = frame.copy()`\n",
      "  X_train[c_name1+\" * \"+c_name2] = X_train[c_name1] * X_train[c_name2]\n",
      "C:\\Users\\gjaischool\\AppData\\Local\\Temp\\ipykernel_222784\\1774406544.py:5: PerformanceWarning: DataFrame is highly fragmented.  This is usually the result of calling `frame.insert` many times, which has poor performance.  Consider joining all columns at once using pd.concat(axis=1) instead. To get a de-fragmented frame, use `newframe = frame.copy()`\n",
      "  X_train[c_name1+\" * \"+c_name2] = X_train[c_name1] * X_train[c_name2]\n",
      "C:\\Users\\gjaischool\\AppData\\Local\\Temp\\ipykernel_222784\\1774406544.py:5: PerformanceWarning: DataFrame is highly fragmented.  This is usually the result of calling `frame.insert` many times, which has poor performance.  Consider joining all columns at once using pd.concat(axis=1) instead. To get a de-fragmented frame, use `newframe = frame.copy()`\n",
      "  X_train[c_name1+\" * \"+c_name2] = X_train[c_name1] * X_train[c_name2]\n",
      "C:\\Users\\gjaischool\\AppData\\Local\\Temp\\ipykernel_222784\\1774406544.py:5: PerformanceWarning: DataFrame is highly fragmented.  This is usually the result of calling `frame.insert` many times, which has poor performance.  Consider joining all columns at once using pd.concat(axis=1) instead. To get a de-fragmented frame, use `newframe = frame.copy()`\n",
      "  X_train[c_name1+\" * \"+c_name2] = X_train[c_name1] * X_train[c_name2]\n",
      "C:\\Users\\gjaischool\\AppData\\Local\\Temp\\ipykernel_222784\\1774406544.py:5: PerformanceWarning: DataFrame is highly fragmented.  This is usually the result of calling `frame.insert` many times, which has poor performance.  Consider joining all columns at once using pd.concat(axis=1) instead. To get a de-fragmented frame, use `newframe = frame.copy()`\n",
      "  X_train[c_name1+\" * \"+c_name2] = X_train[c_name1] * X_train[c_name2]\n",
      "C:\\Users\\gjaischool\\AppData\\Local\\Temp\\ipykernel_222784\\1774406544.py:5: PerformanceWarning: DataFrame is highly fragmented.  This is usually the result of calling `frame.insert` many times, which has poor performance.  Consider joining all columns at once using pd.concat(axis=1) instead. To get a de-fragmented frame, use `newframe = frame.copy()`\n",
      "  X_train[c_name1+\" * \"+c_name2] = X_train[c_name1] * X_train[c_name2]\n",
      "C:\\Users\\gjaischool\\AppData\\Local\\Temp\\ipykernel_222784\\1774406544.py:5: PerformanceWarning: DataFrame is highly fragmented.  This is usually the result of calling `frame.insert` many times, which has poor performance.  Consider joining all columns at once using pd.concat(axis=1) instead. To get a de-fragmented frame, use `newframe = frame.copy()`\n",
      "  X_train[c_name1+\" * \"+c_name2] = X_train[c_name1] * X_train[c_name2]\n",
      "C:\\Users\\gjaischool\\AppData\\Local\\Temp\\ipykernel_222784\\1774406544.py:5: PerformanceWarning: DataFrame is highly fragmented.  This is usually the result of calling `frame.insert` many times, which has poor performance.  Consider joining all columns at once using pd.concat(axis=1) instead. To get a de-fragmented frame, use `newframe = frame.copy()`\n",
      "  X_train[c_name1+\" * \"+c_name2] = X_train[c_name1] * X_train[c_name2]\n",
      "C:\\Users\\gjaischool\\AppData\\Local\\Temp\\ipykernel_222784\\1774406544.py:5: PerformanceWarning: DataFrame is highly fragmented.  This is usually the result of calling `frame.insert` many times, which has poor performance.  Consider joining all columns at once using pd.concat(axis=1) instead. To get a de-fragmented frame, use `newframe = frame.copy()`\n",
      "  X_train[c_name1+\" * \"+c_name2] = X_train[c_name1] * X_train[c_name2]\n",
      "C:\\Users\\gjaischool\\AppData\\Local\\Temp\\ipykernel_222784\\1774406544.py:5: PerformanceWarning: DataFrame is highly fragmented.  This is usually the result of calling `frame.insert` many times, which has poor performance.  Consider joining all columns at once using pd.concat(axis=1) instead. To get a de-fragmented frame, use `newframe = frame.copy()`\n",
      "  X_train[c_name1+\" * \"+c_name2] = X_train[c_name1] * X_train[c_name2]\n",
      "C:\\Users\\gjaischool\\AppData\\Local\\Temp\\ipykernel_222784\\1774406544.py:5: PerformanceWarning: DataFrame is highly fragmented.  This is usually the result of calling `frame.insert` many times, which has poor performance.  Consider joining all columns at once using pd.concat(axis=1) instead. To get a de-fragmented frame, use `newframe = frame.copy()`\n",
      "  X_train[c_name1+\" * \"+c_name2] = X_train[c_name1] * X_train[c_name2]\n",
      "C:\\Users\\gjaischool\\AppData\\Local\\Temp\\ipykernel_222784\\1774406544.py:5: PerformanceWarning: DataFrame is highly fragmented.  This is usually the result of calling `frame.insert` many times, which has poor performance.  Consider joining all columns at once using pd.concat(axis=1) instead. To get a de-fragmented frame, use `newframe = frame.copy()`\n",
      "  X_train[c_name1+\" * \"+c_name2] = X_train[c_name1] * X_train[c_name2]\n",
      "C:\\Users\\gjaischool\\AppData\\Local\\Temp\\ipykernel_222784\\1774406544.py:5: PerformanceWarning: DataFrame is highly fragmented.  This is usually the result of calling `frame.insert` many times, which has poor performance.  Consider joining all columns at once using pd.concat(axis=1) instead. To get a de-fragmented frame, use `newframe = frame.copy()`\n",
      "  X_train[c_name1+\" * \"+c_name2] = X_train[c_name1] * X_train[c_name2]\n",
      "C:\\Users\\gjaischool\\AppData\\Local\\Temp\\ipykernel_222784\\1774406544.py:5: PerformanceWarning: DataFrame is highly fragmented.  This is usually the result of calling `frame.insert` many times, which has poor performance.  Consider joining all columns at once using pd.concat(axis=1) instead. To get a de-fragmented frame, use `newframe = frame.copy()`\n",
      "  X_train[c_name1+\" * \"+c_name2] = X_train[c_name1] * X_train[c_name2]\n",
      "C:\\Users\\gjaischool\\AppData\\Local\\Temp\\ipykernel_222784\\1774406544.py:5: PerformanceWarning: DataFrame is highly fragmented.  This is usually the result of calling `frame.insert` many times, which has poor performance.  Consider joining all columns at once using pd.concat(axis=1) instead. To get a de-fragmented frame, use `newframe = frame.copy()`\n",
      "  X_train[c_name1+\" * \"+c_name2] = X_train[c_name1] * X_train[c_name2]\n",
      "C:\\Users\\gjaischool\\AppData\\Local\\Temp\\ipykernel_222784\\1774406544.py:5: PerformanceWarning: DataFrame is highly fragmented.  This is usually the result of calling `frame.insert` many times, which has poor performance.  Consider joining all columns at once using pd.concat(axis=1) instead. To get a de-fragmented frame, use `newframe = frame.copy()`\n",
      "  X_train[c_name1+\" * \"+c_name2] = X_train[c_name1] * X_train[c_name2]\n",
      "C:\\Users\\gjaischool\\AppData\\Local\\Temp\\ipykernel_222784\\1774406544.py:5: PerformanceWarning: DataFrame is highly fragmented.  This is usually the result of calling `frame.insert` many times, which has poor performance.  Consider joining all columns at once using pd.concat(axis=1) instead. To get a de-fragmented frame, use `newframe = frame.copy()`\n",
      "  X_train[c_name1+\" * \"+c_name2] = X_train[c_name1] * X_train[c_name2]\n",
      "C:\\Users\\gjaischool\\AppData\\Local\\Temp\\ipykernel_222784\\1774406544.py:5: PerformanceWarning: DataFrame is highly fragmented.  This is usually the result of calling `frame.insert` many times, which has poor performance.  Consider joining all columns at once using pd.concat(axis=1) instead. To get a de-fragmented frame, use `newframe = frame.copy()`\n",
      "  X_train[c_name1+\" * \"+c_name2] = X_train[c_name1] * X_train[c_name2]\n",
      "C:\\Users\\gjaischool\\AppData\\Local\\Temp\\ipykernel_222784\\1774406544.py:5: PerformanceWarning: DataFrame is highly fragmented.  This is usually the result of calling `frame.insert` many times, which has poor performance.  Consider joining all columns at once using pd.concat(axis=1) instead. To get a de-fragmented frame, use `newframe = frame.copy()`\n",
      "  X_train[c_name1+\" * \"+c_name2] = X_train[c_name1] * X_train[c_name2]\n",
      "C:\\Users\\gjaischool\\AppData\\Local\\Temp\\ipykernel_222784\\1774406544.py:5: PerformanceWarning: DataFrame is highly fragmented.  This is usually the result of calling `frame.insert` many times, which has poor performance.  Consider joining all columns at once using pd.concat(axis=1) instead. To get a de-fragmented frame, use `newframe = frame.copy()`\n",
      "  X_train[c_name1+\" * \"+c_name2] = X_train[c_name1] * X_train[c_name2]\n",
      "C:\\Users\\gjaischool\\AppData\\Local\\Temp\\ipykernel_222784\\1774406544.py:5: PerformanceWarning: DataFrame is highly fragmented.  This is usually the result of calling `frame.insert` many times, which has poor performance.  Consider joining all columns at once using pd.concat(axis=1) instead. To get a de-fragmented frame, use `newframe = frame.copy()`\n",
      "  X_train[c_name1+\" * \"+c_name2] = X_train[c_name1] * X_train[c_name2]\n",
      "C:\\Users\\gjaischool\\AppData\\Local\\Temp\\ipykernel_222784\\1774406544.py:5: PerformanceWarning: DataFrame is highly fragmented.  This is usually the result of calling `frame.insert` many times, which has poor performance.  Consider joining all columns at once using pd.concat(axis=1) instead. To get a de-fragmented frame, use `newframe = frame.copy()`\n",
      "  X_train[c_name1+\" * \"+c_name2] = X_train[c_name1] * X_train[c_name2]\n",
      "C:\\Users\\gjaischool\\AppData\\Local\\Temp\\ipykernel_222784\\1774406544.py:5: PerformanceWarning: DataFrame is highly fragmented.  This is usually the result of calling `frame.insert` many times, which has poor performance.  Consider joining all columns at once using pd.concat(axis=1) instead. To get a de-fragmented frame, use `newframe = frame.copy()`\n",
      "  X_train[c_name1+\" * \"+c_name2] = X_train[c_name1] * X_train[c_name2]\n",
      "C:\\Users\\gjaischool\\AppData\\Local\\Temp\\ipykernel_222784\\1774406544.py:5: PerformanceWarning: DataFrame is highly fragmented.  This is usually the result of calling `frame.insert` many times, which has poor performance.  Consider joining all columns at once using pd.concat(axis=1) instead. To get a de-fragmented frame, use `newframe = frame.copy()`\n",
      "  X_train[c_name1+\" * \"+c_name2] = X_train[c_name1] * X_train[c_name2]\n",
      "C:\\Users\\gjaischool\\AppData\\Local\\Temp\\ipykernel_222784\\1774406544.py:5: PerformanceWarning: DataFrame is highly fragmented.  This is usually the result of calling `frame.insert` many times, which has poor performance.  Consider joining all columns at once using pd.concat(axis=1) instead. To get a de-fragmented frame, use `newframe = frame.copy()`\n",
      "  X_train[c_name1+\" * \"+c_name2] = X_train[c_name1] * X_train[c_name2]\n",
      "C:\\Users\\gjaischool\\AppData\\Local\\Temp\\ipykernel_222784\\1774406544.py:5: PerformanceWarning: DataFrame is highly fragmented.  This is usually the result of calling `frame.insert` many times, which has poor performance.  Consider joining all columns at once using pd.concat(axis=1) instead. To get a de-fragmented frame, use `newframe = frame.copy()`\n",
      "  X_train[c_name1+\" * \"+c_name2] = X_train[c_name1] * X_train[c_name2]\n",
      "C:\\Users\\gjaischool\\AppData\\Local\\Temp\\ipykernel_222784\\1774406544.py:5: PerformanceWarning: DataFrame is highly fragmented.  This is usually the result of calling `frame.insert` many times, which has poor performance.  Consider joining all columns at once using pd.concat(axis=1) instead. To get a de-fragmented frame, use `newframe = frame.copy()`\n",
      "  X_train[c_name1+\" * \"+c_name2] = X_train[c_name1] * X_train[c_name2]\n",
      "C:\\Users\\gjaischool\\AppData\\Local\\Temp\\ipykernel_222784\\1774406544.py:5: PerformanceWarning: DataFrame is highly fragmented.  This is usually the result of calling `frame.insert` many times, which has poor performance.  Consider joining all columns at once using pd.concat(axis=1) instead. To get a de-fragmented frame, use `newframe = frame.copy()`\n",
      "  X_train[c_name1+\" * \"+c_name2] = X_train[c_name1] * X_train[c_name2]\n",
      "C:\\Users\\gjaischool\\AppData\\Local\\Temp\\ipykernel_222784\\1774406544.py:5: PerformanceWarning: DataFrame is highly fragmented.  This is usually the result of calling `frame.insert` many times, which has poor performance.  Consider joining all columns at once using pd.concat(axis=1) instead. To get a de-fragmented frame, use `newframe = frame.copy()`\n",
      "  X_train[c_name1+\" * \"+c_name2] = X_train[c_name1] * X_train[c_name2]\n",
      "C:\\Users\\gjaischool\\AppData\\Local\\Temp\\ipykernel_222784\\1774406544.py:5: PerformanceWarning: DataFrame is highly fragmented.  This is usually the result of calling `frame.insert` many times, which has poor performance.  Consider joining all columns at once using pd.concat(axis=1) instead. To get a de-fragmented frame, use `newframe = frame.copy()`\n",
      "  X_train[c_name1+\" * \"+c_name2] = X_train[c_name1] * X_train[c_name2]\n",
      "C:\\Users\\gjaischool\\AppData\\Local\\Temp\\ipykernel_222784\\1774406544.py:5: PerformanceWarning: DataFrame is highly fragmented.  This is usually the result of calling `frame.insert` many times, which has poor performance.  Consider joining all columns at once using pd.concat(axis=1) instead. To get a de-fragmented frame, use `newframe = frame.copy()`\n",
      "  X_train[c_name1+\" * \"+c_name2] = X_train[c_name1] * X_train[c_name2]\n",
      "C:\\Users\\gjaischool\\AppData\\Local\\Temp\\ipykernel_222784\\1774406544.py:5: PerformanceWarning: DataFrame is highly fragmented.  This is usually the result of calling `frame.insert` many times, which has poor performance.  Consider joining all columns at once using pd.concat(axis=1) instead. To get a de-fragmented frame, use `newframe = frame.copy()`\n",
      "  X_train[c_name1+\" * \"+c_name2] = X_train[c_name1] * X_train[c_name2]\n",
      "C:\\Users\\gjaischool\\AppData\\Local\\Temp\\ipykernel_222784\\1774406544.py:5: PerformanceWarning: DataFrame is highly fragmented.  This is usually the result of calling `frame.insert` many times, which has poor performance.  Consider joining all columns at once using pd.concat(axis=1) instead. To get a de-fragmented frame, use `newframe = frame.copy()`\n",
      "  X_train[c_name1+\" * \"+c_name2] = X_train[c_name1] * X_train[c_name2]\n",
      "C:\\Users\\gjaischool\\AppData\\Local\\Temp\\ipykernel_222784\\1774406544.py:5: PerformanceWarning: DataFrame is highly fragmented.  This is usually the result of calling `frame.insert` many times, which has poor performance.  Consider joining all columns at once using pd.concat(axis=1) instead. To get a de-fragmented frame, use `newframe = frame.copy()`\n",
      "  X_train[c_name1+\" * \"+c_name2] = X_train[c_name1] * X_train[c_name2]\n",
      "C:\\Users\\gjaischool\\AppData\\Local\\Temp\\ipykernel_222784\\1774406544.py:5: PerformanceWarning: DataFrame is highly fragmented.  This is usually the result of calling `frame.insert` many times, which has poor performance.  Consider joining all columns at once using pd.concat(axis=1) instead. To get a de-fragmented frame, use `newframe = frame.copy()`\n",
      "  X_train[c_name1+\" * \"+c_name2] = X_train[c_name1] * X_train[c_name2]\n",
      "C:\\Users\\gjaischool\\AppData\\Local\\Temp\\ipykernel_222784\\1774406544.py:5: PerformanceWarning: DataFrame is highly fragmented.  This is usually the result of calling `frame.insert` many times, which has poor performance.  Consider joining all columns at once using pd.concat(axis=1) instead. To get a de-fragmented frame, use `newframe = frame.copy()`\n",
      "  X_train[c_name1+\" * \"+c_name2] = X_train[c_name1] * X_train[c_name2]\n",
      "C:\\Users\\gjaischool\\AppData\\Local\\Temp\\ipykernel_222784\\1774406544.py:5: PerformanceWarning: DataFrame is highly fragmented.  This is usually the result of calling `frame.insert` many times, which has poor performance.  Consider joining all columns at once using pd.concat(axis=1) instead. To get a de-fragmented frame, use `newframe = frame.copy()`\n",
      "  X_train[c_name1+\" * \"+c_name2] = X_train[c_name1] * X_train[c_name2]\n",
      "C:\\Users\\gjaischool\\AppData\\Local\\Temp\\ipykernel_222784\\1774406544.py:5: PerformanceWarning: DataFrame is highly fragmented.  This is usually the result of calling `frame.insert` many times, which has poor performance.  Consider joining all columns at once using pd.concat(axis=1) instead. To get a de-fragmented frame, use `newframe = frame.copy()`\n",
      "  X_train[c_name1+\" * \"+c_name2] = X_train[c_name1] * X_train[c_name2]\n",
      "C:\\Users\\gjaischool\\AppData\\Local\\Temp\\ipykernel_222784\\1774406544.py:5: PerformanceWarning: DataFrame is highly fragmented.  This is usually the result of calling `frame.insert` many times, which has poor performance.  Consider joining all columns at once using pd.concat(axis=1) instead. To get a de-fragmented frame, use `newframe = frame.copy()`\n",
      "  X_train[c_name1+\" * \"+c_name2] = X_train[c_name1] * X_train[c_name2]\n",
      "C:\\Users\\gjaischool\\AppData\\Local\\Temp\\ipykernel_222784\\1774406544.py:5: PerformanceWarning: DataFrame is highly fragmented.  This is usually the result of calling `frame.insert` many times, which has poor performance.  Consider joining all columns at once using pd.concat(axis=1) instead. To get a de-fragmented frame, use `newframe = frame.copy()`\n",
      "  X_train[c_name1+\" * \"+c_name2] = X_train[c_name1] * X_train[c_name2]\n",
      "C:\\Users\\gjaischool\\AppData\\Local\\Temp\\ipykernel_222784\\1774406544.py:5: PerformanceWarning: DataFrame is highly fragmented.  This is usually the result of calling `frame.insert` many times, which has poor performance.  Consider joining all columns at once using pd.concat(axis=1) instead. To get a de-fragmented frame, use `newframe = frame.copy()`\n",
      "  X_train[c_name1+\" * \"+c_name2] = X_train[c_name1] * X_train[c_name2]\n",
      "C:\\Users\\gjaischool\\AppData\\Local\\Temp\\ipykernel_222784\\1774406544.py:5: PerformanceWarning: DataFrame is highly fragmented.  This is usually the result of calling `frame.insert` many times, which has poor performance.  Consider joining all columns at once using pd.concat(axis=1) instead. To get a de-fragmented frame, use `newframe = frame.copy()`\n",
      "  X_train[c_name1+\" * \"+c_name2] = X_train[c_name1] * X_train[c_name2]\n",
      "C:\\Users\\gjaischool\\AppData\\Local\\Temp\\ipykernel_222784\\1774406544.py:5: PerformanceWarning: DataFrame is highly fragmented.  This is usually the result of calling `frame.insert` many times, which has poor performance.  Consider joining all columns at once using pd.concat(axis=1) instead. To get a de-fragmented frame, use `newframe = frame.copy()`\n",
      "  X_train[c_name1+\" * \"+c_name2] = X_train[c_name1] * X_train[c_name2]\n",
      "C:\\Users\\gjaischool\\AppData\\Local\\Temp\\ipykernel_222784\\1774406544.py:5: PerformanceWarning: DataFrame is highly fragmented.  This is usually the result of calling `frame.insert` many times, which has poor performance.  Consider joining all columns at once using pd.concat(axis=1) instead. To get a de-fragmented frame, use `newframe = frame.copy()`\n",
      "  X_train[c_name1+\" * \"+c_name2] = X_train[c_name1] * X_train[c_name2]\n",
      "C:\\Users\\gjaischool\\AppData\\Local\\Temp\\ipykernel_222784\\1774406544.py:5: PerformanceWarning: DataFrame is highly fragmented.  This is usually the result of calling `frame.insert` many times, which has poor performance.  Consider joining all columns at once using pd.concat(axis=1) instead. To get a de-fragmented frame, use `newframe = frame.copy()`\n",
      "  X_train[c_name1+\" * \"+c_name2] = X_train[c_name1] * X_train[c_name2]\n",
      "C:\\Users\\gjaischool\\AppData\\Local\\Temp\\ipykernel_222784\\1774406544.py:5: PerformanceWarning: DataFrame is highly fragmented.  This is usually the result of calling `frame.insert` many times, which has poor performance.  Consider joining all columns at once using pd.concat(axis=1) instead. To get a de-fragmented frame, use `newframe = frame.copy()`\n",
      "  X_train[c_name1+\" * \"+c_name2] = X_train[c_name1] * X_train[c_name2]\n",
      "C:\\Users\\gjaischool\\AppData\\Local\\Temp\\ipykernel_222784\\1774406544.py:5: PerformanceWarning: DataFrame is highly fragmented.  This is usually the result of calling `frame.insert` many times, which has poor performance.  Consider joining all columns at once using pd.concat(axis=1) instead. To get a de-fragmented frame, use `newframe = frame.copy()`\n",
      "  X_train[c_name1+\" * \"+c_name2] = X_train[c_name1] * X_train[c_name2]\n",
      "C:\\Users\\gjaischool\\AppData\\Local\\Temp\\ipykernel_222784\\1774406544.py:5: PerformanceWarning: DataFrame is highly fragmented.  This is usually the result of calling `frame.insert` many times, which has poor performance.  Consider joining all columns at once using pd.concat(axis=1) instead. To get a de-fragmented frame, use `newframe = frame.copy()`\n",
      "  X_train[c_name1+\" * \"+c_name2] = X_train[c_name1] * X_train[c_name2]\n",
      "C:\\Users\\gjaischool\\AppData\\Local\\Temp\\ipykernel_222784\\1774406544.py:5: PerformanceWarning: DataFrame is highly fragmented.  This is usually the result of calling `frame.insert` many times, which has poor performance.  Consider joining all columns at once using pd.concat(axis=1) instead. To get a de-fragmented frame, use `newframe = frame.copy()`\n",
      "  X_train[c_name1+\" * \"+c_name2] = X_train[c_name1] * X_train[c_name2]\n",
      "C:\\Users\\gjaischool\\AppData\\Local\\Temp\\ipykernel_222784\\1774406544.py:5: PerformanceWarning: DataFrame is highly fragmented.  This is usually the result of calling `frame.insert` many times, which has poor performance.  Consider joining all columns at once using pd.concat(axis=1) instead. To get a de-fragmented frame, use `newframe = frame.copy()`\n",
      "  X_train[c_name1+\" * \"+c_name2] = X_train[c_name1] * X_train[c_name2]\n",
      "C:\\Users\\gjaischool\\AppData\\Local\\Temp\\ipykernel_222784\\1774406544.py:5: PerformanceWarning: DataFrame is highly fragmented.  This is usually the result of calling `frame.insert` many times, which has poor performance.  Consider joining all columns at once using pd.concat(axis=1) instead. To get a de-fragmented frame, use `newframe = frame.copy()`\n",
      "  X_train[c_name1+\" * \"+c_name2] = X_train[c_name1] * X_train[c_name2]\n",
      "C:\\Users\\gjaischool\\AppData\\Local\\Temp\\ipykernel_222784\\1774406544.py:5: PerformanceWarning: DataFrame is highly fragmented.  This is usually the result of calling `frame.insert` many times, which has poor performance.  Consider joining all columns at once using pd.concat(axis=1) instead. To get a de-fragmented frame, use `newframe = frame.copy()`\n",
      "  X_train[c_name1+\" * \"+c_name2] = X_train[c_name1] * X_train[c_name2]\n",
      "C:\\Users\\gjaischool\\AppData\\Local\\Temp\\ipykernel_222784\\1774406544.py:5: PerformanceWarning: DataFrame is highly fragmented.  This is usually the result of calling `frame.insert` many times, which has poor performance.  Consider joining all columns at once using pd.concat(axis=1) instead. To get a de-fragmented frame, use `newframe = frame.copy()`\n",
      "  X_train[c_name1+\" * \"+c_name2] = X_train[c_name1] * X_train[c_name2]\n",
      "C:\\Users\\gjaischool\\AppData\\Local\\Temp\\ipykernel_222784\\1774406544.py:5: PerformanceWarning: DataFrame is highly fragmented.  This is usually the result of calling `frame.insert` many times, which has poor performance.  Consider joining all columns at once using pd.concat(axis=1) instead. To get a de-fragmented frame, use `newframe = frame.copy()`\n",
      "  X_train[c_name1+\" * \"+c_name2] = X_train[c_name1] * X_train[c_name2]\n",
      "C:\\Users\\gjaischool\\AppData\\Local\\Temp\\ipykernel_222784\\1774406544.py:5: PerformanceWarning: DataFrame is highly fragmented.  This is usually the result of calling `frame.insert` many times, which has poor performance.  Consider joining all columns at once using pd.concat(axis=1) instead. To get a de-fragmented frame, use `newframe = frame.copy()`\n",
      "  X_train[c_name1+\" * \"+c_name2] = X_train[c_name1] * X_train[c_name2]\n",
      "C:\\Users\\gjaischool\\AppData\\Local\\Temp\\ipykernel_222784\\1774406544.py:5: PerformanceWarning: DataFrame is highly fragmented.  This is usually the result of calling `frame.insert` many times, which has poor performance.  Consider joining all columns at once using pd.concat(axis=1) instead. To get a de-fragmented frame, use `newframe = frame.copy()`\n",
      "  X_train[c_name1+\" * \"+c_name2] = X_train[c_name1] * X_train[c_name2]\n",
      "C:\\Users\\gjaischool\\AppData\\Local\\Temp\\ipykernel_222784\\1774406544.py:5: PerformanceWarning: DataFrame is highly fragmented.  This is usually the result of calling `frame.insert` many times, which has poor performance.  Consider joining all columns at once using pd.concat(axis=1) instead. To get a de-fragmented frame, use `newframe = frame.copy()`\n",
      "  X_train[c_name1+\" * \"+c_name2] = X_train[c_name1] * X_train[c_name2]\n",
      "C:\\Users\\gjaischool\\AppData\\Local\\Temp\\ipykernel_222784\\1774406544.py:5: PerformanceWarning: DataFrame is highly fragmented.  This is usually the result of calling `frame.insert` many times, which has poor performance.  Consider joining all columns at once using pd.concat(axis=1) instead. To get a de-fragmented frame, use `newframe = frame.copy()`\n",
      "  X_train[c_name1+\" * \"+c_name2] = X_train[c_name1] * X_train[c_name2]\n",
      "C:\\Users\\gjaischool\\AppData\\Local\\Temp\\ipykernel_222784\\1774406544.py:5: PerformanceWarning: DataFrame is highly fragmented.  This is usually the result of calling `frame.insert` many times, which has poor performance.  Consider joining all columns at once using pd.concat(axis=1) instead. To get a de-fragmented frame, use `newframe = frame.copy()`\n",
      "  X_train[c_name1+\" * \"+c_name2] = X_train[c_name1] * X_train[c_name2]\n",
      "C:\\Users\\gjaischool\\AppData\\Local\\Temp\\ipykernel_222784\\1774406544.py:5: PerformanceWarning: DataFrame is highly fragmented.  This is usually the result of calling `frame.insert` many times, which has poor performance.  Consider joining all columns at once using pd.concat(axis=1) instead. To get a de-fragmented frame, use `newframe = frame.copy()`\n",
      "  X_train[c_name1+\" * \"+c_name2] = X_train[c_name1] * X_train[c_name2]\n",
      "C:\\Users\\gjaischool\\AppData\\Local\\Temp\\ipykernel_222784\\1774406544.py:5: PerformanceWarning: DataFrame is highly fragmented.  This is usually the result of calling `frame.insert` many times, which has poor performance.  Consider joining all columns at once using pd.concat(axis=1) instead. To get a de-fragmented frame, use `newframe = frame.copy()`\n",
      "  X_train[c_name1+\" * \"+c_name2] = X_train[c_name1] * X_train[c_name2]\n",
      "C:\\Users\\gjaischool\\AppData\\Local\\Temp\\ipykernel_222784\\1774406544.py:5: PerformanceWarning: DataFrame is highly fragmented.  This is usually the result of calling `frame.insert` many times, which has poor performance.  Consider joining all columns at once using pd.concat(axis=1) instead. To get a de-fragmented frame, use `newframe = frame.copy()`\n",
      "  X_train[c_name1+\" * \"+c_name2] = X_train[c_name1] * X_train[c_name2]\n",
      "C:\\Users\\gjaischool\\AppData\\Local\\Temp\\ipykernel_222784\\1774406544.py:5: PerformanceWarning: DataFrame is highly fragmented.  This is usually the result of calling `frame.insert` many times, which has poor performance.  Consider joining all columns at once using pd.concat(axis=1) instead. To get a de-fragmented frame, use `newframe = frame.copy()`\n",
      "  X_train[c_name1+\" * \"+c_name2] = X_train[c_name1] * X_train[c_name2]\n",
      "C:\\Users\\gjaischool\\AppData\\Local\\Temp\\ipykernel_222784\\1774406544.py:5: PerformanceWarning: DataFrame is highly fragmented.  This is usually the result of calling `frame.insert` many times, which has poor performance.  Consider joining all columns at once using pd.concat(axis=1) instead. To get a de-fragmented frame, use `newframe = frame.copy()`\n",
      "  X_train[c_name1+\" * \"+c_name2] = X_train[c_name1] * X_train[c_name2]\n",
      "C:\\Users\\gjaischool\\AppData\\Local\\Temp\\ipykernel_222784\\1774406544.py:5: PerformanceWarning: DataFrame is highly fragmented.  This is usually the result of calling `frame.insert` many times, which has poor performance.  Consider joining all columns at once using pd.concat(axis=1) instead. To get a de-fragmented frame, use `newframe = frame.copy()`\n",
      "  X_train[c_name1+\" * \"+c_name2] = X_train[c_name1] * X_train[c_name2]\n",
      "C:\\Users\\gjaischool\\AppData\\Local\\Temp\\ipykernel_222784\\1774406544.py:5: PerformanceWarning: DataFrame is highly fragmented.  This is usually the result of calling `frame.insert` many times, which has poor performance.  Consider joining all columns at once using pd.concat(axis=1) instead. To get a de-fragmented frame, use `newframe = frame.copy()`\n",
      "  X_train[c_name1+\" * \"+c_name2] = X_train[c_name1] * X_train[c_name2]\n",
      "C:\\Users\\gjaischool\\AppData\\Local\\Temp\\ipykernel_222784\\1774406544.py:5: PerformanceWarning: DataFrame is highly fragmented.  This is usually the result of calling `frame.insert` many times, which has poor performance.  Consider joining all columns at once using pd.concat(axis=1) instead. To get a de-fragmented frame, use `newframe = frame.copy()`\n",
      "  X_train[c_name1+\" * \"+c_name2] = X_train[c_name1] * X_train[c_name2]\n",
      "C:\\Users\\gjaischool\\AppData\\Local\\Temp\\ipykernel_222784\\1774406544.py:5: PerformanceWarning: DataFrame is highly fragmented.  This is usually the result of calling `frame.insert` many times, which has poor performance.  Consider joining all columns at once using pd.concat(axis=1) instead. To get a de-fragmented frame, use `newframe = frame.copy()`\n",
      "  X_train[c_name1+\" * \"+c_name2] = X_train[c_name1] * X_train[c_name2]\n",
      "C:\\Users\\gjaischool\\AppData\\Local\\Temp\\ipykernel_222784\\1774406544.py:5: PerformanceWarning: DataFrame is highly fragmented.  This is usually the result of calling `frame.insert` many times, which has poor performance.  Consider joining all columns at once using pd.concat(axis=1) instead. To get a de-fragmented frame, use `newframe = frame.copy()`\n",
      "  X_train[c_name1+\" * \"+c_name2] = X_train[c_name1] * X_train[c_name2]\n",
      "C:\\Users\\gjaischool\\AppData\\Local\\Temp\\ipykernel_222784\\1774406544.py:5: PerformanceWarning: DataFrame is highly fragmented.  This is usually the result of calling `frame.insert` many times, which has poor performance.  Consider joining all columns at once using pd.concat(axis=1) instead. To get a de-fragmented frame, use `newframe = frame.copy()`\n",
      "  X_train[c_name1+\" * \"+c_name2] = X_train[c_name1] * X_train[c_name2]\n",
      "C:\\Users\\gjaischool\\AppData\\Local\\Temp\\ipykernel_222784\\1774406544.py:5: PerformanceWarning: DataFrame is highly fragmented.  This is usually the result of calling `frame.insert` many times, which has poor performance.  Consider joining all columns at once using pd.concat(axis=1) instead. To get a de-fragmented frame, use `newframe = frame.copy()`\n",
      "  X_train[c_name1+\" * \"+c_name2] = X_train[c_name1] * X_train[c_name2]\n",
      "C:\\Users\\gjaischool\\AppData\\Local\\Temp\\ipykernel_222784\\1774406544.py:5: PerformanceWarning: DataFrame is highly fragmented.  This is usually the result of calling `frame.insert` many times, which has poor performance.  Consider joining all columns at once using pd.concat(axis=1) instead. To get a de-fragmented frame, use `newframe = frame.copy()`\n",
      "  X_train[c_name1+\" * \"+c_name2] = X_train[c_name1] * X_train[c_name2]\n",
      "C:\\Users\\gjaischool\\AppData\\Local\\Temp\\ipykernel_222784\\1774406544.py:5: PerformanceWarning: DataFrame is highly fragmented.  This is usually the result of calling `frame.insert` many times, which has poor performance.  Consider joining all columns at once using pd.concat(axis=1) instead. To get a de-fragmented frame, use `newframe = frame.copy()`\n",
      "  X_train[c_name1+\" * \"+c_name2] = X_train[c_name1] * X_train[c_name2]\n",
      "C:\\Users\\gjaischool\\AppData\\Local\\Temp\\ipykernel_222784\\1774406544.py:5: PerformanceWarning: DataFrame is highly fragmented.  This is usually the result of calling `frame.insert` many times, which has poor performance.  Consider joining all columns at once using pd.concat(axis=1) instead. To get a de-fragmented frame, use `newframe = frame.copy()`\n",
      "  X_train[c_name1+\" * \"+c_name2] = X_train[c_name1] * X_train[c_name2]\n",
      "C:\\Users\\gjaischool\\AppData\\Local\\Temp\\ipykernel_222784\\1774406544.py:5: PerformanceWarning: DataFrame is highly fragmented.  This is usually the result of calling `frame.insert` many times, which has poor performance.  Consider joining all columns at once using pd.concat(axis=1) instead. To get a de-fragmented frame, use `newframe = frame.copy()`\n",
      "  X_train[c_name1+\" * \"+c_name2] = X_train[c_name1] * X_train[c_name2]\n",
      "C:\\Users\\gjaischool\\AppData\\Local\\Temp\\ipykernel_222784\\1774406544.py:5: PerformanceWarning: DataFrame is highly fragmented.  This is usually the result of calling `frame.insert` many times, which has poor performance.  Consider joining all columns at once using pd.concat(axis=1) instead. To get a de-fragmented frame, use `newframe = frame.copy()`\n",
      "  X_train[c_name1+\" * \"+c_name2] = X_train[c_name1] * X_train[c_name2]\n",
      "C:\\Users\\gjaischool\\AppData\\Local\\Temp\\ipykernel_222784\\1774406544.py:5: PerformanceWarning: DataFrame is highly fragmented.  This is usually the result of calling `frame.insert` many times, which has poor performance.  Consider joining all columns at once using pd.concat(axis=1) instead. To get a de-fragmented frame, use `newframe = frame.copy()`\n",
      "  X_train[c_name1+\" * \"+c_name2] = X_train[c_name1] * X_train[c_name2]\n",
      "C:\\Users\\gjaischool\\AppData\\Local\\Temp\\ipykernel_222784\\1774406544.py:5: PerformanceWarning: DataFrame is highly fragmented.  This is usually the result of calling `frame.insert` many times, which has poor performance.  Consider joining all columns at once using pd.concat(axis=1) instead. To get a de-fragmented frame, use `newframe = frame.copy()`\n",
      "  X_train[c_name1+\" * \"+c_name2] = X_train[c_name1] * X_train[c_name2]\n",
      "C:\\Users\\gjaischool\\AppData\\Local\\Temp\\ipykernel_222784\\1774406544.py:5: PerformanceWarning: DataFrame is highly fragmented.  This is usually the result of calling `frame.insert` many times, which has poor performance.  Consider joining all columns at once using pd.concat(axis=1) instead. To get a de-fragmented frame, use `newframe = frame.copy()`\n",
      "  X_train[c_name1+\" * \"+c_name2] = X_train[c_name1] * X_train[c_name2]\n",
      "C:\\Users\\gjaischool\\AppData\\Local\\Temp\\ipykernel_222784\\1774406544.py:5: PerformanceWarning: DataFrame is highly fragmented.  This is usually the result of calling `frame.insert` many times, which has poor performance.  Consider joining all columns at once using pd.concat(axis=1) instead. To get a de-fragmented frame, use `newframe = frame.copy()`\n",
      "  X_train[c_name1+\" * \"+c_name2] = X_train[c_name1] * X_train[c_name2]\n",
      "C:\\Users\\gjaischool\\AppData\\Local\\Temp\\ipykernel_222784\\1774406544.py:5: PerformanceWarning: DataFrame is highly fragmented.  This is usually the result of calling `frame.insert` many times, which has poor performance.  Consider joining all columns at once using pd.concat(axis=1) instead. To get a de-fragmented frame, use `newframe = frame.copy()`\n",
      "  X_train[c_name1+\" * \"+c_name2] = X_train[c_name1] * X_train[c_name2]\n",
      "C:\\Users\\gjaischool\\AppData\\Local\\Temp\\ipykernel_222784\\1774406544.py:5: PerformanceWarning: DataFrame is highly fragmented.  This is usually the result of calling `frame.insert` many times, which has poor performance.  Consider joining all columns at once using pd.concat(axis=1) instead. To get a de-fragmented frame, use `newframe = frame.copy()`\n",
      "  X_train[c_name1+\" * \"+c_name2] = X_train[c_name1] * X_train[c_name2]\n",
      "C:\\Users\\gjaischool\\AppData\\Local\\Temp\\ipykernel_222784\\1774406544.py:5: PerformanceWarning: DataFrame is highly fragmented.  This is usually the result of calling `frame.insert` many times, which has poor performance.  Consider joining all columns at once using pd.concat(axis=1) instead. To get a de-fragmented frame, use `newframe = frame.copy()`\n",
      "  X_train[c_name1+\" * \"+c_name2] = X_train[c_name1] * X_train[c_name2]\n",
      "C:\\Users\\gjaischool\\AppData\\Local\\Temp\\ipykernel_222784\\1774406544.py:5: PerformanceWarning: DataFrame is highly fragmented.  This is usually the result of calling `frame.insert` many times, which has poor performance.  Consider joining all columns at once using pd.concat(axis=1) instead. To get a de-fragmented frame, use `newframe = frame.copy()`\n",
      "  X_train[c_name1+\" * \"+c_name2] = X_train[c_name1] * X_train[c_name2]\n",
      "C:\\Users\\gjaischool\\AppData\\Local\\Temp\\ipykernel_222784\\1774406544.py:5: PerformanceWarning: DataFrame is highly fragmented.  This is usually the result of calling `frame.insert` many times, which has poor performance.  Consider joining all columns at once using pd.concat(axis=1) instead. To get a de-fragmented frame, use `newframe = frame.copy()`\n",
      "  X_train[c_name1+\" * \"+c_name2] = X_train[c_name1] * X_train[c_name2]\n",
      "C:\\Users\\gjaischool\\AppData\\Local\\Temp\\ipykernel_222784\\1774406544.py:5: PerformanceWarning: DataFrame is highly fragmented.  This is usually the result of calling `frame.insert` many times, which has poor performance.  Consider joining all columns at once using pd.concat(axis=1) instead. To get a de-fragmented frame, use `newframe = frame.copy()`\n",
      "  X_train[c_name1+\" * \"+c_name2] = X_train[c_name1] * X_train[c_name2]\n",
      "C:\\Users\\gjaischool\\AppData\\Local\\Temp\\ipykernel_222784\\1774406544.py:5: PerformanceWarning: DataFrame is highly fragmented.  This is usually the result of calling `frame.insert` many times, which has poor performance.  Consider joining all columns at once using pd.concat(axis=1) instead. To get a de-fragmented frame, use `newframe = frame.copy()`\n",
      "  X_train[c_name1+\" * \"+c_name2] = X_train[c_name1] * X_train[c_name2]\n"
     ]
    }
   ],
   "source": [
    "# 과대적합 유도하기 -> 특성확장 활용\n",
    "colums_list = X_train.columns\n",
    "for c_name1 in colums_list :\n",
    "    for c_name2 in colums_list :\n",
    "        X_train[c_name1+\" * \"+c_name2] = X_train[c_name1] * X_train[c_name2]"
   ]
  },
  {
   "cell_type": "code",
   "execution_count": 43,
   "id": "178de8e6",
   "metadata": {
    "collapsed": true
   },
   "outputs": [
    {
     "name": "stderr",
     "output_type": "stream",
     "text": [
      "C:\\Users\\gjaischool\\AppData\\Local\\Temp\\ipykernel_222784\\3604395118.py:4: PerformanceWarning: DataFrame is highly fragmented.  This is usually the result of calling `frame.insert` many times, which has poor performance.  Consider joining all columns at once using pd.concat(axis=1) instead. To get a de-fragmented frame, use `newframe = frame.copy()`\n",
      "  X_test[c_name1+\" * \"+c_name2] = X_test[c_name1] * X_test[c_name2]\n",
      "C:\\Users\\gjaischool\\AppData\\Local\\Temp\\ipykernel_222784\\3604395118.py:4: PerformanceWarning: DataFrame is highly fragmented.  This is usually the result of calling `frame.insert` many times, which has poor performance.  Consider joining all columns at once using pd.concat(axis=1) instead. To get a de-fragmented frame, use `newframe = frame.copy()`\n",
      "  X_test[c_name1+\" * \"+c_name2] = X_test[c_name1] * X_test[c_name2]\n",
      "C:\\Users\\gjaischool\\AppData\\Local\\Temp\\ipykernel_222784\\3604395118.py:4: PerformanceWarning: DataFrame is highly fragmented.  This is usually the result of calling `frame.insert` many times, which has poor performance.  Consider joining all columns at once using pd.concat(axis=1) instead. To get a de-fragmented frame, use `newframe = frame.copy()`\n",
      "  X_test[c_name1+\" * \"+c_name2] = X_test[c_name1] * X_test[c_name2]\n",
      "C:\\Users\\gjaischool\\AppData\\Local\\Temp\\ipykernel_222784\\3604395118.py:4: PerformanceWarning: DataFrame is highly fragmented.  This is usually the result of calling `frame.insert` many times, which has poor performance.  Consider joining all columns at once using pd.concat(axis=1) instead. To get a de-fragmented frame, use `newframe = frame.copy()`\n",
      "  X_test[c_name1+\" * \"+c_name2] = X_test[c_name1] * X_test[c_name2]\n",
      "C:\\Users\\gjaischool\\AppData\\Local\\Temp\\ipykernel_222784\\3604395118.py:4: PerformanceWarning: DataFrame is highly fragmented.  This is usually the result of calling `frame.insert` many times, which has poor performance.  Consider joining all columns at once using pd.concat(axis=1) instead. To get a de-fragmented frame, use `newframe = frame.copy()`\n",
      "  X_test[c_name1+\" * \"+c_name2] = X_test[c_name1] * X_test[c_name2]\n",
      "C:\\Users\\gjaischool\\AppData\\Local\\Temp\\ipykernel_222784\\3604395118.py:4: PerformanceWarning: DataFrame is highly fragmented.  This is usually the result of calling `frame.insert` many times, which has poor performance.  Consider joining all columns at once using pd.concat(axis=1) instead. To get a de-fragmented frame, use `newframe = frame.copy()`\n",
      "  X_test[c_name1+\" * \"+c_name2] = X_test[c_name1] * X_test[c_name2]\n",
      "C:\\Users\\gjaischool\\AppData\\Local\\Temp\\ipykernel_222784\\3604395118.py:4: PerformanceWarning: DataFrame is highly fragmented.  This is usually the result of calling `frame.insert` many times, which has poor performance.  Consider joining all columns at once using pd.concat(axis=1) instead. To get a de-fragmented frame, use `newframe = frame.copy()`\n",
      "  X_test[c_name1+\" * \"+c_name2] = X_test[c_name1] * X_test[c_name2]\n",
      "C:\\Users\\gjaischool\\AppData\\Local\\Temp\\ipykernel_222784\\3604395118.py:4: PerformanceWarning: DataFrame is highly fragmented.  This is usually the result of calling `frame.insert` many times, which has poor performance.  Consider joining all columns at once using pd.concat(axis=1) instead. To get a de-fragmented frame, use `newframe = frame.copy()`\n",
      "  X_test[c_name1+\" * \"+c_name2] = X_test[c_name1] * X_test[c_name2]\n",
      "C:\\Users\\gjaischool\\AppData\\Local\\Temp\\ipykernel_222784\\3604395118.py:4: PerformanceWarning: DataFrame is highly fragmented.  This is usually the result of calling `frame.insert` many times, which has poor performance.  Consider joining all columns at once using pd.concat(axis=1) instead. To get a de-fragmented frame, use `newframe = frame.copy()`\n",
      "  X_test[c_name1+\" * \"+c_name2] = X_test[c_name1] * X_test[c_name2]\n",
      "C:\\Users\\gjaischool\\AppData\\Local\\Temp\\ipykernel_222784\\3604395118.py:4: PerformanceWarning: DataFrame is highly fragmented.  This is usually the result of calling `frame.insert` many times, which has poor performance.  Consider joining all columns at once using pd.concat(axis=1) instead. To get a de-fragmented frame, use `newframe = frame.copy()`\n",
      "  X_test[c_name1+\" * \"+c_name2] = X_test[c_name1] * X_test[c_name2]\n",
      "C:\\Users\\gjaischool\\AppData\\Local\\Temp\\ipykernel_222784\\3604395118.py:4: PerformanceWarning: DataFrame is highly fragmented.  This is usually the result of calling `frame.insert` many times, which has poor performance.  Consider joining all columns at once using pd.concat(axis=1) instead. To get a de-fragmented frame, use `newframe = frame.copy()`\n",
      "  X_test[c_name1+\" * \"+c_name2] = X_test[c_name1] * X_test[c_name2]\n",
      "C:\\Users\\gjaischool\\AppData\\Local\\Temp\\ipykernel_222784\\3604395118.py:4: PerformanceWarning: DataFrame is highly fragmented.  This is usually the result of calling `frame.insert` many times, which has poor performance.  Consider joining all columns at once using pd.concat(axis=1) instead. To get a de-fragmented frame, use `newframe = frame.copy()`\n",
      "  X_test[c_name1+\" * \"+c_name2] = X_test[c_name1] * X_test[c_name2]\n",
      "C:\\Users\\gjaischool\\AppData\\Local\\Temp\\ipykernel_222784\\3604395118.py:4: PerformanceWarning: DataFrame is highly fragmented.  This is usually the result of calling `frame.insert` many times, which has poor performance.  Consider joining all columns at once using pd.concat(axis=1) instead. To get a de-fragmented frame, use `newframe = frame.copy()`\n",
      "  X_test[c_name1+\" * \"+c_name2] = X_test[c_name1] * X_test[c_name2]\n",
      "C:\\Users\\gjaischool\\AppData\\Local\\Temp\\ipykernel_222784\\3604395118.py:4: PerformanceWarning: DataFrame is highly fragmented.  This is usually the result of calling `frame.insert` many times, which has poor performance.  Consider joining all columns at once using pd.concat(axis=1) instead. To get a de-fragmented frame, use `newframe = frame.copy()`\n",
      "  X_test[c_name1+\" * \"+c_name2] = X_test[c_name1] * X_test[c_name2]\n",
      "C:\\Users\\gjaischool\\AppData\\Local\\Temp\\ipykernel_222784\\3604395118.py:4: PerformanceWarning: DataFrame is highly fragmented.  This is usually the result of calling `frame.insert` many times, which has poor performance.  Consider joining all columns at once using pd.concat(axis=1) instead. To get a de-fragmented frame, use `newframe = frame.copy()`\n",
      "  X_test[c_name1+\" * \"+c_name2] = X_test[c_name1] * X_test[c_name2]\n",
      "C:\\Users\\gjaischool\\AppData\\Local\\Temp\\ipykernel_222784\\3604395118.py:4: PerformanceWarning: DataFrame is highly fragmented.  This is usually the result of calling `frame.insert` many times, which has poor performance.  Consider joining all columns at once using pd.concat(axis=1) instead. To get a de-fragmented frame, use `newframe = frame.copy()`\n",
      "  X_test[c_name1+\" * \"+c_name2] = X_test[c_name1] * X_test[c_name2]\n",
      "C:\\Users\\gjaischool\\AppData\\Local\\Temp\\ipykernel_222784\\3604395118.py:4: PerformanceWarning: DataFrame is highly fragmented.  This is usually the result of calling `frame.insert` many times, which has poor performance.  Consider joining all columns at once using pd.concat(axis=1) instead. To get a de-fragmented frame, use `newframe = frame.copy()`\n",
      "  X_test[c_name1+\" * \"+c_name2] = X_test[c_name1] * X_test[c_name2]\n",
      "C:\\Users\\gjaischool\\AppData\\Local\\Temp\\ipykernel_222784\\3604395118.py:4: PerformanceWarning: DataFrame is highly fragmented.  This is usually the result of calling `frame.insert` many times, which has poor performance.  Consider joining all columns at once using pd.concat(axis=1) instead. To get a de-fragmented frame, use `newframe = frame.copy()`\n",
      "  X_test[c_name1+\" * \"+c_name2] = X_test[c_name1] * X_test[c_name2]\n",
      "C:\\Users\\gjaischool\\AppData\\Local\\Temp\\ipykernel_222784\\3604395118.py:4: PerformanceWarning: DataFrame is highly fragmented.  This is usually the result of calling `frame.insert` many times, which has poor performance.  Consider joining all columns at once using pd.concat(axis=1) instead. To get a de-fragmented frame, use `newframe = frame.copy()`\n",
      "  X_test[c_name1+\" * \"+c_name2] = X_test[c_name1] * X_test[c_name2]\n",
      "C:\\Users\\gjaischool\\AppData\\Local\\Temp\\ipykernel_222784\\3604395118.py:4: PerformanceWarning: DataFrame is highly fragmented.  This is usually the result of calling `frame.insert` many times, which has poor performance.  Consider joining all columns at once using pd.concat(axis=1) instead. To get a de-fragmented frame, use `newframe = frame.copy()`\n",
      "  X_test[c_name1+\" * \"+c_name2] = X_test[c_name1] * X_test[c_name2]\n",
      "C:\\Users\\gjaischool\\AppData\\Local\\Temp\\ipykernel_222784\\3604395118.py:4: PerformanceWarning: DataFrame is highly fragmented.  This is usually the result of calling `frame.insert` many times, which has poor performance.  Consider joining all columns at once using pd.concat(axis=1) instead. To get a de-fragmented frame, use `newframe = frame.copy()`\n",
      "  X_test[c_name1+\" * \"+c_name2] = X_test[c_name1] * X_test[c_name2]\n",
      "C:\\Users\\gjaischool\\AppData\\Local\\Temp\\ipykernel_222784\\3604395118.py:4: PerformanceWarning: DataFrame is highly fragmented.  This is usually the result of calling `frame.insert` many times, which has poor performance.  Consider joining all columns at once using pd.concat(axis=1) instead. To get a de-fragmented frame, use `newframe = frame.copy()`\n",
      "  X_test[c_name1+\" * \"+c_name2] = X_test[c_name1] * X_test[c_name2]\n",
      "C:\\Users\\gjaischool\\AppData\\Local\\Temp\\ipykernel_222784\\3604395118.py:4: PerformanceWarning: DataFrame is highly fragmented.  This is usually the result of calling `frame.insert` many times, which has poor performance.  Consider joining all columns at once using pd.concat(axis=1) instead. To get a de-fragmented frame, use `newframe = frame.copy()`\n",
      "  X_test[c_name1+\" * \"+c_name2] = X_test[c_name1] * X_test[c_name2]\n",
      "C:\\Users\\gjaischool\\AppData\\Local\\Temp\\ipykernel_222784\\3604395118.py:4: PerformanceWarning: DataFrame is highly fragmented.  This is usually the result of calling `frame.insert` many times, which has poor performance.  Consider joining all columns at once using pd.concat(axis=1) instead. To get a de-fragmented frame, use `newframe = frame.copy()`\n",
      "  X_test[c_name1+\" * \"+c_name2] = X_test[c_name1] * X_test[c_name2]\n",
      "C:\\Users\\gjaischool\\AppData\\Local\\Temp\\ipykernel_222784\\3604395118.py:4: PerformanceWarning: DataFrame is highly fragmented.  This is usually the result of calling `frame.insert` many times, which has poor performance.  Consider joining all columns at once using pd.concat(axis=1) instead. To get a de-fragmented frame, use `newframe = frame.copy()`\n",
      "  X_test[c_name1+\" * \"+c_name2] = X_test[c_name1] * X_test[c_name2]\n",
      "C:\\Users\\gjaischool\\AppData\\Local\\Temp\\ipykernel_222784\\3604395118.py:4: PerformanceWarning: DataFrame is highly fragmented.  This is usually the result of calling `frame.insert` many times, which has poor performance.  Consider joining all columns at once using pd.concat(axis=1) instead. To get a de-fragmented frame, use `newframe = frame.copy()`\n",
      "  X_test[c_name1+\" * \"+c_name2] = X_test[c_name1] * X_test[c_name2]\n",
      "C:\\Users\\gjaischool\\AppData\\Local\\Temp\\ipykernel_222784\\3604395118.py:4: PerformanceWarning: DataFrame is highly fragmented.  This is usually the result of calling `frame.insert` many times, which has poor performance.  Consider joining all columns at once using pd.concat(axis=1) instead. To get a de-fragmented frame, use `newframe = frame.copy()`\n",
      "  X_test[c_name1+\" * \"+c_name2] = X_test[c_name1] * X_test[c_name2]\n",
      "C:\\Users\\gjaischool\\AppData\\Local\\Temp\\ipykernel_222784\\3604395118.py:4: PerformanceWarning: DataFrame is highly fragmented.  This is usually the result of calling `frame.insert` many times, which has poor performance.  Consider joining all columns at once using pd.concat(axis=1) instead. To get a de-fragmented frame, use `newframe = frame.copy()`\n",
      "  X_test[c_name1+\" * \"+c_name2] = X_test[c_name1] * X_test[c_name2]\n",
      "C:\\Users\\gjaischool\\AppData\\Local\\Temp\\ipykernel_222784\\3604395118.py:4: PerformanceWarning: DataFrame is highly fragmented.  This is usually the result of calling `frame.insert` many times, which has poor performance.  Consider joining all columns at once using pd.concat(axis=1) instead. To get a de-fragmented frame, use `newframe = frame.copy()`\n",
      "  X_test[c_name1+\" * \"+c_name2] = X_test[c_name1] * X_test[c_name2]\n",
      "C:\\Users\\gjaischool\\AppData\\Local\\Temp\\ipykernel_222784\\3604395118.py:4: PerformanceWarning: DataFrame is highly fragmented.  This is usually the result of calling `frame.insert` many times, which has poor performance.  Consider joining all columns at once using pd.concat(axis=1) instead. To get a de-fragmented frame, use `newframe = frame.copy()`\n",
      "  X_test[c_name1+\" * \"+c_name2] = X_test[c_name1] * X_test[c_name2]\n",
      "C:\\Users\\gjaischool\\AppData\\Local\\Temp\\ipykernel_222784\\3604395118.py:4: PerformanceWarning: DataFrame is highly fragmented.  This is usually the result of calling `frame.insert` many times, which has poor performance.  Consider joining all columns at once using pd.concat(axis=1) instead. To get a de-fragmented frame, use `newframe = frame.copy()`\n",
      "  X_test[c_name1+\" * \"+c_name2] = X_test[c_name1] * X_test[c_name2]\n",
      "C:\\Users\\gjaischool\\AppData\\Local\\Temp\\ipykernel_222784\\3604395118.py:4: PerformanceWarning: DataFrame is highly fragmented.  This is usually the result of calling `frame.insert` many times, which has poor performance.  Consider joining all columns at once using pd.concat(axis=1) instead. To get a de-fragmented frame, use `newframe = frame.copy()`\n",
      "  X_test[c_name1+\" * \"+c_name2] = X_test[c_name1] * X_test[c_name2]\n",
      "C:\\Users\\gjaischool\\AppData\\Local\\Temp\\ipykernel_222784\\3604395118.py:4: PerformanceWarning: DataFrame is highly fragmented.  This is usually the result of calling `frame.insert` many times, which has poor performance.  Consider joining all columns at once using pd.concat(axis=1) instead. To get a de-fragmented frame, use `newframe = frame.copy()`\n",
      "  X_test[c_name1+\" * \"+c_name2] = X_test[c_name1] * X_test[c_name2]\n",
      "C:\\Users\\gjaischool\\AppData\\Local\\Temp\\ipykernel_222784\\3604395118.py:4: PerformanceWarning: DataFrame is highly fragmented.  This is usually the result of calling `frame.insert` many times, which has poor performance.  Consider joining all columns at once using pd.concat(axis=1) instead. To get a de-fragmented frame, use `newframe = frame.copy()`\n",
      "  X_test[c_name1+\" * \"+c_name2] = X_test[c_name1] * X_test[c_name2]\n",
      "C:\\Users\\gjaischool\\AppData\\Local\\Temp\\ipykernel_222784\\3604395118.py:4: PerformanceWarning: DataFrame is highly fragmented.  This is usually the result of calling `frame.insert` many times, which has poor performance.  Consider joining all columns at once using pd.concat(axis=1) instead. To get a de-fragmented frame, use `newframe = frame.copy()`\n",
      "  X_test[c_name1+\" * \"+c_name2] = X_test[c_name1] * X_test[c_name2]\n",
      "C:\\Users\\gjaischool\\AppData\\Local\\Temp\\ipykernel_222784\\3604395118.py:4: PerformanceWarning: DataFrame is highly fragmented.  This is usually the result of calling `frame.insert` many times, which has poor performance.  Consider joining all columns at once using pd.concat(axis=1) instead. To get a de-fragmented frame, use `newframe = frame.copy()`\n",
      "  X_test[c_name1+\" * \"+c_name2] = X_test[c_name1] * X_test[c_name2]\n",
      "C:\\Users\\gjaischool\\AppData\\Local\\Temp\\ipykernel_222784\\3604395118.py:4: PerformanceWarning: DataFrame is highly fragmented.  This is usually the result of calling `frame.insert` many times, which has poor performance.  Consider joining all columns at once using pd.concat(axis=1) instead. To get a de-fragmented frame, use `newframe = frame.copy()`\n",
      "  X_test[c_name1+\" * \"+c_name2] = X_test[c_name1] * X_test[c_name2]\n",
      "C:\\Users\\gjaischool\\AppData\\Local\\Temp\\ipykernel_222784\\3604395118.py:4: PerformanceWarning: DataFrame is highly fragmented.  This is usually the result of calling `frame.insert` many times, which has poor performance.  Consider joining all columns at once using pd.concat(axis=1) instead. To get a de-fragmented frame, use `newframe = frame.copy()`\n",
      "  X_test[c_name1+\" * \"+c_name2] = X_test[c_name1] * X_test[c_name2]\n",
      "C:\\Users\\gjaischool\\AppData\\Local\\Temp\\ipykernel_222784\\3604395118.py:4: PerformanceWarning: DataFrame is highly fragmented.  This is usually the result of calling `frame.insert` many times, which has poor performance.  Consider joining all columns at once using pd.concat(axis=1) instead. To get a de-fragmented frame, use `newframe = frame.copy()`\n",
      "  X_test[c_name1+\" * \"+c_name2] = X_test[c_name1] * X_test[c_name2]\n",
      "C:\\Users\\gjaischool\\AppData\\Local\\Temp\\ipykernel_222784\\3604395118.py:4: PerformanceWarning: DataFrame is highly fragmented.  This is usually the result of calling `frame.insert` many times, which has poor performance.  Consider joining all columns at once using pd.concat(axis=1) instead. To get a de-fragmented frame, use `newframe = frame.copy()`\n",
      "  X_test[c_name1+\" * \"+c_name2] = X_test[c_name1] * X_test[c_name2]\n",
      "C:\\Users\\gjaischool\\AppData\\Local\\Temp\\ipykernel_222784\\3604395118.py:4: PerformanceWarning: DataFrame is highly fragmented.  This is usually the result of calling `frame.insert` many times, which has poor performance.  Consider joining all columns at once using pd.concat(axis=1) instead. To get a de-fragmented frame, use `newframe = frame.copy()`\n",
      "  X_test[c_name1+\" * \"+c_name2] = X_test[c_name1] * X_test[c_name2]\n",
      "C:\\Users\\gjaischool\\AppData\\Local\\Temp\\ipykernel_222784\\3604395118.py:4: PerformanceWarning: DataFrame is highly fragmented.  This is usually the result of calling `frame.insert` many times, which has poor performance.  Consider joining all columns at once using pd.concat(axis=1) instead. To get a de-fragmented frame, use `newframe = frame.copy()`\n",
      "  X_test[c_name1+\" * \"+c_name2] = X_test[c_name1] * X_test[c_name2]\n",
      "C:\\Users\\gjaischool\\AppData\\Local\\Temp\\ipykernel_222784\\3604395118.py:4: PerformanceWarning: DataFrame is highly fragmented.  This is usually the result of calling `frame.insert` many times, which has poor performance.  Consider joining all columns at once using pd.concat(axis=1) instead. To get a de-fragmented frame, use `newframe = frame.copy()`\n",
      "  X_test[c_name1+\" * \"+c_name2] = X_test[c_name1] * X_test[c_name2]\n",
      "C:\\Users\\gjaischool\\AppData\\Local\\Temp\\ipykernel_222784\\3604395118.py:4: PerformanceWarning: DataFrame is highly fragmented.  This is usually the result of calling `frame.insert` many times, which has poor performance.  Consider joining all columns at once using pd.concat(axis=1) instead. To get a de-fragmented frame, use `newframe = frame.copy()`\n",
      "  X_test[c_name1+\" * \"+c_name2] = X_test[c_name1] * X_test[c_name2]\n",
      "C:\\Users\\gjaischool\\AppData\\Local\\Temp\\ipykernel_222784\\3604395118.py:4: PerformanceWarning: DataFrame is highly fragmented.  This is usually the result of calling `frame.insert` many times, which has poor performance.  Consider joining all columns at once using pd.concat(axis=1) instead. To get a de-fragmented frame, use `newframe = frame.copy()`\n",
      "  X_test[c_name1+\" * \"+c_name2] = X_test[c_name1] * X_test[c_name2]\n",
      "C:\\Users\\gjaischool\\AppData\\Local\\Temp\\ipykernel_222784\\3604395118.py:4: PerformanceWarning: DataFrame is highly fragmented.  This is usually the result of calling `frame.insert` many times, which has poor performance.  Consider joining all columns at once using pd.concat(axis=1) instead. To get a de-fragmented frame, use `newframe = frame.copy()`\n",
      "  X_test[c_name1+\" * \"+c_name2] = X_test[c_name1] * X_test[c_name2]\n",
      "C:\\Users\\gjaischool\\AppData\\Local\\Temp\\ipykernel_222784\\3604395118.py:4: PerformanceWarning: DataFrame is highly fragmented.  This is usually the result of calling `frame.insert` many times, which has poor performance.  Consider joining all columns at once using pd.concat(axis=1) instead. To get a de-fragmented frame, use `newframe = frame.copy()`\n",
      "  X_test[c_name1+\" * \"+c_name2] = X_test[c_name1] * X_test[c_name2]\n",
      "C:\\Users\\gjaischool\\AppData\\Local\\Temp\\ipykernel_222784\\3604395118.py:4: PerformanceWarning: DataFrame is highly fragmented.  This is usually the result of calling `frame.insert` many times, which has poor performance.  Consider joining all columns at once using pd.concat(axis=1) instead. To get a de-fragmented frame, use `newframe = frame.copy()`\n",
      "  X_test[c_name1+\" * \"+c_name2] = X_test[c_name1] * X_test[c_name2]\n",
      "C:\\Users\\gjaischool\\AppData\\Local\\Temp\\ipykernel_222784\\3604395118.py:4: PerformanceWarning: DataFrame is highly fragmented.  This is usually the result of calling `frame.insert` many times, which has poor performance.  Consider joining all columns at once using pd.concat(axis=1) instead. To get a de-fragmented frame, use `newframe = frame.copy()`\n",
      "  X_test[c_name1+\" * \"+c_name2] = X_test[c_name1] * X_test[c_name2]\n",
      "C:\\Users\\gjaischool\\AppData\\Local\\Temp\\ipykernel_222784\\3604395118.py:4: PerformanceWarning: DataFrame is highly fragmented.  This is usually the result of calling `frame.insert` many times, which has poor performance.  Consider joining all columns at once using pd.concat(axis=1) instead. To get a de-fragmented frame, use `newframe = frame.copy()`\n",
      "  X_test[c_name1+\" * \"+c_name2] = X_test[c_name1] * X_test[c_name2]\n",
      "C:\\Users\\gjaischool\\AppData\\Local\\Temp\\ipykernel_222784\\3604395118.py:4: PerformanceWarning: DataFrame is highly fragmented.  This is usually the result of calling `frame.insert` many times, which has poor performance.  Consider joining all columns at once using pd.concat(axis=1) instead. To get a de-fragmented frame, use `newframe = frame.copy()`\n",
      "  X_test[c_name1+\" * \"+c_name2] = X_test[c_name1] * X_test[c_name2]\n",
      "C:\\Users\\gjaischool\\AppData\\Local\\Temp\\ipykernel_222784\\3604395118.py:4: PerformanceWarning: DataFrame is highly fragmented.  This is usually the result of calling `frame.insert` many times, which has poor performance.  Consider joining all columns at once using pd.concat(axis=1) instead. To get a de-fragmented frame, use `newframe = frame.copy()`\n",
      "  X_test[c_name1+\" * \"+c_name2] = X_test[c_name1] * X_test[c_name2]\n",
      "C:\\Users\\gjaischool\\AppData\\Local\\Temp\\ipykernel_222784\\3604395118.py:4: PerformanceWarning: DataFrame is highly fragmented.  This is usually the result of calling `frame.insert` many times, which has poor performance.  Consider joining all columns at once using pd.concat(axis=1) instead. To get a de-fragmented frame, use `newframe = frame.copy()`\n",
      "  X_test[c_name1+\" * \"+c_name2] = X_test[c_name1] * X_test[c_name2]\n",
      "C:\\Users\\gjaischool\\AppData\\Local\\Temp\\ipykernel_222784\\3604395118.py:4: PerformanceWarning: DataFrame is highly fragmented.  This is usually the result of calling `frame.insert` many times, which has poor performance.  Consider joining all columns at once using pd.concat(axis=1) instead. To get a de-fragmented frame, use `newframe = frame.copy()`\n",
      "  X_test[c_name1+\" * \"+c_name2] = X_test[c_name1] * X_test[c_name2]\n",
      "C:\\Users\\gjaischool\\AppData\\Local\\Temp\\ipykernel_222784\\3604395118.py:4: PerformanceWarning: DataFrame is highly fragmented.  This is usually the result of calling `frame.insert` many times, which has poor performance.  Consider joining all columns at once using pd.concat(axis=1) instead. To get a de-fragmented frame, use `newframe = frame.copy()`\n",
      "  X_test[c_name1+\" * \"+c_name2] = X_test[c_name1] * X_test[c_name2]\n",
      "C:\\Users\\gjaischool\\AppData\\Local\\Temp\\ipykernel_222784\\3604395118.py:4: PerformanceWarning: DataFrame is highly fragmented.  This is usually the result of calling `frame.insert` many times, which has poor performance.  Consider joining all columns at once using pd.concat(axis=1) instead. To get a de-fragmented frame, use `newframe = frame.copy()`\n",
      "  X_test[c_name1+\" * \"+c_name2] = X_test[c_name1] * X_test[c_name2]\n",
      "C:\\Users\\gjaischool\\AppData\\Local\\Temp\\ipykernel_222784\\3604395118.py:4: PerformanceWarning: DataFrame is highly fragmented.  This is usually the result of calling `frame.insert` many times, which has poor performance.  Consider joining all columns at once using pd.concat(axis=1) instead. To get a de-fragmented frame, use `newframe = frame.copy()`\n",
      "  X_test[c_name1+\" * \"+c_name2] = X_test[c_name1] * X_test[c_name2]\n",
      "C:\\Users\\gjaischool\\AppData\\Local\\Temp\\ipykernel_222784\\3604395118.py:4: PerformanceWarning: DataFrame is highly fragmented.  This is usually the result of calling `frame.insert` many times, which has poor performance.  Consider joining all columns at once using pd.concat(axis=1) instead. To get a de-fragmented frame, use `newframe = frame.copy()`\n",
      "  X_test[c_name1+\" * \"+c_name2] = X_test[c_name1] * X_test[c_name2]\n",
      "C:\\Users\\gjaischool\\AppData\\Local\\Temp\\ipykernel_222784\\3604395118.py:4: PerformanceWarning: DataFrame is highly fragmented.  This is usually the result of calling `frame.insert` many times, which has poor performance.  Consider joining all columns at once using pd.concat(axis=1) instead. To get a de-fragmented frame, use `newframe = frame.copy()`\n",
      "  X_test[c_name1+\" * \"+c_name2] = X_test[c_name1] * X_test[c_name2]\n",
      "C:\\Users\\gjaischool\\AppData\\Local\\Temp\\ipykernel_222784\\3604395118.py:4: PerformanceWarning: DataFrame is highly fragmented.  This is usually the result of calling `frame.insert` many times, which has poor performance.  Consider joining all columns at once using pd.concat(axis=1) instead. To get a de-fragmented frame, use `newframe = frame.copy()`\n",
      "  X_test[c_name1+\" * \"+c_name2] = X_test[c_name1] * X_test[c_name2]\n",
      "C:\\Users\\gjaischool\\AppData\\Local\\Temp\\ipykernel_222784\\3604395118.py:4: PerformanceWarning: DataFrame is highly fragmented.  This is usually the result of calling `frame.insert` many times, which has poor performance.  Consider joining all columns at once using pd.concat(axis=1) instead. To get a de-fragmented frame, use `newframe = frame.copy()`\n",
      "  X_test[c_name1+\" * \"+c_name2] = X_test[c_name1] * X_test[c_name2]\n",
      "C:\\Users\\gjaischool\\AppData\\Local\\Temp\\ipykernel_222784\\3604395118.py:4: PerformanceWarning: DataFrame is highly fragmented.  This is usually the result of calling `frame.insert` many times, which has poor performance.  Consider joining all columns at once using pd.concat(axis=1) instead. To get a de-fragmented frame, use `newframe = frame.copy()`\n",
      "  X_test[c_name1+\" * \"+c_name2] = X_test[c_name1] * X_test[c_name2]\n",
      "C:\\Users\\gjaischool\\AppData\\Local\\Temp\\ipykernel_222784\\3604395118.py:4: PerformanceWarning: DataFrame is highly fragmented.  This is usually the result of calling `frame.insert` many times, which has poor performance.  Consider joining all columns at once using pd.concat(axis=1) instead. To get a de-fragmented frame, use `newframe = frame.copy()`\n",
      "  X_test[c_name1+\" * \"+c_name2] = X_test[c_name1] * X_test[c_name2]\n",
      "C:\\Users\\gjaischool\\AppData\\Local\\Temp\\ipykernel_222784\\3604395118.py:4: PerformanceWarning: DataFrame is highly fragmented.  This is usually the result of calling `frame.insert` many times, which has poor performance.  Consider joining all columns at once using pd.concat(axis=1) instead. To get a de-fragmented frame, use `newframe = frame.copy()`\n",
      "  X_test[c_name1+\" * \"+c_name2] = X_test[c_name1] * X_test[c_name2]\n",
      "C:\\Users\\gjaischool\\AppData\\Local\\Temp\\ipykernel_222784\\3604395118.py:4: PerformanceWarning: DataFrame is highly fragmented.  This is usually the result of calling `frame.insert` many times, which has poor performance.  Consider joining all columns at once using pd.concat(axis=1) instead. To get a de-fragmented frame, use `newframe = frame.copy()`\n",
      "  X_test[c_name1+\" * \"+c_name2] = X_test[c_name1] * X_test[c_name2]\n",
      "C:\\Users\\gjaischool\\AppData\\Local\\Temp\\ipykernel_222784\\3604395118.py:4: PerformanceWarning: DataFrame is highly fragmented.  This is usually the result of calling `frame.insert` many times, which has poor performance.  Consider joining all columns at once using pd.concat(axis=1) instead. To get a de-fragmented frame, use `newframe = frame.copy()`\n",
      "  X_test[c_name1+\" * \"+c_name2] = X_test[c_name1] * X_test[c_name2]\n",
      "C:\\Users\\gjaischool\\AppData\\Local\\Temp\\ipykernel_222784\\3604395118.py:4: PerformanceWarning: DataFrame is highly fragmented.  This is usually the result of calling `frame.insert` many times, which has poor performance.  Consider joining all columns at once using pd.concat(axis=1) instead. To get a de-fragmented frame, use `newframe = frame.copy()`\n",
      "  X_test[c_name1+\" * \"+c_name2] = X_test[c_name1] * X_test[c_name2]\n",
      "C:\\Users\\gjaischool\\AppData\\Local\\Temp\\ipykernel_222784\\3604395118.py:4: PerformanceWarning: DataFrame is highly fragmented.  This is usually the result of calling `frame.insert` many times, which has poor performance.  Consider joining all columns at once using pd.concat(axis=1) instead. To get a de-fragmented frame, use `newframe = frame.copy()`\n",
      "  X_test[c_name1+\" * \"+c_name2] = X_test[c_name1] * X_test[c_name2]\n",
      "C:\\Users\\gjaischool\\AppData\\Local\\Temp\\ipykernel_222784\\3604395118.py:4: PerformanceWarning: DataFrame is highly fragmented.  This is usually the result of calling `frame.insert` many times, which has poor performance.  Consider joining all columns at once using pd.concat(axis=1) instead. To get a de-fragmented frame, use `newframe = frame.copy()`\n",
      "  X_test[c_name1+\" * \"+c_name2] = X_test[c_name1] * X_test[c_name2]\n",
      "C:\\Users\\gjaischool\\AppData\\Local\\Temp\\ipykernel_222784\\3604395118.py:4: PerformanceWarning: DataFrame is highly fragmented.  This is usually the result of calling `frame.insert` many times, which has poor performance.  Consider joining all columns at once using pd.concat(axis=1) instead. To get a de-fragmented frame, use `newframe = frame.copy()`\n",
      "  X_test[c_name1+\" * \"+c_name2] = X_test[c_name1] * X_test[c_name2]\n",
      "C:\\Users\\gjaischool\\AppData\\Local\\Temp\\ipykernel_222784\\3604395118.py:4: PerformanceWarning: DataFrame is highly fragmented.  This is usually the result of calling `frame.insert` many times, which has poor performance.  Consider joining all columns at once using pd.concat(axis=1) instead. To get a de-fragmented frame, use `newframe = frame.copy()`\n",
      "  X_test[c_name1+\" * \"+c_name2] = X_test[c_name1] * X_test[c_name2]\n",
      "C:\\Users\\gjaischool\\AppData\\Local\\Temp\\ipykernel_222784\\3604395118.py:4: PerformanceWarning: DataFrame is highly fragmented.  This is usually the result of calling `frame.insert` many times, which has poor performance.  Consider joining all columns at once using pd.concat(axis=1) instead. To get a de-fragmented frame, use `newframe = frame.copy()`\n",
      "  X_test[c_name1+\" * \"+c_name2] = X_test[c_name1] * X_test[c_name2]\n",
      "C:\\Users\\gjaischool\\AppData\\Local\\Temp\\ipykernel_222784\\3604395118.py:4: PerformanceWarning: DataFrame is highly fragmented.  This is usually the result of calling `frame.insert` many times, which has poor performance.  Consider joining all columns at once using pd.concat(axis=1) instead. To get a de-fragmented frame, use `newframe = frame.copy()`\n",
      "  X_test[c_name1+\" * \"+c_name2] = X_test[c_name1] * X_test[c_name2]\n",
      "C:\\Users\\gjaischool\\AppData\\Local\\Temp\\ipykernel_222784\\3604395118.py:4: PerformanceWarning: DataFrame is highly fragmented.  This is usually the result of calling `frame.insert` many times, which has poor performance.  Consider joining all columns at once using pd.concat(axis=1) instead. To get a de-fragmented frame, use `newframe = frame.copy()`\n",
      "  X_test[c_name1+\" * \"+c_name2] = X_test[c_name1] * X_test[c_name2]\n",
      "C:\\Users\\gjaischool\\AppData\\Local\\Temp\\ipykernel_222784\\3604395118.py:4: PerformanceWarning: DataFrame is highly fragmented.  This is usually the result of calling `frame.insert` many times, which has poor performance.  Consider joining all columns at once using pd.concat(axis=1) instead. To get a de-fragmented frame, use `newframe = frame.copy()`\n",
      "  X_test[c_name1+\" * \"+c_name2] = X_test[c_name1] * X_test[c_name2]\n",
      "C:\\Users\\gjaischool\\AppData\\Local\\Temp\\ipykernel_222784\\3604395118.py:4: PerformanceWarning: DataFrame is highly fragmented.  This is usually the result of calling `frame.insert` many times, which has poor performance.  Consider joining all columns at once using pd.concat(axis=1) instead. To get a de-fragmented frame, use `newframe = frame.copy()`\n",
      "  X_test[c_name1+\" * \"+c_name2] = X_test[c_name1] * X_test[c_name2]\n",
      "C:\\Users\\gjaischool\\AppData\\Local\\Temp\\ipykernel_222784\\3604395118.py:4: PerformanceWarning: DataFrame is highly fragmented.  This is usually the result of calling `frame.insert` many times, which has poor performance.  Consider joining all columns at once using pd.concat(axis=1) instead. To get a de-fragmented frame, use `newframe = frame.copy()`\n",
      "  X_test[c_name1+\" * \"+c_name2] = X_test[c_name1] * X_test[c_name2]\n",
      "C:\\Users\\gjaischool\\AppData\\Local\\Temp\\ipykernel_222784\\3604395118.py:4: PerformanceWarning: DataFrame is highly fragmented.  This is usually the result of calling `frame.insert` many times, which has poor performance.  Consider joining all columns at once using pd.concat(axis=1) instead. To get a de-fragmented frame, use `newframe = frame.copy()`\n",
      "  X_test[c_name1+\" * \"+c_name2] = X_test[c_name1] * X_test[c_name2]\n",
      "C:\\Users\\gjaischool\\AppData\\Local\\Temp\\ipykernel_222784\\3604395118.py:4: PerformanceWarning: DataFrame is highly fragmented.  This is usually the result of calling `frame.insert` many times, which has poor performance.  Consider joining all columns at once using pd.concat(axis=1) instead. To get a de-fragmented frame, use `newframe = frame.copy()`\n",
      "  X_test[c_name1+\" * \"+c_name2] = X_test[c_name1] * X_test[c_name2]\n",
      "C:\\Users\\gjaischool\\AppData\\Local\\Temp\\ipykernel_222784\\3604395118.py:4: PerformanceWarning: DataFrame is highly fragmented.  This is usually the result of calling `frame.insert` many times, which has poor performance.  Consider joining all columns at once using pd.concat(axis=1) instead. To get a de-fragmented frame, use `newframe = frame.copy()`\n",
      "  X_test[c_name1+\" * \"+c_name2] = X_test[c_name1] * X_test[c_name2]\n",
      "C:\\Users\\gjaischool\\AppData\\Local\\Temp\\ipykernel_222784\\3604395118.py:4: PerformanceWarning: DataFrame is highly fragmented.  This is usually the result of calling `frame.insert` many times, which has poor performance.  Consider joining all columns at once using pd.concat(axis=1) instead. To get a de-fragmented frame, use `newframe = frame.copy()`\n",
      "  X_test[c_name1+\" * \"+c_name2] = X_test[c_name1] * X_test[c_name2]\n",
      "C:\\Users\\gjaischool\\AppData\\Local\\Temp\\ipykernel_222784\\3604395118.py:4: PerformanceWarning: DataFrame is highly fragmented.  This is usually the result of calling `frame.insert` many times, which has poor performance.  Consider joining all columns at once using pd.concat(axis=1) instead. To get a de-fragmented frame, use `newframe = frame.copy()`\n",
      "  X_test[c_name1+\" * \"+c_name2] = X_test[c_name1] * X_test[c_name2]\n",
      "C:\\Users\\gjaischool\\AppData\\Local\\Temp\\ipykernel_222784\\3604395118.py:4: PerformanceWarning: DataFrame is highly fragmented.  This is usually the result of calling `frame.insert` many times, which has poor performance.  Consider joining all columns at once using pd.concat(axis=1) instead. To get a de-fragmented frame, use `newframe = frame.copy()`\n",
      "  X_test[c_name1+\" * \"+c_name2] = X_test[c_name1] * X_test[c_name2]\n",
      "C:\\Users\\gjaischool\\AppData\\Local\\Temp\\ipykernel_222784\\3604395118.py:4: PerformanceWarning: DataFrame is highly fragmented.  This is usually the result of calling `frame.insert` many times, which has poor performance.  Consider joining all columns at once using pd.concat(axis=1) instead. To get a de-fragmented frame, use `newframe = frame.copy()`\n",
      "  X_test[c_name1+\" * \"+c_name2] = X_test[c_name1] * X_test[c_name2]\n",
      "C:\\Users\\gjaischool\\AppData\\Local\\Temp\\ipykernel_222784\\3604395118.py:4: PerformanceWarning: DataFrame is highly fragmented.  This is usually the result of calling `frame.insert` many times, which has poor performance.  Consider joining all columns at once using pd.concat(axis=1) instead. To get a de-fragmented frame, use `newframe = frame.copy()`\n",
      "  X_test[c_name1+\" * \"+c_name2] = X_test[c_name1] * X_test[c_name2]\n",
      "C:\\Users\\gjaischool\\AppData\\Local\\Temp\\ipykernel_222784\\3604395118.py:4: PerformanceWarning: DataFrame is highly fragmented.  This is usually the result of calling `frame.insert` many times, which has poor performance.  Consider joining all columns at once using pd.concat(axis=1) instead. To get a de-fragmented frame, use `newframe = frame.copy()`\n",
      "  X_test[c_name1+\" * \"+c_name2] = X_test[c_name1] * X_test[c_name2]\n",
      "C:\\Users\\gjaischool\\AppData\\Local\\Temp\\ipykernel_222784\\3604395118.py:4: PerformanceWarning: DataFrame is highly fragmented.  This is usually the result of calling `frame.insert` many times, which has poor performance.  Consider joining all columns at once using pd.concat(axis=1) instead. To get a de-fragmented frame, use `newframe = frame.copy()`\n",
      "  X_test[c_name1+\" * \"+c_name2] = X_test[c_name1] * X_test[c_name2]\n",
      "C:\\Users\\gjaischool\\AppData\\Local\\Temp\\ipykernel_222784\\3604395118.py:4: PerformanceWarning: DataFrame is highly fragmented.  This is usually the result of calling `frame.insert` many times, which has poor performance.  Consider joining all columns at once using pd.concat(axis=1) instead. To get a de-fragmented frame, use `newframe = frame.copy()`\n",
      "  X_test[c_name1+\" * \"+c_name2] = X_test[c_name1] * X_test[c_name2]\n",
      "C:\\Users\\gjaischool\\AppData\\Local\\Temp\\ipykernel_222784\\3604395118.py:4: PerformanceWarning: DataFrame is highly fragmented.  This is usually the result of calling `frame.insert` many times, which has poor performance.  Consider joining all columns at once using pd.concat(axis=1) instead. To get a de-fragmented frame, use `newframe = frame.copy()`\n",
      "  X_test[c_name1+\" * \"+c_name2] = X_test[c_name1] * X_test[c_name2]\n",
      "C:\\Users\\gjaischool\\AppData\\Local\\Temp\\ipykernel_222784\\3604395118.py:4: PerformanceWarning: DataFrame is highly fragmented.  This is usually the result of calling `frame.insert` many times, which has poor performance.  Consider joining all columns at once using pd.concat(axis=1) instead. To get a de-fragmented frame, use `newframe = frame.copy()`\n",
      "  X_test[c_name1+\" * \"+c_name2] = X_test[c_name1] * X_test[c_name2]\n",
      "C:\\Users\\gjaischool\\AppData\\Local\\Temp\\ipykernel_222784\\3604395118.py:4: PerformanceWarning: DataFrame is highly fragmented.  This is usually the result of calling `frame.insert` many times, which has poor performance.  Consider joining all columns at once using pd.concat(axis=1) instead. To get a de-fragmented frame, use `newframe = frame.copy()`\n",
      "  X_test[c_name1+\" * \"+c_name2] = X_test[c_name1] * X_test[c_name2]\n",
      "C:\\Users\\gjaischool\\AppData\\Local\\Temp\\ipykernel_222784\\3604395118.py:4: PerformanceWarning: DataFrame is highly fragmented.  This is usually the result of calling `frame.insert` many times, which has poor performance.  Consider joining all columns at once using pd.concat(axis=1) instead. To get a de-fragmented frame, use `newframe = frame.copy()`\n",
      "  X_test[c_name1+\" * \"+c_name2] = X_test[c_name1] * X_test[c_name2]\n",
      "C:\\Users\\gjaischool\\AppData\\Local\\Temp\\ipykernel_222784\\3604395118.py:4: PerformanceWarning: DataFrame is highly fragmented.  This is usually the result of calling `frame.insert` many times, which has poor performance.  Consider joining all columns at once using pd.concat(axis=1) instead. To get a de-fragmented frame, use `newframe = frame.copy()`\n",
      "  X_test[c_name1+\" * \"+c_name2] = X_test[c_name1] * X_test[c_name2]\n",
      "C:\\Users\\gjaischool\\AppData\\Local\\Temp\\ipykernel_222784\\3604395118.py:4: PerformanceWarning: DataFrame is highly fragmented.  This is usually the result of calling `frame.insert` many times, which has poor performance.  Consider joining all columns at once using pd.concat(axis=1) instead. To get a de-fragmented frame, use `newframe = frame.copy()`\n",
      "  X_test[c_name1+\" * \"+c_name2] = X_test[c_name1] * X_test[c_name2]\n",
      "C:\\Users\\gjaischool\\AppData\\Local\\Temp\\ipykernel_222784\\3604395118.py:4: PerformanceWarning: DataFrame is highly fragmented.  This is usually the result of calling `frame.insert` many times, which has poor performance.  Consider joining all columns at once using pd.concat(axis=1) instead. To get a de-fragmented frame, use `newframe = frame.copy()`\n",
      "  X_test[c_name1+\" * \"+c_name2] = X_test[c_name1] * X_test[c_name2]\n"
     ]
    }
   ],
   "source": [
    "colums_list = X_test.columns\n",
    "for c_name1 in colums_list :\n",
    "    for c_name2 in colums_list :\n",
    "        X_test[c_name1+\" * \"+c_name2] = X_test[c_name1] * X_test[c_name2]"
   ]
  },
  {
   "cell_type": "code",
   "execution_count": 44,
   "id": "c30e9356",
   "metadata": {},
   "outputs": [
    {
     "name": "stdout",
     "output_type": "stream",
     "text": [
      "(404, 208)\n",
      "(102, 208)\n"
     ]
    }
   ],
   "source": [
    "print(X_train.shape)\n",
    "print(X_test.shape)"
   ]
  },
  {
   "cell_type": "code",
   "execution_count": 46,
   "id": "5c6cc775",
   "metadata": {},
   "outputs": [
    {
     "data": {
      "text/plain": [
       "Index(['CRIM', 'ZN', 'INDUS', 'CHAS', 'NOX', 'RM', 'AGE', 'DIS', 'RAD', 'TAX',\n",
       "       ...\n",
       "       'LSTAT * LSTAT * CHAS', 'LSTAT * LSTAT * NOX', 'LSTAT * LSTAT * RM',\n",
       "       'LSTAT * LSTAT * AGE', 'LSTAT * LSTAT * DIS', 'LSTAT * LSTAT * RAD',\n",
       "       'LSTAT * LSTAT * TAX', 'LSTAT * LSTAT * PTRATIO', 'LSTAT * LSTAT * B',\n",
       "       'LSTAT * LSTAT * LSTAT * LSTAT'],\n",
       "      dtype='object', length=208)"
      ]
     },
     "execution_count": 46,
     "metadata": {},
     "output_type": "execute_result"
    }
   ],
   "source": [
    "X_train.columns"
   ]
  },
  {
   "cell_type": "code",
   "execution_count": 47,
   "id": "f392d9a9",
   "metadata": {},
   "outputs": [],
   "source": [
    "from sklearn.linear_model import Ridge, Lasso"
   ]
  },
  {
   "cell_type": "code",
   "execution_count": 48,
   "id": "a4ce00b2",
   "metadata": {},
   "outputs": [],
   "source": [
    "linear_model = LinearRegression()\n",
    "ridge_model = Ridge() # L2\n",
    "lasso_model = Lasso() # L1"
   ]
  },
  {
   "cell_type": "code",
   "execution_count": 49,
   "id": "0f3552e8",
   "metadata": {},
   "outputs": [
    {
     "name": "stderr",
     "output_type": "stream",
     "text": [
      "C:\\Users\\gjaischool\\anaconda3\\lib\\site-packages\\sklearn\\linear_model\\_coordinate_descent.py:631: ConvergenceWarning: Objective did not converge. You might want to increase the number of iterations, check the scale of the features or consider increasing regularisation. Duality gap: 1.779e+03, tolerance: 3.506e+00\n",
      "  model = cd_fast.enet_coordinate_descent(\n"
     ]
    },
    {
     "data": {
      "text/html": [
       "<style>#sk-container-id-5 {color: black;background-color: white;}#sk-container-id-5 pre{padding: 0;}#sk-container-id-5 div.sk-toggleable {background-color: white;}#sk-container-id-5 label.sk-toggleable__label {cursor: pointer;display: block;width: 100%;margin-bottom: 0;padding: 0.3em;box-sizing: border-box;text-align: center;}#sk-container-id-5 label.sk-toggleable__label-arrow:before {content: \"▸\";float: left;margin-right: 0.25em;color: #696969;}#sk-container-id-5 label.sk-toggleable__label-arrow:hover:before {color: black;}#sk-container-id-5 div.sk-estimator:hover label.sk-toggleable__label-arrow:before {color: black;}#sk-container-id-5 div.sk-toggleable__content {max-height: 0;max-width: 0;overflow: hidden;text-align: left;background-color: #f0f8ff;}#sk-container-id-5 div.sk-toggleable__content pre {margin: 0.2em;color: black;border-radius: 0.25em;background-color: #f0f8ff;}#sk-container-id-5 input.sk-toggleable__control:checked~div.sk-toggleable__content {max-height: 200px;max-width: 100%;overflow: auto;}#sk-container-id-5 input.sk-toggleable__control:checked~label.sk-toggleable__label-arrow:before {content: \"▾\";}#sk-container-id-5 div.sk-estimator input.sk-toggleable__control:checked~label.sk-toggleable__label {background-color: #d4ebff;}#sk-container-id-5 div.sk-label input.sk-toggleable__control:checked~label.sk-toggleable__label {background-color: #d4ebff;}#sk-container-id-5 input.sk-hidden--visually {border: 0;clip: rect(1px 1px 1px 1px);clip: rect(1px, 1px, 1px, 1px);height: 1px;margin: -1px;overflow: hidden;padding: 0;position: absolute;width: 1px;}#sk-container-id-5 div.sk-estimator {font-family: monospace;background-color: #f0f8ff;border: 1px dotted black;border-radius: 0.25em;box-sizing: border-box;margin-bottom: 0.5em;}#sk-container-id-5 div.sk-estimator:hover {background-color: #d4ebff;}#sk-container-id-5 div.sk-parallel-item::after {content: \"\";width: 100%;border-bottom: 1px solid gray;flex-grow: 1;}#sk-container-id-5 div.sk-label:hover label.sk-toggleable__label {background-color: #d4ebff;}#sk-container-id-5 div.sk-serial::before {content: \"\";position: absolute;border-left: 1px solid gray;box-sizing: border-box;top: 0;bottom: 0;left: 50%;z-index: 0;}#sk-container-id-5 div.sk-serial {display: flex;flex-direction: column;align-items: center;background-color: white;padding-right: 0.2em;padding-left: 0.2em;position: relative;}#sk-container-id-5 div.sk-item {position: relative;z-index: 1;}#sk-container-id-5 div.sk-parallel {display: flex;align-items: stretch;justify-content: center;background-color: white;position: relative;}#sk-container-id-5 div.sk-item::before, #sk-container-id-5 div.sk-parallel-item::before {content: \"\";position: absolute;border-left: 1px solid gray;box-sizing: border-box;top: 0;bottom: 0;left: 50%;z-index: -1;}#sk-container-id-5 div.sk-parallel-item {display: flex;flex-direction: column;z-index: 1;position: relative;background-color: white;}#sk-container-id-5 div.sk-parallel-item:first-child::after {align-self: flex-end;width: 50%;}#sk-container-id-5 div.sk-parallel-item:last-child::after {align-self: flex-start;width: 50%;}#sk-container-id-5 div.sk-parallel-item:only-child::after {width: 0;}#sk-container-id-5 div.sk-dashed-wrapped {border: 1px dashed gray;margin: 0 0.4em 0.5em 0.4em;box-sizing: border-box;padding-bottom: 0.4em;background-color: white;}#sk-container-id-5 div.sk-label label {font-family: monospace;font-weight: bold;display: inline-block;line-height: 1.2em;}#sk-container-id-5 div.sk-label-container {text-align: center;}#sk-container-id-5 div.sk-container {/* jupyter's `normalize.less` sets `[hidden] { display: none; }` but bootstrap.min.css set `[hidden] { display: none !important; }` so we also need the `!important` here to be able to override the default hidden behavior on the sphinx rendered scikit-learn.org. See: https://github.com/scikit-learn/scikit-learn/issues/21755 */display: inline-block !important;position: relative;}#sk-container-id-5 div.sk-text-repr-fallback {display: none;}</style><div id=\"sk-container-id-5\" class=\"sk-top-container\"><div class=\"sk-text-repr-fallback\"><pre>Lasso()</pre><b>In a Jupyter environment, please rerun this cell to show the HTML representation or trust the notebook. <br />On GitHub, the HTML representation is unable to render, please try loading this page with nbviewer.org.</b></div><div class=\"sk-container\" hidden><div class=\"sk-item\"><div class=\"sk-estimator sk-toggleable\"><input class=\"sk-toggleable__control sk-hidden--visually\" id=\"sk-estimator-id-5\" type=\"checkbox\" checked><label for=\"sk-estimator-id-5\" class=\"sk-toggleable__label sk-toggleable__label-arrow\">Lasso</label><div class=\"sk-toggleable__content\"><pre>Lasso()</pre></div></div></div></div></div>"
      ],
      "text/plain": [
       "Lasso()"
      ]
     },
     "execution_count": 49,
     "metadata": {},
     "output_type": "execute_result"
    }
   ],
   "source": [
    "# 학습\n",
    "linear_model.fit(X_train, y_train)\n",
    "ridge_model.fit(X_train, y_train)\n",
    "lasso_model.fit(X_train, y_train)"
   ]
  },
  {
   "cell_type": "code",
   "execution_count": 52,
   "id": "89c64191",
   "metadata": {},
   "outputs": [],
   "source": [
    "# 평가\n",
    "linear_score = linear_model.score(X_test, y_test)\n",
    "ridge_score = ridge_model.score(X_test, y_test)\n",
    "lasso_score = lasso_model.score(X_test, y_test)"
   ]
  },
  {
   "cell_type": "code",
   "execution_count": 55,
   "id": "3bfd0535",
   "metadata": {},
   "outputs": [
    {
     "name": "stdout",
     "output_type": "stream",
     "text": [
      "linear_score :  0.45126296621536854\n",
      "ridge_score :  0.7690183867746924\n",
      "lasso_score :  0.7124789362511561\n"
     ]
    }
   ],
   "source": [
    "print(\"linear_score : \" , linear_score)\n",
    "print(\"ridge_score : \" , ridge_score)\n",
    "print(\"lasso_score : \" , lasso_score)"
   ]
  },
  {
   "cell_type": "code",
   "execution_count": null,
   "id": "7103ce90",
   "metadata": {},
   "outputs": [],
   "source": []
  },
  {
   "cell_type": "code",
   "execution_count": null,
   "id": "29653bd3",
   "metadata": {},
   "outputs": [],
   "source": []
  },
  {
   "cell_type": "code",
   "execution_count": null,
   "id": "e635e88e",
   "metadata": {},
   "outputs": [],
   "source": []
  },
  {
   "cell_type": "code",
   "execution_count": null,
   "id": "50bdb541",
   "metadata": {},
   "outputs": [],
   "source": []
  },
  {
   "cell_type": "code",
   "execution_count": null,
   "id": "16c694d4",
   "metadata": {},
   "outputs": [],
   "source": []
  },
  {
   "cell_type": "code",
   "execution_count": null,
   "id": "5ed6f8e5",
   "metadata": {},
   "outputs": [],
   "source": []
  },
  {
   "cell_type": "code",
   "execution_count": null,
   "id": "3cb892c2",
   "metadata": {},
   "outputs": [],
   "source": []
  }
 ],
 "metadata": {
  "kernelspec": {
   "display_name": "Python 3 (ipykernel)",
   "language": "python",
   "name": "python3"
  },
  "language_info": {
   "codemirror_mode": {
    "name": "ipython",
    "version": 3
   },
   "file_extension": ".py",
   "mimetype": "text/x-python",
   "name": "python",
   "nbconvert_exporter": "python",
   "pygments_lexer": "ipython3",
   "version": "3.10.9"
  }
 },
 "nbformat": 4,
 "nbformat_minor": 5
}

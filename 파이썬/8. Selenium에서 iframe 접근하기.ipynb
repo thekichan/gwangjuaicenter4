{
 "cells": [
  {
   "cell_type": "code",
   "execution_count": null,
   "id": "b5cf19f2",
   "metadata": {},
   "outputs": [],
   "source": [
    "# 네이버 지도에서 '광주맛집'"
   ]
  },
  {
   "cell_type": "code",
   "execution_count": 13,
   "id": "05f5ec33",
   "metadata": {},
   "outputs": [],
   "source": [
    "from selenium import webdriver as wb # 브라우저(chrome, edge)\n",
    "from selenium.webdriver.common.keys import Keys # 키보드\n",
    "from selenium.webdriver.common.by import By # 특정 대상 지정\n",
    "import time # 특정 분기점(페이지가 변할 때)마다 약간의 딜레이를 주자"
   ]
  },
  {
   "cell_type": "code",
   "execution_count": 17,
   "id": "7ef73ef9",
   "metadata": {},
   "outputs": [],
   "source": [
    "driver = wb.Chrome()\n",
    "driver.get('https://map.naver.com/v5/search/%EA%B4%91%EC%A3%BC%EB%A7%9B%EC%A7%91?c=10,0,0,0,dh')\n",
    "driver.switch_to.frame('searchIframe')"
   ]
  },
  {
   "cell_type": "code",
   "execution_count": 18,
   "id": "3c4dce4f",
   "metadata": {},
   "outputs": [
    {
     "data": {
      "text/plain": [
       "'육전 한옥'"
      ]
     },
     "execution_count": 18,
     "metadata": {},
     "output_type": "execute_result"
    }
   ],
   "source": [
    "title = driver.find_element(By.CSS_SELECTOR,'#_pcmap_list_scroll_container > ul > li:nth-child(3) > div.CHC5F > a.tzwk0 > div > div > span.place_bluelink.TYaxT')\n",
    "title.text\n",
    "\n"
   ]
  },
  {
   "cell_type": "code",
   "execution_count": null,
   "id": "90825b10",
   "metadata": {},
   "outputs": [],
   "source": [
    "# Selenium에서는 iframe에 접근할 때 페이지의 url이 필요없음\n",
    "# switch_to.frame(id) : iframe에 페이지 변환없이 접근 가능\n",
    "driver.switch_to.frame('searchlframe')"
   ]
  },
  {
   "cell_type": "code",
   "execution_count": null,
   "id": "d6b606d3",
   "metadata": {},
   "outputs": [],
   "source": [
    "title = driver.find_element(By.CSS_SELECTOR, '#_pcmap_list_scroll_container')\n",
    "title.text"
   ]
  },
  {
   "cell_type": "code",
   "execution_count": null,
   "id": "da547f6b",
   "metadata": {},
   "outputs": [],
   "source": [
    "# iframe 빠져나오기\n",
    "# iframe에서 정보를 다 추출한 후에는 반드시 빠져나와야함\n",
    "# iframe 밖에 있는 정보를 추출 가능\n",
    "driver.switch_to.default_content()"
   ]
  },
  {
   "cell_type": "code",
   "execution_count": null,
   "id": "d07fca1a",
   "metadata": {},
   "outputs": [],
   "source": [
    "# 유튜브 댓글 수집\n",
    "driver = wb.Chrome()\n",
    "driver.get('https://www.youtube.com/watch?v=KspkUMH92_E&t=41s')\n"
   ]
  },
  {
   "cell_type": "code",
   "execution_count": null,
   "id": "af0e3ae4",
   "metadata": {},
   "outputs": [],
   "source": []
  }
 ],
 "metadata": {
  "kernelspec": {
   "display_name": "Python 3 (ipykernel)",
   "language": "python",
   "name": "python3"
  },
  "language_info": {
   "codemirror_mode": {
    "name": "ipython",
    "version": 3
   },
   "file_extension": ".py",
   "mimetype": "text/x-python",
   "name": "python",
   "nbconvert_exporter": "python",
   "pygments_lexer": "ipython3",
   "version": "3.10.9"
  }
 },
 "nbformat": 4,
 "nbformat_minor": 5
}

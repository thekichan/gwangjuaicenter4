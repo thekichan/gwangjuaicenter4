{
 "cells": [
  {
   "cell_type": "code",
   "execution_count": null,
   "id": "28131a38",
   "metadata": {},
   "outputs": [],
   "source": [
    "# 브라우저에는 마우스가 없음\n",
    "# 스크롤을 내릴 수 없음\n",
    "# 스크롤 내리기를 대신해서 page down, end 사용\n",
    "# 웹에 page down을 전달하기 위해 body태그 사용"
   ]
  },
  {
   "cell_type": "code",
   "execution_count": 2,
   "id": "29da8028",
   "metadata": {},
   "outputs": [],
   "source": [
    "from selenium import webdriver as wb # 브라우저(chrome, edge)\n",
    "from selenium.webdriver.common.keys import Keys # 키보드\n",
    "from selenium.webdriver.common.by import By # 특정 대상 지정\n",
    "import time # 특정 분기점(페이지가 변할 때)마다 약간의 딜레이를 주자"
   ]
  },
  {
   "cell_type": "code",
   "execution_count": null,
   "id": "383e5ec3",
   "metadata": {},
   "outputs": [],
   "source": [
    "driver = wb.Chrome()\n",
    "driver.get('https://www.youtube.com/watch?v=HB7YEZx-IM0')"
   ]
  },
  {
   "cell_type": "code",
   "execution_count": null,
   "id": "7495006d",
   "metadata": {},
   "outputs": [],
   "source": [
    "# 페이지 끝까지 내리기\n",
    "while True:\n",
    "    body = driver.find_element(By.TAG_NAME, 'body')\n",
    "    body.send_keys(Keys.END)\n",
    "    time.sleep(0.5)"
   ]
  },
  {
   "cell_type": "code",
   "execution_count": null,
   "id": "02f21c23",
   "metadata": {},
   "outputs": [],
   "source": [
    "# 자바스크립트를 사용하면 페이지의 끝을 봤을 때 멈추기\n",
    "# 페이지 크기를 확인하고 적당 크기일때 멈추기\n",
    "# 생각보다 어려움"
   ]
  },
  {
   "cell_type": "code",
   "execution_count": null,
   "id": "bffb65d1",
   "metadata": {},
   "outputs": [],
   "source": [
    "for i in range(100):\n",
    "    body = driver.find_element(By.TAG_NAME, 'body')\n",
    "    body.send_keys(Keys.END)\n",
    "    time.sleep(0.5)"
   ]
  },
  {
   "cell_type": "code",
   "execution_count": 8,
   "id": "2eb3853e",
   "metadata": {},
   "outputs": [],
   "source": [
    "driver = wb.Chrome()\n",
    "driver.get('https://www.youtube.com/watch?v=HB7YEZx-IM0')\n",
    "for i in range(100):\n",
    "    body = driver.find_element(By.TAG_NAME, 'body')\n",
    "    body.send_keys(Keys.END)\n",
    "    time.sleep(0.5)"
   ]
  },
  {
   "cell_type": "code",
   "execution_count": null,
   "id": "05137906",
   "metadata": {},
   "outputs": [],
   "source": []
  },
  {
   "cell_type": "code",
   "execution_count": null,
   "id": "74c3a8cf",
   "metadata": {},
   "outputs": [],
   "source": []
  },
  {
   "cell_type": "code",
   "execution_count": null,
   "id": "079dc356",
   "metadata": {},
   "outputs": [],
   "source": []
  },
  {
   "cell_type": "code",
   "execution_count": null,
   "id": "e05cbda7",
   "metadata": {},
   "outputs": [],
   "source": []
  },
  {
   "cell_type": "code",
   "execution_count": null,
   "id": "0ef09a96",
   "metadata": {},
   "outputs": [],
   "source": []
  }
 ],
 "metadata": {
  "kernelspec": {
   "display_name": "Python 3 (ipykernel)",
   "language": "python",
   "name": "python3"
  },
  "language_info": {
   "codemirror_mode": {
    "name": "ipython",
    "version": 3
   },
   "file_extension": ".py",
   "mimetype": "text/x-python",
   "name": "python",
   "nbconvert_exporter": "python",
   "pygments_lexer": "ipython3",
   "version": "3.10.9"
  }
 },
 "nbformat": 4,
 "nbformat_minor": 5
}

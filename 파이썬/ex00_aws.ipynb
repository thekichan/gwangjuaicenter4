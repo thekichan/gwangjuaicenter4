{
 "cells": [
  {
   "cell_type": "markdown",
   "id": "cf818d67",
   "metadata": {},
   "source": [
    "# AWS\n",
    "- Amazon Web Service\n",
    "\n",
    "# Image Recognition"
   ]
  },
  {
   "cell_type": "code",
   "execution_count": null,
   "id": "346375c8",
   "metadata": {},
   "outputs": [],
   "source": [
    "# 1. API Key\n",
    "# 2. 내 컴퓨터와 AWS 연결 (환경설정을 한다)\n",
    "# 3. 해당 코드 작성\n",
    "# 4. 결과물 분석"
   ]
  },
  {
   "cell_type": "code",
   "execution_count": null,
   "id": "2a1b227a",
   "metadata": {},
   "outputs": [],
   "source": []
  },
  {
   "cell_type": "code",
   "execution_count": null,
   "id": "c5ee7c0f",
   "metadata": {},
   "outputs": [],
   "source": []
  },
  {
   "cell_type": "markdown",
   "id": "9f6f7ec0",
   "metadata": {},
   "source": [
    "# Dectecting Object with local file\n",
    "# 로컬 파일을 활용한 객체 감지"
   ]
  },
  {
   "cell_type": "code",
   "execution_count": 2,
   "id": "2850c8eb",
   "metadata": {},
   "outputs": [
    {
     "name": "stdout",
     "output_type": "stream",
     "text": [
      "Collecting boto3\n",
      "  Downloading boto3-1.26.162-py3-none-any.whl (135 kB)\n",
      "     -------------------------------------- 135.9/135.9 kB 2.0 MB/s eta 0:00:00\n",
      "Collecting botocore<1.30.0,>=1.29.162\n",
      "  Downloading botocore-1.29.162-py3-none-any.whl (11.0 MB)\n",
      "     ---------------------------------------- 11.0/11.0 MB 9.5 MB/s eta 0:00:00\n",
      "Requirement already satisfied: jmespath<2.0.0,>=0.7.1 in c:\\users\\gjaischool\\anaconda3\\lib\\site-packages (from boto3) (0.10.0)\n",
      "Collecting s3transfer<0.7.0,>=0.6.0\n",
      "  Downloading s3transfer-0.6.1-py3-none-any.whl (79 kB)\n",
      "     ---------------------------------------- 79.8/79.8 kB 4.6 MB/s eta 0:00:00\n",
      "Requirement already satisfied: python-dateutil<3.0.0,>=2.1 in c:\\users\\gjaischool\\anaconda3\\lib\\site-packages (from botocore<1.30.0,>=1.29.162->boto3) (2.8.2)\n",
      "Requirement already satisfied: urllib3<1.27,>=1.25.4 in c:\\users\\gjaischool\\anaconda3\\lib\\site-packages (from botocore<1.30.0,>=1.29.162->boto3) (1.26.14)\n",
      "Requirement already satisfied: six>=1.5 in c:\\users\\gjaischool\\anaconda3\\lib\\site-packages (from python-dateutil<3.0.0,>=2.1->botocore<1.30.0,>=1.29.162->boto3) (1.16.0)\n",
      "Installing collected packages: botocore, s3transfer, boto3\n",
      "Successfully installed boto3-1.26.162 botocore-1.29.162 s3transfer-0.6.1\n"
     ]
    }
   ],
   "source": [
    "!pip3 install boto3"
   ]
  },
  {
   "cell_type": "markdown",
   "id": "fc5ef0ee",
   "metadata": {},
   "source": [
    "- 샘플코드\n",
    "\n",
    "- AWS -> Amazon Rekognition"
   ]
  },
  {
   "cell_type": "code",
   "execution_count": 14,
   "id": "ad002117",
   "metadata": {},
   "outputs": [
    {
     "name": "stdout",
     "output_type": "stream",
     "text": [
      "{'Labels': [{'Name': 'Animal', 'Confidence': 97.24047088623047, 'Instances': [], 'Parents': [], 'Aliases': [], 'Categories': [{'Name': 'Animals and Pets'}]}, {'Name': 'Cat', 'Confidence': 97.24047088623047, 'Instances': [{'BoundingBox': {'Width': 0.4545239210128784, 'Height': 0.8413277268409729, 'Left': 0.20444364845752716, 'Top': 0.009693298488855362}, 'Confidence': 97.24047088623047}], 'Parents': [{'Name': 'Animal'}, {'Name': 'Mammal'}, {'Name': 'Pet'}], 'Aliases': [], 'Categories': [{'Name': 'Animals and Pets'}]}, {'Name': 'Mammal', 'Confidence': 97.24047088623047, 'Instances': [], 'Parents': [{'Name': 'Animal'}], 'Aliases': [], 'Categories': [{'Name': 'Animals and Pets'}]}, {'Name': 'Pet', 'Confidence': 97.24047088623047, 'Instances': [], 'Parents': [{'Name': 'Animal'}], 'Aliases': [], 'Categories': [{'Name': 'Animals and Pets'}]}, {'Name': 'Abyssinian', 'Confidence': 89.67634582519531, 'Instances': [], 'Parents': [{'Name': 'Animal'}, {'Name': 'Cat'}, {'Name': 'Mammal'}, {'Name': 'Pet'}], 'Aliases': [], 'Categories': [{'Name': 'Animals and Pets'}]}, {'Name': 'Kitten', 'Confidence': 56.027198791503906, 'Instances': [], 'Parents': [{'Name': 'Animal'}, {'Name': 'Cat'}, {'Name': 'Mammal'}, {'Name': 'Pet'}], 'Aliases': [], 'Categories': [{'Name': 'Animals and Pets'}]}], 'LabelModelVersion': '3.0', 'ResponseMetadata': {'RequestId': '7579d2c7-be39-4aa2-b381-fd0f7320503a', 'HTTPStatusCode': 200, 'HTTPHeaders': {'x-amzn-requestid': '7579d2c7-be39-4aa2-b381-fd0f7320503a', 'content-type': 'application/x-amz-json-1.1', 'content-length': '1206', 'date': 'Wed, 28 Jun 2023 07:20:18 GMT'}, 'RetryAttempts': 0}}\n",
      "Detected labels in cat.jpg\n",
      "Animal : 97.24047088623047\n",
      "Cat : 97.24047088623047\n",
      "Mammal : 97.24047088623047\n",
      "Pet : 97.24047088623047\n",
      "Abyssinian : 89.67634582519531\n",
      "Kitten : 56.027198791503906\n",
      "강아지가 아닙니다\n",
      "Labels detected: 6\n"
     ]
    }
   ],
   "source": [
    "#Copyright 2018 Amazon.com, Inc. or its affiliates. All Rights Reserved.\n",
    "#PDX-License-Identifier: MIT-0 (For details, see https://github.com/awsdocs/amazon-rekognition-developer-guide/blob/master/LICENSE-SAMPLECODE.)\n",
    "\n",
    "import boto3\n",
    "\n",
    "def detect_labels_local_file(photo):\n",
    "\n",
    "\n",
    "    client=boto3.client('rekognition')\n",
    "   \n",
    "    with open(photo, 'rb') as image:\n",
    "        response = client.detect_labels(Image={'Bytes': image.read()})\n",
    "        \n",
    "        print(response)\n",
    "        \n",
    "        \n",
    "        \n",
    "    print('Detected labels in ' + photo)\n",
    "    \n",
    "    \n",
    "    \n",
    "    isDog = False\n",
    "    \n",
    "    for label in response['Labels']:\n",
    "        print (label['Name'] + ' : ' + str(label['Confidence']))\n",
    "        if label['Name'] == 'Dog':\n",
    "            print('강아지일 확률은 {:.2f}%입니다'.format(label['Confidence']))\n",
    "            isDog = True\n",
    "            \n",
    "            \n",
    "    if isDog == False:\n",
    "        print('강아지가 아닙니다')\n",
    "        \n",
    "        \n",
    "            \n",
    "        # 강아지가 아닌 사진을 올렸을 때,\n",
    "        # \"강아지가 아닙니다\" 출력\n",
    "    \n",
    "\n",
    "    return len(response['Labels'])\n",
    "\n",
    "def main():\n",
    "    photo='cat.jpg'\n",
    "\n",
    "    label_count=detect_labels_local_file(photo)\n",
    "    print(\"Labels detected: \" + str(label_count))\n",
    "\n",
    "\n",
    "if __name__ == \"__main__\":\n",
    "    main()\n",
    "\n",
    "\n",
    "\n"
   ]
  },
  {
   "cell_type": "markdown",
   "id": "cb12e771",
   "metadata": {},
   "source": [
    "# Comparing Faces\n",
    "\n",
    "# 얼굴 비교"
   ]
  },
  {
   "cell_type": "code",
   "execution_count": 23,
   "id": "ffb857dd",
   "metadata": {},
   "outputs": [
    {
     "name": "stdout",
     "output_type": "stream",
     "text": [
      "동일 인물일 확률은 11.56%입니다\n",
      "Face matches: 1\n"
     ]
    }
   ],
   "source": [
    "# Copyright 2018 Amazon.com, Inc. or its affiliates. All Rights Reserved.\n",
    "# PDX-License-Identifier: MIT-0 (For details, see https://github.com/awsdocs/amazon-rekognition-developer-guide/blob/master/LICENSE-SAMPLECODE.)\n",
    "\n",
    "import boto3\n",
    "\n",
    "def compare_faces(sourceFile, targetFile):\n",
    "\n",
    "    client = boto3.client('rekognition')\n",
    "\n",
    "    imageSource = open(sourceFile, 'rb')\n",
    "    imageTarget = open(targetFile, 'rb')\n",
    "\n",
    "    response = client.compare_faces(SimilarityThreshold=0,\n",
    "                                    SourceImage={'Bytes': imageSource.read()},\n",
    "                                    TargetImage={'Bytes': imageTarget.read()})\n",
    "\n",
    "    for faceMatch in response['FaceMatches']:\n",
    "        position = faceMatch['Face']['BoundingBox']\n",
    "        \n",
    "        \n",
    "        print('동일 인물일 확률은 {:.2f}%입니다'.format(faceMatch['Similarity']))\n",
    "        \n",
    "        \n",
    "  #      similarity = str(faceMatch['Similarity'])\n",
    "   #     print('The face at ' +\n",
    "   #           str(position['Left']) + ' ' +\n",
    "    #          str(position['Top']) +\n",
    "     #         ' matches with ' + similarity + '% confidence')\n",
    "\n",
    "    imageSource.close()\n",
    "    imageTarget.close()\n",
    "    return len(response['FaceMatches'])\n",
    "\n",
    "def main():\n",
    "    source_file = 'russia.jpg'\n",
    "    target_file = 'ji.jpg'\n",
    "    face_matches = compare_faces(source_file, target_file)\n",
    "    print(\"Face matches: \" + str(face_matches))\n",
    "\n",
    "if __name__ == \"__main__\":\n",
    "    main()"
   ]
  },
  {
   "cell_type": "code",
   "execution_count": 30,
   "id": "f7e317fb",
   "metadata": {},
   "outputs": [
    {
     "name": "stdout",
     "output_type": "stream",
     "text": [
      "Detected faces for russia.jpg\n",
      "The detected face is between 21 and 29 years old\n",
      "Gender: {'Value': 'Male', 'Confidence': 99.83574676513672}\n",
      "Smile: {'Value': False, 'Confidence': 94.8886489868164}\n",
      "Emotions: {'Type': 'CALM', 'Confidence': 98.67152404785156}\n",
      "The detected face is between 10 and 18 years old\n",
      "Gender: {'Value': 'Male', 'Confidence': 93.4314193725586}\n",
      "Smile: {'Value': False, 'Confidence': 84.39972686767578}\n",
      "Emotions: {'Type': 'CALM', 'Confidence': 59.624237060546875}\n",
      "The detected face is between 21 and 29 years old\n",
      "Gender: {'Value': 'Male', 'Confidence': 61.27825927734375}\n",
      "Smile: {'Value': False, 'Confidence': 92.93805694580078}\n",
      "Emotions: {'Type': 'CALM', 'Confidence': 96.7998046875}\n",
      "Faces detected: 3\n"
     ]
    }
   ],
   "source": [
    "import boto3\n",
    "\n",
    "def detect_faces(photo):\n",
    "    \n",
    "    client = boto3.client('rekognition')\n",
    "    \n",
    "    with open(photo, 'rb') as image:\n",
    "        response = client.detect_faces(Image={'Bytes': image.read()}, Attributes=['ALL'])\n",
    "\n",
    "    print('Detected faces for ' + photo)\n",
    "    for faceDetail in response['FaceDetails']:\n",
    "        print('The detected face is between ' + str(faceDetail['AgeRange']['Low'])\n",
    "              + ' and ' + str(faceDetail['AgeRange']['High']) + ' years old')\n",
    "\n",
    "#         print('Here are the other attributes:')\n",
    "#         print(json.dumps(faceDetail, indent=4, sort_keys=True))\n",
    "\n",
    "        # Access predictions for individual face details and print them\n",
    "        print(\"Gender: \" + str(faceDetail['Gender']))\n",
    "        print(\"Smile: \" + str(faceDetail['Smile']))\n",
    "        print(\"Emotions: \" + str(faceDetail['Emotions'][0]))\n",
    "\n",
    "    return len(response['FaceDetails'])\n",
    "    \n",
    "def main():\n",
    "    photo='russia.jpg'\n",
    "    face_count=detect_faces(photo)\n",
    "    print(\"Faces detected: \" + str(face_count))\n",
    "\n",
    "if __name__ == \"__main__\":\n",
    "    main()"
   ]
  },
  {
   "cell_type": "code",
   "execution_count": null,
   "id": "d8344dc4",
   "metadata": {},
   "outputs": [],
   "source": []
  },
  {
   "cell_type": "code",
   "execution_count": null,
   "id": "7f4cc3c4",
   "metadata": {},
   "outputs": [],
   "source": []
  },
  {
   "cell_type": "code",
   "execution_count": null,
   "id": "183e312b",
   "metadata": {},
   "outputs": [],
   "source": []
  },
  {
   "cell_type": "code",
   "execution_count": null,
   "id": "7a3e26c5",
   "metadata": {},
   "outputs": [],
   "source": []
  },
  {
   "cell_type": "code",
   "execution_count": null,
   "id": "6129bfac",
   "metadata": {},
   "outputs": [],
   "source": []
  }
 ],
 "metadata": {
  "kernelspec": {
   "display_name": "Python 3 (ipykernel)",
   "language": "python",
   "name": "python3"
  },
  "language_info": {
   "codemirror_mode": {
    "name": "ipython",
    "version": 3
   },
   "file_extension": ".py",
   "mimetype": "text/x-python",
   "name": "python",
   "nbconvert_exporter": "python",
   "pygments_lexer": "ipython3",
   "version": "3.10.9"
  }
 },
 "nbformat": 4,
 "nbformat_minor": 5
}

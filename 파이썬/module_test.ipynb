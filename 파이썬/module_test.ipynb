{
 "cells": [
  {
   "cell_type": "code",
   "execution_count": 5,
   "id": "71c55f69",
   "metadata": {},
   "outputs": [],
   "source": [
    "# 만든 모듈 사용하기\n",
    "# 모듈 이름을 파일명과 동일하게 사용하기(ex module_test01.py > import module )\n",
    "# 직접 만든 module_test를 읽어오는데 성공했습니다.\n",
    "# as 별명\n",
    "import module_test as mt # module_test01을 ㅡmt라는 별명으로 사용"
   ]
  },
  {
   "cell_type": "code",
   "execution_count": 6,
   "id": "907aa98b",
   "metadata": {},
   "outputs": [
    {
     "ename": "NameError",
     "evalue": "name 'module_test' is not defined",
     "output_type": "error",
     "traceback": [
      "\u001b[1;31m---------------------------------------------------------------------------\u001b[0m",
      "\u001b[1;31mNameError\u001b[0m                                 Traceback (most recent call last)",
      "Cell \u001b[1;32mIn[6], line 4\u001b[0m\n\u001b[0;32m      1\u001b[0m \u001b[38;5;66;03m# module_test가 가지고 있는 함수들\u001b[39;00m\n\u001b[0;32m      2\u001b[0m \u001b[38;5;66;03m# sum_test\u001b[39;00m\n\u001b[0;32m      3\u001b[0m \u001b[38;5;66;03m# mul_test\u001b[39;00m\n\u001b[1;32m----> 4\u001b[0m \u001b[43mmodule_test\u001b[49m\u001b[38;5;241m.\u001b[39msum_test(\u001b[38;5;241m1\u001b[39m,\u001b[38;5;241m6\u001b[39m)\n\u001b[0;32m      5\u001b[0m mt\u001b[38;5;241m.\u001b[39msum_test(\u001b[38;5;241m6\u001b[39m,\u001b[38;5;241m2\u001b[39m)\n",
      "\u001b[1;31mNameError\u001b[0m: name 'module_test' is not defined"
     ]
    }
   ],
   "source": [
    "# module_test가 가지고 있는 함수들\n",
    "# sum_test\n",
    "# mul_test\n",
    "module_test.sum_test(1,6)\n",
    "mt.sum_test(6,2)"
   ]
  },
  {
   "cell_type": "code",
   "execution_count": null,
   "id": "5e606d88",
   "metadata": {},
   "outputs": [],
   "source": [
    "# 모듈 안에 있는 함수 한개 불러오기\n",
    "from module_test import sum_test"
   ]
  },
  {
   "cell_type": "code",
   "execution_count": null,
   "id": "41a69724",
   "metadata": {},
   "outputs": [],
   "source": [
    "sum_test(2, 7)"
   ]
  },
  {
   "cell_type": "code",
   "execution_count": null,
   "id": "d8fde986",
   "metadata": {},
   "outputs": [],
   "source": []
  },
  {
   "cell_type": "code",
   "execution_count": null,
   "id": "9b74a495",
   "metadata": {},
   "outputs": [],
   "source": []
  }
 ],
 "metadata": {
  "kernelspec": {
   "display_name": "Python 3 (ipykernel)",
   "language": "python",
   "name": "python3"
  },
  "language_info": {
   "codemirror_mode": {
    "name": "ipython",
    "version": 3
   },
   "file_extension": ".py",
   "mimetype": "text/x-python",
   "name": "python",
   "nbconvert_exporter": "python",
   "pygments_lexer": "ipython3",
   "version": "3.10.9"
  }
 },
 "nbformat": 4,
 "nbformat_minor": 5
}

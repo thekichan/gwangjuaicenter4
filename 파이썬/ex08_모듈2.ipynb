{
 "cells": [
  {
   "cell_type": "code",
   "execution_count": null,
   "id": "8d615eab",
   "metadata": {},
   "outputs": [],
   "source": [
    "# 모듈(Module)\n",
    "# 함수들이 모여있는 파일\n",
    "# 함수가 기본적으로 가지고 있는 특징 공유\n",
    "# 모듈을 만들게 되면 파일만 가지고 있어도 모듈안의 함수 사용 가능\n",
    "# 파이썬 파일(확장자가 py인 파일)로 저장"
   ]
  },
  {
   "cell_type": "code",
   "execution_count": 3,
   "id": "f760495a",
   "metadata": {},
   "outputs": [
    {
     "data": {
      "text/plain": [
       "6"
      ]
     },
     "execution_count": 3,
     "metadata": {},
     "output_type": "execute_result"
    }
   ],
   "source": [
    "def sum_test(num1, num2):\n",
    "    return num1 + num2\n",
    "sum_test(1,5)"
   ]
  },
  {
   "cell_type": "code",
   "execution_count": 4,
   "id": "f1295423",
   "metadata": {},
   "outputs": [
    {
     "data": {
      "text/plain": [
       "5"
      ]
     },
     "execution_count": 4,
     "metadata": {},
     "output_type": "execute_result"
    }
   ],
   "source": [
    "def multi_test(num1, num2):\n",
    "    return num1 * num2\n",
    "multi_test(1,5)"
   ]
  },
  {
   "cell_type": "code",
   "execution_count": null,
   "id": "a860f197",
   "metadata": {},
   "outputs": [],
   "source": []
  },
  {
   "cell_type": "code",
   "execution_count": null,
   "id": "376da733",
   "metadata": {},
   "outputs": [],
   "source": []
  },
  {
   "cell_type": "code",
   "execution_count": null,
   "id": "7148a41d",
   "metadata": {},
   "outputs": [],
   "source": []
  },
  {
   "cell_type": "code",
   "execution_count": null,
   "id": "2803613f",
   "metadata": {},
   "outputs": [],
   "source": []
  }
 ],
 "metadata": {
  "kernelspec": {
   "display_name": "Python 3 (ipykernel)",
   "language": "python",
   "name": "python3"
  },
  "language_info": {
   "codemirror_mode": {
    "name": "ipython",
    "version": 3
   },
   "file_extension": ".py",
   "mimetype": "text/x-python",
   "name": "python",
   "nbconvert_exporter": "python",
   "pygments_lexer": "ipython3",
   "version": "3.10.9"
  }
 },
 "nbformat": 4,
 "nbformat_minor": 5
}
